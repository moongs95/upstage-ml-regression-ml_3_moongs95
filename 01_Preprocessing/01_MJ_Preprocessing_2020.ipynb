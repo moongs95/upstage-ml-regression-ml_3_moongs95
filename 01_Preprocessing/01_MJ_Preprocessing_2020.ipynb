{
 "cells": [
  {
   "cell_type": "markdown",
   "id": "024335d0-68d0-451f-b178-3c491353baa9",
   "metadata": {},
   "source": [
    "### 필요한 모듈 imoprt"
   ]
  },
  {
   "cell_type": "code",
   "execution_count": null,
   "id": "19e39808",
   "metadata": {},
   "outputs": [],
   "source": [
    "# 필요한 모듈 import\n",
    "import pandas as pd\n",
    "import numpy as np\n",
    "import re\n",
    "import math\n",
    "\n",
    "import matplotlib.pyplot as plt\n",
    "import seaborn as sns\n",
    "\n",
    "from scipy.spatial import cKDTree\n",
    "from sklearn.neighbors import BallTree\n",
    "\n",
    "import warnings\n",
    "warnings.filterwarnings('ignore')"
   ]
  },
  {
   "cell_type": "code",
   "execution_count": null,
   "id": "58bdf4c4",
   "metadata": {},
   "outputs": [],
   "source": [
    "plt.rcParams['font.family'] ='NanumGothic'\n",
    "plt.rcParams['axes.unicode_minus'] =False"
   ]
  },
  {
   "cell_type": "code",
   "execution_count": null,
   "id": "38c68f1a",
   "metadata": {},
   "outputs": [],
   "source": [
    "# test 데이터 확인하기\n",
    "test = pd.read_csv('./train-test/test_for_model_add_xy.csv', encoding='utf-8')"
   ]
  },
  {
   "cell_type": "code",
   "execution_count": null,
   "id": "f82cbdd6-b1a3-4c70-8efa-488192425cdf",
   "metadata": {},
   "outputs": [],
   "source": [
    "test.info()"
   ]
  },
  {
   "cell_type": "code",
   "execution_count": null,
   "id": "1984fe05",
   "metadata": {},
   "outputs": [],
   "source": [
    "# 학습 데이터 로드\n",
    "df = pd.read_csv('./train-test/train_for_model_add_xy.csv', encoding='utf-8')"
   ]
  },
  {
   "cell_type": "code",
   "execution_count": null,
   "id": "2b2dbaa3",
   "metadata": {},
   "outputs": [],
   "source": [
    "df.info()"
   ]
  },
  {
   "cell_type": "code",
   "execution_count": null,
   "id": "695b305b-bf58-4f53-b175-ffcc9327f085",
   "metadata": {},
   "outputs": [],
   "source": [
    "# 계약년, 월 열 생성\n",
    "df['계약년'] = df['계약년월'].astype('str').str[:4]\n",
    "df['계약월'] = df['계약년월'].astype('str').str[4:]"
   ]
  },
  {
   "cell_type": "code",
   "execution_count": null,
   "id": "cbc891f7-df03-4164-98aa-589ca4ae5faf",
   "metadata": {},
   "outputs": [],
   "source": [
    "test['계약년'] = test['계약년월'].astype('str').str[:4]\n",
    "test['계약월'] = test['계약년월'].astype('str').str[4:]"
   ]
  },
  {
   "cell_type": "code",
   "execution_count": null,
   "id": "75dc9195-e73e-49fc-8bcd-399a982561da",
   "metadata": {},
   "outputs": [],
   "source": [
    "df['계약년'].value_counts().plot(kind='bar') # 2015부터 사용\n",
    "plt.title('연도별 데이터 분포')\n",
    "plt.show()\n",
    "# plt.savefig('./visualization/연도별 데이터 분포.png')"
   ]
  },
  {
   "cell_type": "code",
   "execution_count": null,
   "id": "a79f668f-ae32-4bcc-80fb-ab313ef0eed4",
   "metadata": {},
   "outputs": [],
   "source": [
    "df.groupby('계약년')['target'].mean().plot()\n",
    "plt.title('연도별 매매가격 변화')\n",
    "plt.show()\n",
    "# plt.savefig('./visualization/연도별 데이터 분포.png')"
   ]
  },
  {
   "cell_type": "markdown",
   "id": "18245799-0750-415c-92e9-e9ae8dcf1023",
   "metadata": {},
   "source": [
    "### Feature Engineering"
   ]
  },
  {
   "cell_type": "code",
   "execution_count": null,
   "id": "13aa4654-23cf-4056-9947-9c448a0151c1",
   "metadata": {},
   "outputs": [],
   "source": [
    "def feature_engineering(df):\n",
    "    # 내부 데이터로 파생변수 생성\n",
    "    # 전용면적 로그 변환\n",
    "    df[\"전용면적(log)\"] = np.log1p(df[\"전용면적(㎡)\"])\n",
    "\n",
    "    # 전용면적 구간화\n",
    "    df[\"전용면적구간\"] = 0\n",
    "    \n",
    "    df.loc[df['전용면적(㎡)'] < 59, '전용면적구간'] = '59㎡미만'\n",
    "    df.loc[(df[\"전용면적(㎡)\"] >= 59) & (df[\"전용면적(㎡)\"] < 60), '전용면적구간'] = '약59㎡'\n",
    "    df.loc[(df[\"전용면적(㎡)\"] >= 60) & (df[\"전용면적(㎡)\"] < 84), '전용면적구간'] = '60㎡이상84㎡미만'\n",
    "    df.loc[(df[\"전용면적(㎡)\"] >= 84) & (df[\"전용면적(㎡)\"] < 85), '전용면적구간'] = '약84㎡'\n",
    "    df.loc[df['전용면적(㎡)'] >= 85, '전용면적구간'] = '85㎡이상'\n",
    "    \n",
    "    # 전용면적 평수 변환\n",
    "    df[\"평수\"] = df[\"전용면적(㎡)\"] / 3.3\n",
    "\n",
    "    # 연식(계약년-건축년도)\n",
    "    df['계약년'] = df['계약년'].astype('int')\n",
    "    df['연식'] = df['계약년'] - df['건축년도']\n",
    "    df.loc[df['연식'] < 0, '연식'] = 0\n",
    "\n",
    "    # 신축 / 재건축 라벨링\n",
    "    df['신축(10년 미만)'] = (df['연식'] < 10).astype(int)\n",
    "    df['재건축 연한(30년 이상)'] = (df['연식'] >= 30).astype(int)\n",
    "    \n",
    "    # 강남권 여부\n",
    "    df['강남권여부'] = df['구'].apply(lambda x: 1 if x in ['강남구', '서초구', '송파구'] else 0)\n",
    "\n",
    "    # 우수학군\n",
    "    df['우수학군'] = df['구'].apply(lambda x: 1 if x in ['강남구', '양천구', '노원구', '서초구', '송파구', '마포구'] else 0)\n",
    "\n",
    "    # 프리미엄아파트 여부\n",
    "    df['프리미엄아파트'] = df['구'].apply(lambda x: 1 if x in ['강남구', '용산구', '성동구'] else 0)\n",
    "    \n",
    "    # # 층 구간화\n",
    "    bins = [-15, 5, 15, float('inf')]\n",
    "    labels = [\"저층\", \"중층\", \"고층\"]\n",
    "    df[\"층\"] = pd.cut(df[\"층\"], bins = bins, labels = labels)\n",
    "\n",
    "    # zone4 생성 및 원-핫 인코딩\n",
    "    CBD = {'종로구','중구','용산구'}\n",
    "    GANGNAM3 = {'강남구','서초구','송파구'}\n",
    "    INNER = {'마포구','성동구','광진구','동대문구','서대문구','성북구','영등포구','양천구','동작구','관악구','강동구'}\n",
    "\n",
    "    def map_zone(gu):\n",
    "        if gu in CBD: return '도심'\n",
    "        if gu in GANGNAM3: return '강남3'\n",
    "        if gu in INNER: return '내부권'\n",
    "        return '외곽'\n",
    "\n",
    "    df['zone4'] = df['구'].map(map_zone)\n",
    "    zone_dummies = pd.get_dummies(df['zone4'], prefix='zone4')\n",
    "    df[zone_dummies.columns] = zone_dummies\n",
    "\n",
    "    print(f'내부 데이터 feature engineering 완료: {df.shape}')\n",
    "    return df"
   ]
  },
  {
   "cell_type": "code",
   "execution_count": null,
   "id": "77d69148-94a3-4631-a2bf-1c950afc7876",
   "metadata": {},
   "outputs": [],
   "source": [
    "print('train')\n",
    "train = feature_engineering(df)\n",
    "print('\\ntest')\n",
    "test = feature_engineering(test)"
   ]
  },
  {
   "cell_type": "markdown",
   "id": "ba8b429f-2d59-4eea-af67-f1ab2d07cd85",
   "metadata": {},
   "source": [
    "### 외부데이터 feature 추가"
   ]
  },
  {
   "cell_type": "markdown",
   "id": "71967a2f-d34f-4cc0-a8ba-c93e8d6ed44c",
   "metadata": {},
   "source": [
    "#### 1. 대장아파트"
   ]
  },
  {
   "cell_type": "code",
   "execution_count": null,
   "id": "69bf250f-1da2-4f7b-8efb-3ea3d37d63bf",
   "metadata": {},
   "outputs": [],
   "source": [
    "# 대장아파트와 거리\n",
    "def top_apt_dis(df):\n",
    "    # 구별 대장아파트 목록\n",
    "    lead_house = {\n",
    "        \"강서구\" : (37.56520754904415, 126.82349451366355),\n",
    "        \"관악구\" : (37.47800896704934, 126.94178722423047),\n",
    "        \"강남구\" : (37.530594054209146, 127.0262701317293),\n",
    "        \"강동구\" : (37.557175745977375, 127.16359581113558),\n",
    "        \"광진구\" : (37.543083184171, 127.0998363490422),\n",
    "        \"구로구\" : (37.51045944660659, 126.88687199829572),\n",
    "        \"금천구\" : (37.459818907487936, 126.89741481874103),\n",
    "        \"노원구\" : (37.63952738902813, 127.07234254197617),\n",
    "        \"도봉구\" : (37.65775043994647, 127.04345013224447),\n",
    "        \"동대문구\" : (37.57760781415707, 127.05375628992316),\n",
    "        \"동작구\" : (37.509881249641495, 126.9618159122961),\n",
    "        \"마포구\" : (37.54341664563958, 126.93601641235335),\n",
    "        \"서대문구\" : (37.55808950436837, 126.9559315685538),\n",
    "        \"서초구\" : (37.50625410912666, 126.99846468032919),\n",
    "        \"성동구\" : (37.53870643389788, 127.04496220606433),\n",
    "        \"성북구\" : (37.61158435092128, 127.02699796439015),\n",
    "        \"송파구\" : (37.512817775046074, 127.08340371063358),\n",
    "        \"양천구\" : (37.526754982736556, 126.86618704123521),\n",
    "        \"영등포구\" : (37.52071403351804, 126.93668907644046),\n",
    "        \"용산구\" : (37.521223570097305, 126.97345317787784),\n",
    "        \"은평구\" : (37.60181702377437, 126.9362806808709),\n",
    "        \"종로구\" : (37.56856915384472, 126.96687674967252),\n",
    "        \"중구\" : (37.5544678205846, 126.9634879236162),\n",
    "        \"중랑구\" : (37.58171824083332, 127.08183326205129),\n",
    "        \"강북구\" : (37.61186335979484, 127.02822407466175)\n",
    "    }\n",
    "    \n",
    "    # 위경도를 이용해 두 지점간의 거리를 구하는 함수를 생성\n",
    "    def haversine_distance(lat1, lon1, lat2, lon2):\n",
    "        radius = 6371.0\n",
    "    \n",
    "        lat1 = math.radians(lat1)\n",
    "        lon1 = math.radians(lon1)\n",
    "        lat2 = math.radians(lat2)\n",
    "        lon2 = math.radians(lon2)\n",
    "    \n",
    "        dlon = lon2 - lon1\n",
    "        dlat = lat2 - lat1\n",
    "        a = math.sin(dlat / 2) ** 2 + math.cos(lat1) * math.cos(lat2) * math.sin(dlon / 2) ** 2\n",
    "        c = 2 * math.atan2(math.sqrt(a), math.sqrt(1 - a))\n",
    "    \n",
    "        distance = radius * c\n",
    "        return distance\n",
    "\n",
    "    # 대장 아파트의 위경도 데이터프레임을 구성\n",
    "    lead_house_data = pd.DataFrame([{\"구\": k, \"대장_좌표X\": v[1], \"대장_좌표Y\": v[0]} for k, v in lead_house.items()])\n",
    "\n",
    "    # 데이터프레임 간 결합\n",
    "    df = df.merge(lead_house_data, how=\"left\", on=\"구\")\n",
    "\n",
    "    # haversine_distance 함수를 이용해 대장아파트와의 거리를 계산, 새롭게 컬럼을 구성\n",
    "    df['대장아파트거리'] = df.apply(lambda row: haversine_distance(row[\"y좌표\"], row[\"x좌표\"], row[\"대장_좌표Y\"], row[\"대장_좌표X\"]), axis=1)\n",
    "\n",
    "    # 필요없는 열 빼기\n",
    "    df = df.drop(['대장_좌표X', '대장_좌표Y'], axis=1)\n",
    "\n",
    "    # 대장아파트거리 fe\n",
    "    # 대장아파트거리 log scale\n",
    "    df['대장아파트거리(log)'] = np.log1p(df['대장아파트거리'])\n",
    "\n",
    "    # 대장아파트거리 구간화\n",
    "    df.loc[df['대장아파트거리'] <= 0.3, '대장아파트거리접근성'] = 'A초근접'\n",
    "    df.loc[(df['대장아파트거리'] > 0.3) & (df['대장아파트거리'] <= 0.8), '대장아파트거리접근성'] = 'B근접'\n",
    "    df.loc[(df['대장아파트거리'] > 0.8) & (df['대장아파트거리'] <= 1.5), '대장아파트거리접근성'] = 'C중간'\n",
    "    df.loc[(df['대장아파트거리'] > 1.5) & (df['대장아파트거리'] <= 3), '대장아파트거리접근성'] = 'D멀음'\n",
    "    df.loc[(df['대장아파트거리'] > 3), '대장아파트거리접근성'] = 'E매우멀음'\n",
    "\n",
    "    print(f'대장아파트 feature 생성: {df.shape}')\n",
    "    return df"
   ]
  },
  {
   "cell_type": "code",
   "execution_count": null,
   "id": "1a4c77a8-3940-48e5-b5c2-bb2e88181e93",
   "metadata": {},
   "outputs": [],
   "source": [
    "print('train')\n",
    "train = top_apt_dis(train)\n",
    "print('\\ntest')\n",
    "test = top_apt_dis(test)"
   ]
  },
  {
   "cell_type": "markdown",
   "id": "b9426b2a-beae-4936-b619-65a8cb2745bc",
   "metadata": {},
   "source": [
    "#### 2. 경제지표"
   ]
  },
  {
   "cell_type": "markdown",
   "id": "79260220-4928-48b0-a242-724a8baed697",
   "metadata": {},
   "source": [
    "#### 3. 교통"
   ]
  },
  {
   "cell_type": "code",
   "execution_count": null,
   "id": "f8116e81-b0f6-4310-8cb8-635fd98d2514",
   "metadata": {},
   "outputs": [],
   "source": [
    "# 버스, 지하철 거리(BallTree사용)\n",
    "# bus, subway 데이터 불러오기\n",
    "bus_df = pd.read_csv('./ml-outdata/bus_feature.csv', encoding='utf-8')\n",
    "subway_df = pd.read_csv('./ml-outdata/subway_feature.csv', encoding='utf-8')\n",
    "\n",
    "def bus_subway_feature(df, bus_df, subway_df):\n",
    "    # df: ['y좌표', 'x좌표']\n",
    "    # bus_df: ['Y좌표', 'X좌표']\n",
    "    # subway_df: ['위도', '경도']\n",
    "\n",
    "    # radian 변환 (위도 = y좌표, 경도 = x좌표)\n",
    "    apt_coords = np.radians(df[['y좌표', 'x좌표']].values)\n",
    "    bus_coords = np.radians(bus_df[['Y좌표', 'X좌표']].values)\n",
    "    subway_coords = np.radians(subway_df[['위도', '경도']].values)\n",
    "    \n",
    "    # BallTree (하버사인 거리 사용)\n",
    "    bus_tree = BallTree(bus_coords, metric='haversine')\n",
    "    subway_tree = BallTree(subway_coords, metric='haversine')\n",
    "    \n",
    "    # 최근접 이웃 (k=1 → 가장 가까운 것 하나)\n",
    "    dist_bus, idx_bus = bus_tree.query(apt_coords, k=1)\n",
    "    dist_subway, idx_subway = subway_tree.query(apt_coords, k=1)\n",
    "    \n",
    "    # radian → km 변환\n",
    "    R = 6371  # 지구 반지름 (km)\n",
    "    df['버스거리'] = dist_bus[:, 0] * R\n",
    "    df['지하철거리'] = dist_subway[:, 0] * R\n",
    "\n",
    "    # 1km 이내 지하철 개수 feature\n",
    "    # 1km -> radian 거리로 변환\n",
    "    radius_km = 1.0\n",
    "    radius_rad = radius_km / 6371  # 지구 반지름 R=6371km\n",
    "\n",
    "    # query_radius 사용\n",
    "    subway_count = subway_tree.query_radius(apt_coords, r=radius_rad, count_only=True)\n",
    "    df['1km이내지하철수'] = subway_count\n",
    "\n",
    "    print(f\"1km 이내 지하철 개수 feature 추가 완료: min={subway_count.min()}, max={subway_count.max()}\")\n",
    "\n",
    "    # 지하철 거리 구간화 -> 접근성 feature 생성\n",
    "    df['지하철접근성'] = np.select(\n",
    "        [\n",
    "            df['지하철거리'] <= 0.5,             # 5점: 500m 이내\n",
    "            (df['지하철거리'] > 0.5) & (df['지하철거리'] <= 1.0),  # 4점: 0.5~1km\n",
    "            (df['지하철거리'] > 1.0) & (df['지하철거리'] <= 2.0),  # 3점: 1~2km\n",
    "            (df['지하철거리'] > 2.0) & (df['지하철거리'] <= 3.0)   # 2점: 2~3km\n",
    "        ],\n",
    "        [5, 4, 3, 2],\n",
    "        default=1  # 3km 초과\n",
    "    )\n",
    "    \n",
    "    # 분포 확인\n",
    "    counts = df['지하철접근성'].value_counts().sort_index()\n",
    "    ratios = counts / len(df) * 100\n",
    "    \n",
    "    print(\"\\n 지하철접근성 5단계 분포 \")\n",
    "    for 단계, cnt in counts.items():\n",
    "        print(f\"{단계}점: {cnt}개 ({ratios[단계]:.1f}%)\")\n",
    "\n",
    "    print(f'\\n교통 feature 추가: {df.shape}')\n",
    "    return df"
   ]
  },
  {
   "cell_type": "code",
   "execution_count": null,
   "id": "8ed78f3d-d69c-4e50-8375-d13f2e45fc98",
   "metadata": {},
   "outputs": [],
   "source": [
    "print('train')\n",
    "train = bus_subway_feature(train, bus_df, subway_df)\n",
    "print('\\ntest')\n",
    "test = bus_subway_feature(test, bus_df, subway_df)"
   ]
  },
  {
   "cell_type": "markdown",
   "id": "fad9f9d0-6691-4aa4-a3ea-3e21fabd954a",
   "metadata": {},
   "source": [
    "#### 4. 학교"
   ]
  },
  {
   "cell_type": "code",
   "execution_count": null,
   "id": "ade97000-eabf-467c-b432-af5c592c530b",
   "metadata": {},
   "outputs": [],
   "source": [
    "# 학군 외부데이터 feature\n",
    "# 학교 데이터 불러오기\n",
    "schools = pd.read_csv('./ml-outdata/#서울시 학교 (초+중+고) - 시트1.csv', encoding='utf-8')\n",
    "# 학교별 분리 (열 이름: '학교종류명', '위도', '경도')\n",
    "el_schools = schools[schools['학교종류명'] == '초등학교']\n",
    "\n",
    "# 진학률 데이터 불러오기 및 전처리\n",
    "in_high_school = pd.read_csv('./ml-outdata/고등학교 진학률_특목고.csv', encoding='utf-8')\n",
    "in_high_school = in_high_school.iloc[4:, :].rename(columns={'자치구별(2)':'구'})\n",
    "in_high_school = in_high_school.reset_index(drop=True)\n",
    "in_high_school = in_high_school.melt(id_vars=['구'], var_name='계약년', value_name='고등학교진학률')\n",
    "\n",
    "def school_feature(df, schools, el_schools, in_high_school): \n",
    "    # 1km 이내 학교 수 feature\n",
    "    # df['y좌표', 'x좌표']\n",
    "    # schools['위도', '경도']\n",
    "    # --------------------------\n",
    "    \n",
    "    # 위경도를 라디안으로 변환\n",
    "    df_coords = np.radians(df[['y좌표', 'x좌표']].values)\n",
    "    school_coords = np.radians(schools[['위도', '경도']].values)\n",
    "    \n",
    "    # BallTree 구축 (haversine metric)\n",
    "    tree = BallTree(school_coords, metric='haversine')\n",
    "    \n",
    "    # 1km 반경 (반경 단위 = 라디안)\n",
    "    radius_km = 1\n",
    "    radius_rad = radius_km / 6371  # 지구 반지름 6371 km\n",
    "    \n",
    "    # 학교 수 계산\n",
    "    school_counts = tree.query_radius(df_coords, r=radius_rad, count_only=True)\n",
    "    df['1km이내학교수'] = school_counts\n",
    "    \n",
    "    print(f\"1km 이내 학교 개수 feature 추가 완료: min={school_counts.min()}, max={school_counts.max()}\")\n",
    "    \n",
    "    # 가장 가까운 초등학교 거리 feature\n",
    "    # train: ['y좌표', 'x좌표']\n",
    "    # el_schools: ['위도', '경도']\n",
    "    \n",
    "    # radian 변환 (위도 = y좌표, 경도 = x좌표)\n",
    "    apt_coords = np.radians(df[['y좌표', 'x좌표']].values)\n",
    "    school_coords = np.radians(el_schools[['위도', '경도']].values)\n",
    "    \n",
    "    # BallTree (하버사인 거리 사용)\n",
    "    school_tree = BallTree(school_coords, metric='haversine')\n",
    "    # 최근접 이웃 (k=1 → 가장 가까운 것 하나)\n",
    "    dist_school, idx_school = school_tree.query(apt_coords, k=1)\n",
    "    \n",
    "    # radian → km 변환\n",
    "    R = 6371  # 지구 반지름 (km)\n",
    "    df['초등학교거리'] = dist_school[:, 0] * R\n",
    "\n",
    "    # 초등학교를 도보로 갈 수 있는지 여부가 중요\n",
    "    # 초등학교거리를 바탕으로 차등점수\n",
    "    df['초등학교거리구분'] = 0\n",
    "    \n",
    "    df.loc[df['초등학교거리'] <= 0.3, '초등학교거리구분'] = 5\n",
    "    df.loc[(df['초등학교거리'] > 0.3) & (df['초등학교거리'] <= 0.5), '초등학교거리구분'] = 4\n",
    "    df.loc[(df['초등학교거리'] > 0.5) & (df['초등학교거리'] <= 0.7), '초등학교거리구분'] = 3\n",
    "    df.loc[(df['초등학교거리'] > 0.7) & (df['초등학교거리'] <= 1), '초등학교거리구분'] = 2\n",
    "    df.loc[df['초등학교거리'] > 1, '초등학교거리구분'] = 1\n",
    "\n",
    "    # 분포 확인\n",
    "    counts = df['초등학교거리구분'].value_counts().sort_index()\n",
    "    ratios = counts / len(df) * 100\n",
    "    \n",
    "    print(\"\\n 초등학교접근성 5단계 분포 \")\n",
    "    for 단계, cnt in counts.items():\n",
    "        print(f\"{단계}점: {cnt}개 ({ratios[단계]:.1f}%)\")\n",
    "    \n",
    "    # 진학률 데이터 merge\n",
    "    # merge 위한 type 변경\n",
    "    df['계약년'] = df['계약년'].astype('str')\n",
    "    df = df.merge(in_high_school, how='left', on=['계약년', '구'])\n",
    "\n",
    "    print(f'\\n학교 feature 추가: {df.shape}')\n",
    "    return df\n",
    "\n",
    "EARTH_R = 6371  # km 단위로 계산\n",
    "\n",
    "def add_elite_highschool_features(df, schools, elite_cats={'특목고','자율고'},\n",
    "                                  lat_col='y좌표', lon_col='x좌표', radii=(1.5, 2.0)):\n",
    "    \"\"\"\n",
    "    df: 아파트 데이터 (y좌표, x좌표)\n",
    "    schools: 학교 데이터 (고등학교 구분명, 위도, 경도)\n",
    "    elite_cats: 엘리트 고교 종류 집합\n",
    "    radii: 반경 km 단위 리스트\n",
    "    \"\"\"\n",
    "    # 1) 엘리트 고교 서브셋\n",
    "    elite_df = schools[schools['고등학교 구분명'].isin(elite_cats)][['위도','경도']].dropna()\n",
    "    \n",
    "    if len(elite_df) == 0:\n",
    "        # 엘리트 고교가 없으면 0 또는 NaN 채우기\n",
    "        df['elite_min_dist_km'] = np.nan\n",
    "        for r in radii:\n",
    "            df[f'elite_cnt_{r}k'] = 0\n",
    "        return df\n",
    "    \n",
    "    # 2) BallTree 구축\n",
    "    pts_elite = np.c_[np.deg2rad(elite_df['위도'].values), np.deg2rad(elite_df['경도'].values)]\n",
    "    tree = BallTree(pts_elite, metric='haversine')\n",
    "    \n",
    "    # 3) 아파트 좌표\n",
    "    pts_apts = np.c_[np.deg2rad(df[lat_col].values), np.deg2rad(df[lon_col].values)]\n",
    "    \n",
    "    # 4) 최근접 거리 계산\n",
    "    dist_rad, _ = tree.query(pts_apts, k=1)\n",
    "    df['elite_min_dist_km'] = dist_rad[:,0] * EARTH_R  # rad -> km\n",
    "    \n",
    "    # 5) 반경 내 개수 계산\n",
    "    for r in radii:\n",
    "        r_rad = r / EARTH_R  # km -> rad\n",
    "        counts = tree.query_radius(pts_apts, r=r_rad, count_only=True)\n",
    "        df[f'elite_cnt_{r}k'] = counts.astype(int)\n",
    "    \n",
    "    print(f\"엘리트 고교 feature 추가 완료: {df.shape}\")\n",
    "    print(f\"최근접 거리(min={df['elite_min_dist_km'].min():.2f}km, max={df['elite_min_dist_km'].max():.2f}km)\")\n",
    "    for r in radii:\n",
    "        print(f\"{r}km 반경 내 개수: min={df[f'elite_cnt_{r}k'].min()}, max={df[f'elite_cnt_{r}k'].max()}\")\n",
    "    return df"
   ]
  },
  {
   "cell_type": "code",
   "execution_count": null,
   "id": "fb533195-e47b-4753-9b65-8076b073e979",
   "metadata": {},
   "outputs": [],
   "source": [
    "print('train')\n",
    "train = school_feature(train, schools, el_schools, in_high_school)\n",
    "train = add_elite_highschool_features(train, schools)\n",
    "print('\\ntest')\n",
    "test = school_feature(test, schools, el_schools, in_high_school)\n",
    "test  = add_elite_highschool_features(test,  schools)"
   ]
  },
  {
   "cell_type": "markdown",
   "id": "e8d55095-915e-456d-9aa6-141a6f8861f4",
   "metadata": {},
   "source": [
    "#### 5. 시계열"
   ]
  },
  {
   "cell_type": "code",
   "execution_count": null,
   "id": "1a1c7808-ccc3-4f35-8697-638636e831be",
   "metadata": {},
   "outputs": [],
   "source": [
    "# 계약년월 가중치 열 추가\n",
    "train['계약년월'] = train['계약년월'].astype('int')\n",
    "test['계약년월'] = test['계약년월'].astype('int')\n",
    "\n",
    "min_month = train['계약년월'].min()\n",
    "train['계약년월가중치'] = train['계약년월'] - min_month\n",
    "test['계약년월가중치'] = test['계약년월'] - min_month"
   ]
  },
  {
   "cell_type": "code",
   "execution_count": null,
   "id": "a7a084fa-c79e-4513-90a5-9d1ae1d396b5",
   "metadata": {},
   "outputs": [],
   "source": [
    "# 계약년, 계약월 int로 변경\n",
    "train['계약년'] = train['계약년'].astype('int')\n",
    "train['계약월'] = train['계약월'].astype('int')\n",
    "\n",
    "test['계약년'] = test['계약년'].astype('int')\n",
    "test['계약월'] = test['계약월'].astype('int')"
   ]
  },
  {
   "cell_type": "markdown",
   "id": "0fe8614a-e69f-4426-879f-f046f6c6dd08",
   "metadata": {},
   "source": [
    "#### 6. 집계함수"
   ]
  },
  {
   "cell_type": "code",
   "execution_count": null,
   "id": "6423a5ba-302b-4644-9d27-82dbc61ad527",
   "metadata": {},
   "outputs": [],
   "source": [
    "def create_group_target_features_train_test(train_df, test_df, group_col, target_col, agg_funcs=None):\n",
    "    \"\"\"\n",
    "    train 데이터로 그룹별 target 집계 feature를 만들고,\n",
    "    test 데이터에도 같은 통계를 적용하는 함수\n",
    "    \"\"\"\n",
    "    if agg_funcs is None:\n",
    "        agg_funcs = ['mean', 'sum', 'max', 'min', 'count']\n",
    "    \n",
    "    for func in agg_funcs:\n",
    "        new_col_name = f\"{group_col}_{target_col}_{func}\"\n",
    "        \n",
    "        # 1. train에서 집계 계산\n",
    "        agg_map = train_df.groupby(group_col)[target_col].agg(func)\n",
    "        \n",
    "        # 2. train, test에 매핑\n",
    "        train_df[new_col_name] = train_df[group_col].map(agg_map)\n",
    "        test_df[new_col_name] = test_df[group_col].map(agg_map)\n",
    "    \n",
    "    return train_df, test_df"
   ]
  },
  {
   "cell_type": "code",
   "execution_count": null,
   "id": "a9d708b8-6157-48b7-9810-4e6e97752efd",
   "metadata": {},
   "outputs": [],
   "source": [
    "train, test = create_group_target_features_train_test(train, test, group_col='구', target_col='target', agg_funcs=None)\n",
    "train, test = create_group_target_features_train_test(train, test, group_col='전용면적구간', target_col='target', agg_funcs=None)\n",
    "train, test = create_group_target_features_train_test(train, test, group_col='아파트명', target_col='target', agg_funcs=None)"
   ]
  },
  {
   "cell_type": "code",
   "execution_count": null,
   "id": "85a92bbf-97c1-4f9b-857a-7e02d4bf621c",
   "metadata": {},
   "outputs": [],
   "source": [
    "# target 데이터 뒤로 옮기기\n",
    "cols = [c for c in train.columns if c != 'target'] + ['target']\n",
    "train = train[cols]"
   ]
  },
  {
   "cell_type": "code",
   "execution_count": null,
   "id": "89a8b4d7-d9dc-4e1f-8955-7a995570f199",
   "metadata": {},
   "outputs": [],
   "source": [
    "# 데이터 마지막 확인"
   ]
  },
  {
   "cell_type": "code",
   "execution_count": null,
   "id": "76e5a6f8-efdb-4c11-975b-faa2ae62f458",
   "metadata": {},
   "outputs": [],
   "source": [
    "train.info()"
   ]
  },
  {
   "cell_type": "code",
   "execution_count": null,
   "id": "4897af2a-afc8-4f20-8db5-f289fde787db",
   "metadata": {},
   "outputs": [],
   "source": [
    "test.info()"
   ]
  },
  {
   "cell_type": "markdown",
   "id": "dd46710f-b724-416e-9ede-e442b7cdf72b",
   "metadata": {},
   "source": [
    "### 모델 및 eda 데이터 생성"
   ]
  },
  {
   "cell_type": "code",
   "execution_count": null,
   "id": "0fee9b04-b5e4-486a-953f-56ea1e55cc80",
   "metadata": {},
   "outputs": [],
   "source": [
    "# train.to_csv('train_2020.csv', encoding='utf-8', index=False)\n",
    "# test.to_csv('test_2020.csv', encoding='utf-8', index=False)"
   ]
  },
  {
   "cell_type": "code",
   "execution_count": null,
   "id": "f149fd10-3749-4070-a24f-5c11ac4cf277",
   "metadata": {},
   "outputs": [],
   "source": []
  }
 ],
 "metadata": {
  "kernelspec": {
   "display_name": "ML_project",
   "language": "python",
   "name": "ml_project"
  },
  "language_info": {
   "codemirror_mode": {
    "name": "ipython",
    "version": 3
   },
   "file_extension": ".py",
   "mimetype": "text/x-python",
   "name": "python",
   "nbconvert_exporter": "python",
   "pygments_lexer": "ipython3",
   "version": "3.11.9"
  }
 },
 "nbformat": 4,
 "nbformat_minor": 5
}
