{
 "cells": [
  {
   "cell_type": "code",
   "execution_count": 51,
   "id": "e35fd8db-1550-47c4-b451-3f28a81980c4",
   "metadata": {},
   "outputs": [
    {
     "name": "stdout",
     "output_type": "stream",
     "text": [
      "Collecting statsmodels\n",
      "  Downloading statsmodels-0.14.1-cp38-cp38-manylinux_2_17_x86_64.manylinux2014_x86_64.whl (10.9 MB)\n",
      "\u001b[K     |████████████████████████████████| 10.9 MB 16.4 MB/s eta 0:00:01\n",
      "\u001b[?25hRequirement already satisfied: pandas!=2.1.0,>=1.0 in /usr/local/lib/python3.8/dist-packages (from statsmodels) (2.0.3)\n",
      "Requirement already satisfied: numpy<2,>=1.18 in /usr/local/lib/python3.8/dist-packages (from statsmodels) (1.24.4)\n",
      "Requirement already satisfied: scipy!=1.9.2,>=1.4 in /usr/local/lib/python3.8/dist-packages (from statsmodels) (1.10.1)\n",
      "Collecting patsy>=0.5.4\n",
      "  Downloading patsy-1.0.1-py2.py3-none-any.whl (232 kB)\n",
      "\u001b[K     |████████████████████████████████| 232 kB 151.6 MB/s eta 0:00:01\n",
      "\u001b[?25hRequirement already satisfied: packaging>=21.3 in /usr/local/lib/python3.8/dist-packages (from statsmodels) (25.0)\n",
      "Requirement already satisfied: pytz>=2020.1 in /usr/local/lib/python3.8/dist-packages (from pandas!=2.1.0,>=1.0->statsmodels) (2025.2)\n",
      "Requirement already satisfied: tzdata>=2022.1 in /usr/local/lib/python3.8/dist-packages (from pandas!=2.1.0,>=1.0->statsmodels) (2025.2)\n",
      "Requirement already satisfied: python-dateutil>=2.8.2 in /usr/local/lib/python3.8/dist-packages (from pandas!=2.1.0,>=1.0->statsmodels) (2.9.0.post0)\n",
      "Requirement already satisfied: six>=1.5 in /usr/local/lib/python3.8/dist-packages (from python-dateutil>=2.8.2->pandas!=2.1.0,>=1.0->statsmodels) (1.17.0)\n",
      "Installing collected packages: patsy, statsmodels\n",
      "Successfully installed patsy-1.0.1 statsmodels-0.14.1\n"
     ]
    }
   ],
   "source": [
    "# !pip install xgboost\n",
    "# !pip install bayesian-optimizatio\n",
    "# !pip install optuna\n",
    "# !pip install --upgrade lightgbm\n",
    "!pip install statsmodels\n"
   ]
  },
  {
   "cell_type": "code",
   "execution_count": 37,
   "id": "13a432e4-d688-4669-aba1-a6f14ce5a518",
   "metadata": {},
   "outputs": [],
   "source": [
    "import numpy as np\n",
    "import pandas as pd\n",
    "from sklearn.model_selection import KFold, cross_val_score, StratifiedKFold\n",
    "from sklearn.ensemble import RandomForestRegressor, ExtraTreesRegressor\n",
    "from lightgbm import LGBMRegressor, early_stopping, LGBMClassifier, log_evaluation\n",
    "import xgboost as xgb\n",
    "from xgboost import XGBRegressor\n",
    "from sklearn.model_selection import train_test_split\n",
    "from sklearn.linear_model import LinearRegression, Ridge, Lasso, ElasticNet\n",
    "from sklearn.ensemble import VotingRegressor\n",
    "from sklearn.metrics import mean_squared_error\n",
    "from bayes_opt import BayesianOptimization\n",
    "import optuna\n",
    "import time\n",
    "from sklearn.model_selection import train_test_split\n",
    "from catboost import CatBoostRegressor\n",
    "from tqdm import tqdm\n",
    "import time\n",
    "from sklearn.model_selection import TimeSeriesSplit\n",
    "import matplotlib.pyplot as plt\n",
    "import seaborn as sns\n",
    "import warnings\n",
    "warnings.filterwarnings('ignore')\n",
    "from sklearn.model_selection import TimeSeriesSplit\n",
    "from sklearn.preprocessing import StandardScaler\n",
    "from sklearn.ensemble import RandomForestClassifier\n",
    "from sklearn.ensemble import VotingClassifier\n",
    "from sklearn.metrics import accuracy_score\n",
    "from sklearn.preprocessing import OrdinalEncoder\n",
    "# 2) 한글 폰트 설정 (예: 나눔고딕)\n",
    "import matplotlib.pyplot as plt\n",
    "from matplotlib import rc\n",
    "\n",
    "# 시스템에 나눔고딕이 설치되어 있어야 합니다.\n",
    "rc('font', family='NanumGothic')  \n",
    "# 마이너스 기호가 깨지는 경우\n",
    "plt.rcParams['axes.unicode_minus'] = False\n",
    "\n",
    "from sklearn.preprocessing import LabelEncoder\n"
   ]
  },
  {
   "cell_type": "code",
   "execution_count": 49,
   "id": "3d23e598-2f33-4622-b2f5-008804a20f9e",
   "metadata": {},
   "outputs": [],
   "source": [
    "# 데이터 불러오기\n",
    "train = pd.read_csv(\"train_2020.csv\")\n",
    "test  = pd.read_csv(\"test_2016.csv\")"
   ]
  },
  {
   "cell_type": "code",
   "execution_count": 53,
   "id": "c00bc6a9-b532-422b-87ce-96da7fa36c61",
   "metadata": {
    "scrolled": true
   },
   "outputs": [
    {
     "name": "stdout",
     "output_type": "stream",
     "text": [
      "                   feature           VIF\n",
      "0                    const  0.000000e+00\n",
      "1                       본번  1.156750e+00\n",
      "2                       부번  1.019265e+00\n",
      "3                  전용면적(㎡)           inf\n",
      "4                     계약년월           inf\n",
      "5                      계약일  1.002724e+00\n",
      "6                     건축년도  1.149170e+05\n",
      "7                   k-전체동수  5.340122e+00\n",
      "8                  k-전체세대수  5.890091e+01\n",
      "9                    k-연면적  5.768388e+00\n",
      "10                k-주거전용면적  7.384033e+01\n",
      "11               k-관리비부과면적  6.244331e+01\n",
      "12      k-전용면적별세대현황(60㎡이하)  9.964373e+00\n",
      "13  k-전용면적별세대현황(60㎡~85㎡이하)  5.468459e+00\n",
      "14            k-85㎡~135㎡이하  2.289285e+00\n",
      "15                    건축면적  1.067391e+00\n",
      "16                    주차대수  2.918490e+00\n",
      "17                     계약년           inf\n",
      "18                     계약월           inf\n",
      "19                     x좌표  1.741527e+00\n",
      "20                     y좌표  2.476287e+00\n",
      "21               전용면적(log)  8.682049e+00\n",
      "22                      평수           inf\n",
      "23                      연식  1.137592e+05\n",
      "24              신축(10년 미만)  2.503852e+00\n",
      "25          재건축 연한(30년 이상)  2.491041e+00\n",
      "26                   강남권여부  4.543284e+00\n",
      "27                    우수학군  2.522656e+00\n",
      "28                 프리미엄아파트  1.534419e+00\n",
      "29                 대장아파트거리  1.628390e+01\n",
      "30            대장아파트거리(log)  1.429983e+01\n",
      "31                   회사채금리           inf\n",
      "32                  매매가격지수  1.387941e+01\n",
      "33                 건설공사비지수  1.791809e+01\n",
      "34                     거래량  1.617298e+00\n",
      "35                 회사채금리t3           inf\n",
      "36                 회사채금리t6           inf\n",
      "37                  delta3           inf\n",
      "38                  delta6           inf\n",
      "39                     MA3  2.074849e+02\n",
      "40                     MA6  4.459024e+02\n",
      "41                    버스거리  1.158635e+01\n",
      "42                   지하철거리  5.785920e+00\n",
      "43               1km이내지하철수  1.536471e+00\n",
      "44                  지하철접근성  5.072683e+00\n",
      "45                1km이내학교수  1.492301e+00\n",
      "46                  초등학교거리  1.557742e+01\n",
      "47                초등학교거리구분  4.145665e+00\n",
      "48                 고등학교진학률  2.531308e+00\n",
      "49       elite_min_dist_km  2.832285e+00\n",
      "50          elite_cnt_1.5k  2.874694e+00\n",
      "51          elite_cnt_2.0k  2.516388e+00\n",
      "52       target_prev3month  2.710509e+00\n",
      "53                 계약년월가중치           inf\n",
      "54       target_prev6month  3.104816e+00\n"
     ]
    }
   ],
   "source": [
    "# 타깃 제외 후 숫자형 피처만 선택\n",
    "X = train.drop(columns=['target'])\n",
    "X_numeric = X.select_dtypes(include=[float, int])\n",
    "\n",
    "# 상수항 추가\n",
    "import statsmodels.api as sm\n",
    "X_const = sm.add_constant(X_numeric)\n",
    "\n",
    "# VIF 계산\n",
    "from statsmodels.stats.outliers_influence import variance_inflation_factor\n",
    "vif_data = pd.DataFrame()\n",
    "vif_data['feature'] = X_const.columns\n",
    "vif_data['VIF'] = [variance_inflation_factor(X_const.values, i) for i in range(X_const.shape[1])]\n",
    "\n",
    "print(vif_data)\n",
    "\n"
   ]
  },
  {
   "cell_type": "code",
   "execution_count": 54,
   "id": "7fb4bc14-fb8f-41b1-8454-f6fa33a13260",
   "metadata": {},
   "outputs": [
    {
     "name": "stdout",
     "output_type": "stream",
     "text": [
      "<class 'pandas.core.frame.DataFrame'>\n",
      "RangeIndex: 516845 entries, 0 to 516844\n",
      "Data columns (total 92 columns):\n",
      " #   Column                  Non-Null Count   Dtype  \n",
      "---  ------                  --------------   -----  \n",
      " 0   시군구                     516845 non-null  object \n",
      " 1   번지                      516845 non-null  object \n",
      " 2   본번                      516845 non-null  float64\n",
      " 3   부번                      516845 non-null  float64\n",
      " 4   아파트명                    516845 non-null  object \n",
      " 5   전용면적(㎡)                 516845 non-null  float64\n",
      " 6   계약년월                    516845 non-null  int64  \n",
      " 7   계약일                     516845 non-null  int64  \n",
      " 8   층                       516845 non-null  object \n",
      " 9   건축년도                    516845 non-null  int64  \n",
      " 10  도로명                     516845 non-null  object \n",
      " 11  등기신청일자                  516845 non-null  object \n",
      " 12  거래유형                    516845 non-null  object \n",
      " 13  중개사소재지                  516845 non-null  object \n",
      " 14  k-단지분류(아파트,주상복합등등)      516845 non-null  object \n",
      " 15  k-전화번호                  516845 non-null  object \n",
      " 16  k-팩스번호                  516845 non-null  object \n",
      " 17  k-세대타입(분양형태)            516845 non-null  object \n",
      " 18  k-관리방식                  516845 non-null  object \n",
      " 19  k-복도유형                  516845 non-null  object \n",
      " 20  k-난방방식                  516845 non-null  object \n",
      " 21  k-전체동수                  516845 non-null  float64\n",
      " 22  k-전체세대수                 516845 non-null  float64\n",
      " 23  k-건설사(시공사)              516845 non-null  object \n",
      " 24  k-시행사                   516845 non-null  object \n",
      " 25  k-사용검사일-사용승인일           516845 non-null  object \n",
      " 26  k-연면적                   516845 non-null  float64\n",
      " 27  k-주거전용면적                516845 non-null  float64\n",
      " 28  k-관리비부과면적               516845 non-null  float64\n",
      " 29  k-전용면적별세대현황(60㎡이하)      516845 non-null  float64\n",
      " 30  k-전용면적별세대현황(60㎡~85㎡이하)  516845 non-null  float64\n",
      " 31  k-85㎡~135㎡이하            516845 non-null  float64\n",
      " 32  k-수정일자                  516845 non-null  object \n",
      " 33  경비비관리형태                 516845 non-null  object \n",
      " 34  세대전기계약방법                516845 non-null  object \n",
      " 35  청소비관리형태                 516845 non-null  object \n",
      " 36  건축면적                    516845 non-null  float64\n",
      " 37  주차대수                    516845 non-null  float64\n",
      " 38  기타/의무/임대/임의=1/2/3/4     516845 non-null  object \n",
      " 39  단지승인일                   516845 non-null  object \n",
      " 40  사용허가여부                  516845 non-null  object \n",
      " 41  관리비 업로드                 516845 non-null  object \n",
      " 42  단지신청일                   516845 non-null  object \n",
      " 43  계약년                     516845 non-null  int64  \n",
      " 44  계약월                     516845 non-null  int64  \n",
      " 45  브랜드명                    516845 non-null  object \n",
      " 46  구                       516845 non-null  object \n",
      " 47  주소                      516845 non-null  object \n",
      " 48  x좌표                     516845 non-null  float64\n",
      " 49  y좌표                     516845 non-null  float64\n",
      " 50  전용면적(log)               516845 non-null  float64\n",
      " 51  전용면적구간                  516845 non-null  object \n",
      " 52  평수                      516845 non-null  float64\n",
      " 53  연식                      516845 non-null  int64  \n",
      " 54  신축(10년 미만)              516845 non-null  int64  \n",
      " 55  재건축 연한(30년 이상)          516845 non-null  int64  \n",
      " 56  강남권여부                   516845 non-null  int64  \n",
      " 57  우수학군                    516845 non-null  int64  \n",
      " 58  프리미엄아파트                 516845 non-null  int64  \n",
      " 59  zone4                   516845 non-null  object \n",
      " 60  zone4_강남3               516845 non-null  bool   \n",
      " 61  zone4_내부권               516845 non-null  bool   \n",
      " 62  zone4_도심                516845 non-null  bool   \n",
      " 63  zone4_외곽                516845 non-null  bool   \n",
      " 64  대장아파트거리                 516845 non-null  float64\n",
      " 65  대장아파트거리(log)            516845 non-null  float64\n",
      " 66  대장아파트거리접근성              516845 non-null  object \n",
      " 67  회사채금리                   516845 non-null  float64\n",
      " 68  매매가격지수                  516845 non-null  float64\n",
      " 69  건설공사비지수                 516845 non-null  float64\n",
      " 70  거래량                     516845 non-null  int64  \n",
      " 71  회사채금리t3                 516845 non-null  float64\n",
      " 72  회사채금리t6                 516845 non-null  float64\n",
      " 73  delta3                  516845 non-null  float64\n",
      " 74  delta6                  516845 non-null  float64\n",
      " 75  MA3                     516845 non-null  float64\n",
      " 76  MA6                     516845 non-null  float64\n",
      " 77  버스거리                    516845 non-null  float64\n",
      " 78  지하철거리                   516845 non-null  float64\n",
      " 79  1km이내지하철수               516845 non-null  int64  \n",
      " 80  지하철접근성                  516845 non-null  int64  \n",
      " 81  1km이내학교수                516845 non-null  int64  \n",
      " 82  초등학교거리                  516845 non-null  float64\n",
      " 83  초등학교거리구분                516845 non-null  int64  \n",
      " 84  고등학교진학률                 516845 non-null  float64\n",
      " 85  elite_min_dist_km       516845 non-null  float64\n",
      " 86  elite_cnt_1.5k          516845 non-null  int64  \n",
      " 87  elite_cnt_2.0k          516845 non-null  int64  \n",
      " 88  target_prev3month       516845 non-null  float64\n",
      " 89  계약년월가중치                 516845 non-null  int64  \n",
      " 90  target_prev6month       516845 non-null  float64\n",
      " 91  target                  516845 non-null  int64  \n",
      "dtypes: bool(4), float64(35), int64(20), object(33)\n",
      "memory usage: 349.0+ MB\n"
     ]
    }
   ],
   "source": [
    "# 데이터 feature 확인 \n",
    "train.info()"
   ]
  },
  {
   "cell_type": "code",
   "execution_count": 23,
   "id": "fca8ab92-77ee-4cb4-b413-a8652b2687b1",
   "metadata": {},
   "outputs": [],
   "source": [
    "def except_cols(df):\n",
    "    df = df.drop(['번지', '본번', '부번', '계약일', '도로명', '중개사소재지', 'k-전화번호', 'k-팩스번호', 'k-관리방식',\n",
    "                  'k-사용검사일-사용승인일', '경비비관리형태', '세대전기계약방법', '청소비관리형태', 'k-수정일자',\n",
    "                  '계약년', '계약월', '주소'], axis=1)\n",
    "    return df\n",
    "\n",
    "# 도메인 기반 필요없는 열 제거\n",
    "train = except_cols(train)\n",
    "test = except_cols(test)"
   ]
  },
  {
   "cell_type": "code",
   "execution_count": 17,
   "id": "bdb0527e-2826-4545-9b75-6d9006a51635",
   "metadata": {},
   "outputs": [],
   "source": [
    "# mapping = {'일반': 0, '고가': 1}\n",
    "# train['구_그룹'] = train['구_그룹'].map(mapping).astype(int)\n",
    "# test['구_그룹'] = test['구_그룹'].map(mapping).astype(int)"
   ]
  },
  {
   "cell_type": "code",
   "execution_count": 47,
   "id": "6bfd537e-d597-4849-b92a-9563eb4aee9d",
   "metadata": {
    "scrolled": true
   },
   "outputs": [],
   "source": [
    "\n",
    "# # 사용할 컬럼명 리스트 정의 (필요에 따라 here에 컬럼명 추가/삭제)\n",
    "# use_columns = ['전용면적(㎡)', '건축년도',  '매매가격지수', '건설공사비지수',\n",
    "#     '버스정류장수', '지하철수', '연식', '대장아파트거리', '강남권여부', \n",
    "#     '버스거리', '지하철거리',  '초등학교거리', '1km이내학교수', '회사채금리',\n",
    "#     '고등학교진학률', '층', 'delta3', 'delta6', 'MA6', '지하철접근성', '평수']\n",
    "# #  '구', '계약년월', '아파트명', '전용면적(log)', '대장아파트거리(log)', 'MA3','거래량', 'delta12' , '구_그룹'\n",
    "# 1. feature/target 분리\n",
    "y_train = train['target'].values\n",
    "\n",
    "# 피처 데이터 분리\n",
    "X_train_df = train.drop(columns=['target']).copy()\n",
    "X_test_df = test.copy()\n",
    "\n",
    "# 범주형 컬럼 추출\n",
    "cat_cols = X_train_df.select_dtypes(include=['object', 'category']).columns\n",
    "le_dict = {}\n",
    "for col in cat_cols:\n",
    "    le = LabelEncoder()\n",
    "    le.fit(X_train_df[col].astype(str))\n",
    "    le_dict[col] = le\n",
    "\n",
    "    # train 데이터는 그대로 transform\n",
    "    X_train_df[col] = le.transform(X_train_df[col].astype(str))\n",
    "\n",
    "    # test 데이터는 unseen 라벨을 -1로 처리\n",
    "    X_test_df[col] = X_test_df[col].astype(str).map(lambda x: x if x in le.classes_ else -1)\n",
    "\n",
    "    # transform 가능한 값들만 LabelEncoder로 인코딩, -1은 그대로 유지\n",
    "    valid_mask = X_test_df[col] != -1\n",
    "    # 임시 배열 선언\n",
    "    temp = np.full(X_test_df.shape[0], -1)\n",
    "    temp[valid_mask] = le.transform(X_test_df.loc[valid_mask, col])\n",
    "    X_test_df[col] = temp\n",
    "\n",
    "# # 범주형 인코딩 (train)\n",
    "# for col in cat_cols:\n",
    "#     le = LabelEncoder()\n",
    "#     X_train_df[col] = le.fit_transform(X_train_df[col])\n",
    "#     le_dict[col] = le\n",
    "\n",
    "# # # val/test가 별도 데이터면 val 데이터에도 동일한 변환 적용 (아래는 val이 있을 경우)\n",
    "# # X_val_df = val.copy()\n",
    "# # for col in cat_cols:\n",
    "# #     le = le_dict[col]\n",
    "# #     X_val_df[col] = X_val_df[col].map(lambda x: x if x in le.classes_ else None)\n",
    "# #     X_val_df[col] = X_val_df[col].fillna(le.classes_[0])\n",
    "# #     X_val_df[col] = le.transform(X_val_df[col])\n",
    "\n",
    "# # test에 대해서도 동일 처리\n",
    "# for col in cat_cols:\n",
    "#     le = le_dict[col]\n",
    "#     X_test_df[col] = X_test_df[col].map(lambda x: x if x in le.classes_ else None)\n",
    "#     X_test_df[col] = X_test_df[col].fillna(le.classes_[0])\n",
    "#     X_test_df[col] = le.transform(X_test_df[col])\n",
    "# for col in cat_cols:\n",
    "#     le = le_dict[col]\n",
    "#     test[col] = test[col].astype(str).map(lambda x: le.transform([x])[0] if x in le.classes_ else -1)\n",
    "# train/validation 분할 (인코딩 후에 실행)\n",
    "\n",
    "X_tr, X_val_split, y_tr, y_val_split = train_test_split(\n",
    "    X_train_df, y_train,\n",
    "    test_size=0.2,\n",
    "    random_state=42,\n",
    "    shuffle=True\n",
    ")"
   ]
  },
  {
   "cell_type": "code",
   "execution_count": 25,
   "id": "f55c8329-f40a-4730-b4cf-185052516927",
   "metadata": {},
   "outputs": [],
   "source": [
    "def clean_feature_names(columns):\n",
    "    import re\n",
    "    cleaned_columns = []\n",
    "    seen = set()\n",
    "    for col in columns:\n",
    "        clean_col = re.sub(r'[^A-Za-z0-9_]+', '_', col)\n",
    "        # 중복 방지 suffix 추가\n",
    "        if clean_col in seen:\n",
    "            i = 1\n",
    "            new_col = f\"{clean_col}_{i}\"\n",
    "            while new_col in seen:\n",
    "                i += 1\n",
    "                new_col = f\"{clean_col}_{i}\"\n",
    "            clean_col = new_col\n",
    "        seen.add(clean_col)\n",
    "        cleaned_columns.append(clean_col)\n",
    "    return cleaned_columns\n",
    "\n",
    "# 적용 예\n",
    "X_train_df.columns = clean_feature_names(X_train_df.columns)\n",
    "X_val.columns = clean_feature_names(X_val.columns)\n",
    "X_test_df.columns = clean_feature_names(X_test_df.columns)\n",
    "\n"
   ]
  },
  {
   "cell_type": "code",
   "execution_count": 26,
   "id": "bf282908-44b5-47d1-a130-a3f1d9d9b102",
   "metadata": {},
   "outputs": [
    {
     "name": "stdout",
     "output_type": "stream",
     "text": [
      "False\n",
      "[]\n"
     ]
    }
   ],
   "source": [
    "print(X_train_df.columns.duplicated().any())  # True면 중복 있음\n",
    "print([col for col in X_train_df.columns if X_train_df.columns.duplicated().any()])\n"
   ]
  },
  {
   "cell_type": "code",
   "execution_count": 6,
   "id": "f58b8185-fa1c-4d3f-93b0-32fe2d402df1",
   "metadata": {},
   "outputs": [],
   "source": [
    "# from sklearn.model_selection import GridSearchCV\n",
    "# from sklearn.ensemble import RandomForestClassifier\n",
    "\n",
    "# # 모델 생성\n",
    "# rf_model = RandomForestClassifier(random_state=42)\n",
    "\n",
    "# # 탐색할 하이퍼파라미터 그리드\n",
    "# param_grid = {\n",
    "#     'n_estimators': [50, 100, 150],\n",
    "#     'max_depth': [3, 5, 7],\n",
    "#     'min_samples_split': [2, 5, 10]\n",
    "# }\n",
    "\n",
    "# # GridSearchCV 객체 생성\n",
    "# grid_search = GridSearchCV(estimator=rf_model, param_grid=param_grid, cv=3, scoring='accuracy', n_jobs=-1)\n",
    "\n",
    "# # GridSearchCV 수행 (학습 데이터 사용)\n",
    "# grid_search.fit(X_train_df, y_train)\n",
    "\n",
    "# # 최적의 하이퍼파라미터 조합\n",
    "# print(f\"최적 하이퍼파라미터: {grid_search.best_params_}\")\n",
    "\n",
    "# # 최고 성능\n",
    "# print(f\"최고 정확도: {grid_search.best_score_:.4f}\")\n"
   ]
  },
  {
   "cell_type": "code",
   "execution_count": null,
   "id": "9c5b239d-d133-4ebe-9a21-0d1866bf4813",
   "metadata": {},
   "outputs": [],
   "source": [
    "# print(\"Final meta-model predictions:\\n\", final_predictions)\n",
    "\n",
    "# rounded_final_predictions = np.round(final_predictions).astype(int)\n",
    "# submission = pd.DataFrame({\n",
    "#     'target': rounded_final_predictions})\n",
    "\n",
    "# submission.to_csv('submission_lgbm_imeanseo.csv', index=False)\n",
    "# print(\"submission.csv 파일이 생성되었습니다.\")"
   ]
  },
  {
   "cell_type": "code",
   "execution_count": null,
   "id": "0a4e4ba8-f300-4faa-909c-91da5a2d61a7",
   "metadata": {},
   "outputs": [],
   "source": [
    "lgbm_pred = lgbm.predict(X_test)\n",
    "\n",
    "# 2. 제출 파일용 DataFrame 생성 (샘플 파일이 있다면 그 구조 참고)\n",
    "# 예로 test 데이터에 'id' 컬럼이 있고, 제출 시 'id'와 'target' 컬럼 필요할 경우\n",
    "submission = pd.DataFrame({   \n",
    "    'target': lgbm_pred      # 예측 결과\n",
    "})\n",
    "\n",
    "# 3. 결과 CSV 파일로 저장\n",
    "submission.to_csv('submission_lgbm_imeanseo.csv', index=False)\n",
    "\n",
    "print('submission.csv 파일이 생성되었습니다.')"
   ]
  },
  {
   "cell_type": "code",
   "execution_count": null,
   "id": "1d77887a-9d01-4269-a7d0-1f654266df3e",
   "metadata": {},
   "outputs": [],
   "source": [
    "lgb_importances = lgbm.feature_importances_\n",
    "lgb_feat = pd.Series(lgb_importances, index=X_train_df.columns).sort_values(ascending=False)\n",
    "print(lgb_feat.tail())\n",
    "\n",
    "plt.figure(figsize=(8, 6))\n",
    "lgb_feat.head(20).plot(kind='barh')\n",
    "plt.title(\"LightGBM Feature Importances\")\n",
    "plt.gca().invert_yaxis()\n",
    "plt.tight_layout()\n",
    "plt.show()"
   ]
  },
  {
   "cell_type": "code",
   "execution_count": 25,
   "id": "34f10957-782a-4371-8033-87aa20f72f83",
   "metadata": {},
   "outputs": [
    {
     "name": "stdout",
     "output_type": "stream",
     "text": [
      "submission.csv 파일이 생성되었습니다.\n"
     ]
    }
   ],
   "source": [
    "import numpy as np\n",
    "import pandas as pd\n",
    "\n",
    "# 1. 예측값 반올림 (소수 첫째 자리에서 반올림하고 정수로 변환)\n",
    "rounded_preds = np.round(xgb_pred).astype(int)\n",
    "\n",
    "# 2. 결과를 DataFrame으로 생성\n",
    "submission = pd.DataFrame({\n",
    "    'target': rounded_preds\n",
    "})\n",
    "\n",
    "# 3. CSV 파일로 저장 (인덱스 제외)\n",
    "submission.to_csv('submission_lgbm_imeanseo.csv', index=False)\n",
    "\n",
    "print(\"submission.csv 파일이 생성되었습니다.\")"
   ]
  },
  {
   "cell_type": "code",
   "execution_count": 134,
   "id": "e738412a-dfd6-4d45-9a67-cd835aeac784",
   "metadata": {},
   "outputs": [
    {
     "name": "stdout",
     "output_type": "stream",
     "text": [
      "RandomForest OOB Score: 0.8833\n",
      "RandomForest CV RMSE: 18117.3824 (+/- 460.1473)\n"
     ]
    }
   ],
   "source": [
    "from sklearn.ensemble import RandomForestRegressor\n",
    "\n",
    "\n",
    "\n",
    "# 1. RandomForest 모델 정의 (과적합 방지 + 성능 최적화)\n",
    "rf = RandomForestRegressor(\n",
    "    n_estimators=400,          # 충분한 트리 개수\n",
    "    max_depth=10,              # 트리 깊이 제한\n",
    "    min_samples_leaf=4,        # 리프 노드 최소 샘플 수\n",
    "    min_samples_split=8,       # 분할을 위한 최소 샘플 수\n",
    "    max_features='sqrt',       # 피처 샘플링 (전체의 제곱근)\n",
    "    bootstrap=True,            # 부트스트랩 샘플링\n",
    "    oob_score=True,           # Out-of-bag 점수 계산\n",
    "    random_state=42,\n",
    "    n_jobs=-1\n",
    ")\n",
    "\n",
    "# 2. 모델 학습 (RandomForest는 내장된 검증 방식 사용)\n",
    "rf.fit(X_train, y_train)\n",
    "\n",
    "# 3. Out-of-bag 점수 확인\n",
    "print(f'RandomForest OOB Score: {rf.oob_score_:.4f}')\n",
    "\n",
    "# 4. 교차검증으로 성능 평가\n",
    "cv_scores = cross_val_score(rf, X_train, y_train, cv=kf, \n",
    "                           scoring='neg_root_mean_squared_error', n_jobs=-1)\n",
    "print(f'RandomForest CV RMSE: {-cv_scores.mean():.4f} (+/- {cv_scores.std() * 2:.4f})')\n",
    "\n",
    "# 5. 테스트 예측\n",
    "rf_pred = rf.predict(X_test)\n"
   ]
  },
  {
   "cell_type": "code",
   "execution_count": 135,
   "id": "1a9b56bf-7ff3-4eb5-9a3e-dd67afb04ede",
   "metadata": {},
   "outputs": [
    {
     "name": "stdout",
     "output_type": "stream",
     "text": [
      "Final meta-model predictions:\n",
      " [191767.5303801  324457.67273988 312379.20809751 ...  87342.64613195\n",
      "  74068.06471536  71377.2874585 ]\n",
      "submission.csv 파일이 생성되었습니다.\n"
     ]
    }
   ],
   "source": [
    "print(\"Final meta-model predictions:\\n\", final_predictions)\n",
    "\n",
    "rounded_final_predictions = np.round(final_predictions)\n",
    "submission = pd.DataFrame({\n",
    "    'target': final_predictions})\n",
    "\n",
    "submission.to_csv('submission_rf_imeanseo.csv', index=False)\n",
    "print(\"submission.csv 파일이 생성되었습니다.\")"
   ]
  },
  {
   "cell_type": "code",
   "execution_count": 132,
   "id": "482b11d3-88f1-4005-a552-ecae491199f2",
   "metadata": {},
   "outputs": [
    {
     "name": "stdout",
     "output_type": "stream",
     "text": [
      "RandomForest 하위 변수:\n",
      " 지하철거리     0.010073\n",
      "회사채금리     0.006301\n",
      "초등학교거리    0.006136\n",
      "delta6    0.003121\n",
      "delta3    0.001710\n",
      "dtype: float64\n"
     ]
    },
    {
     "data": {
      "image/png": "[encoded data removed]",
      "text/plain": [
       "<Figure size 800x600 with 1 Axes>"
      ]
     },
     "metadata": {},
     "output_type": "display_data"
    }
   ],
   "source": [
    "# 모델이 학습된 상태여야 합니다.\n",
    "# rf.fit(X_train, y_train) 이 이미 호출된 후에 실행하세요.\n",
    "\n",
    "# 피처 중요도 추출\n",
    "rf_importances = rf.feature_importances_\n",
    "rf_feat = pd.Series(rf_importances, index=X_train_df.columns).sort_values(ascending=False)\n",
    "\n",
    "# 상위 20개 출력\n",
    "print(\"RandomForest 하위 변수:\\n\", rf_feat.tail())\n",
    "\n",
    "# 시각화\n",
    "plt.figure(figsize=(8, 6))\n",
    "rf_feat.head(20).plot(kind='barh')\n",
    "plt.title(\"RandomForest Feature Importances\")\n",
    "plt.gca().invert_yaxis()\n",
    "plt.tight_layout()\n",
    "plt.show()"
   ]
  },
  {
   "cell_type": "code",
   "execution_count": null,
   "id": "0de92f44-c1be-4676-98d9-4b6b9abd4899",
   "metadata": {
    "scrolled": true
   },
   "outputs": [
    {
     "name": "stderr",
     "output_type": "stream",
     "text": [
      "[I 2025-09-10 05:30:30,358] A new study created in memory with name: no-name-4aaea52b-1b2d-4b14-a84f-a1e80e103473\n",
      "Base models:   0%|                                                                                                                                        | 0/3 [00:00<?, ?it/s]\n",
      "Model 1 folds:   0%|                                                                                                                                      | 0/5 [00:00<?, ?it/s]\u001b[A\n",
      "Model 1 folds:  20%|█████████████████████████▏                                                                                                    | 1/5 [00:33<02:15, 33.94s/it]\u001b[A\n",
      "Model 1 folds:  40%|██████████████████████████████████████████████████▍                                                                           | 2/5 [01:07<01:41, 33.97s/it]\u001b[A\n",
      "Model 1 folds:  60%|███████████████████████████████████████████████████████████████████████████▌                                                  | 3/5 [01:42<01:08, 34.15s/it]\u001b[A\n",
      "Model 1 folds:  80%|████████████████████████████████████████████████████████████████████████████████████████████████████▊                         | 4/5 [02:16<00:34, 34.08s/it]\u001b[A\n",
      "Model 1 folds: 100%|██████████████████████████████████████████████████████████████████████████████████████████████████████████████████████████████| 5/5 [02:50<00:00, 34.01s/it]\u001b[A\n",
      "Base models:  33%|██████████████████████████████████████████▎                                                                                    | 1/3 [02:50<05:40, 170.17s/it]\u001b[A\n",
      "Model 2 folds:   0%|                                                                                                                                      | 0/5 [00:00<?, ?it/s]\u001b[A"
     ]
    },
    {
     "name": "stdout",
     "output_type": "stream",
     "text": [
      "[LightGBM] [Info] Auto-choosing row-wise multi-threading, the overhead of testing was 0.003404 seconds.\n",
      "You can set `force_row_wise=true` to remove the overhead.\n",
      "And if memory is not enough, you can set `force_col_wise=true`.\n",
      "[LightGBM] [Info] Total Bins 2745\n",
      "[LightGBM] [Info] Number of data points in the train set: 508373, number of used features: 24\n",
      "[LightGBM] [Info] Start training from score 68673.084757\n"
     ]
    },
    {
     "name": "stderr",
     "output_type": "stream",
     "text": [
      "\n",
      "Model 2 folds:  20%|█████████████████████████▏                                                                                                    | 1/5 [00:09<00:38,  9.55s/it]\u001b[A"
     ]
    },
    {
     "name": "stdout",
     "output_type": "stream",
     "text": [
      "[LightGBM] [Info] Auto-choosing row-wise multi-threading, the overhead of testing was 0.003410 seconds.\n",
      "You can set `force_row_wise=true` to remove the overhead.\n",
      "And if memory is not enough, you can set `force_col_wise=true`.\n",
      "[LightGBM] [Info] Total Bins 2748\n",
      "[LightGBM] [Info] Number of data points in the train set: 508373, number of used features: 24\n",
      "[LightGBM] [Info] Start training from score 68675.229528\n"
     ]
    },
    {
     "name": "stderr",
     "output_type": "stream",
     "text": [
      "\n",
      "Model 2 folds:  40%|██████████████████████████████████████████████████▍                                                                           | 2/5 [00:18<00:28,  9.45s/it]\u001b[A"
     ]
    },
    {
     "name": "stdout",
     "output_type": "stream",
     "text": [
      "[LightGBM] [Info] Auto-choosing row-wise multi-threading, the overhead of testing was 0.003596 seconds.\n",
      "You can set `force_row_wise=true` to remove the overhead.\n",
      "And if memory is not enough, you can set `force_col_wise=true`.\n",
      "[LightGBM] [Info] Total Bins 2748\n",
      "[LightGBM] [Info] Number of data points in the train set: 508374, number of used features: 24\n",
      "[LightGBM] [Info] Start training from score 68589.420421\n"
     ]
    },
    {
     "name": "stderr",
     "output_type": "stream",
     "text": [
      "\n",
      "Model 2 folds:  60%|███████████████████████████████████████████████████████████████████████████▌                                                  | 3/5 [00:28<00:18,  9.46s/it]\u001b[A"
     ]
    },
    {
     "name": "stdout",
     "output_type": "stream",
     "text": [
      "[LightGBM] [Info] Auto-choosing row-wise multi-threading, the overhead of testing was 0.003602 seconds.\n",
      "You can set `force_row_wise=true` to remove the overhead.\n",
      "And if memory is not enough, you can set `force_col_wise=true`.\n",
      "[LightGBM] [Info] Total Bins 2748\n",
      "[LightGBM] [Info] Number of data points in the train set: 508374, number of used features: 24\n",
      "[LightGBM] [Info] Start training from score 68682.629430\n"
     ]
    },
    {
     "name": "stderr",
     "output_type": "stream",
     "text": [
      "\n",
      "Model 2 folds:  80%|████████████████████████████████████████████████████████████████████████████████████████████████████▊                         | 4/5 [00:37<00:09,  9.44s/it]\u001b[A"
     ]
    },
    {
     "name": "stdout",
     "output_type": "stream",
     "text": [
      "[LightGBM] [Info] Auto-choosing row-wise multi-threading, the overhead of testing was 0.003585 seconds.\n",
      "You can set `force_row_wise=true` to remove the overhead.\n",
      "And if memory is not enough, you can set `force_col_wise=true`.\n",
      "[LightGBM] [Info] Total Bins 2748\n",
      "[LightGBM] [Info] Number of data points in the train set: 508374, number of used features: 24\n",
      "[LightGBM] [Info] Start training from score 68679.112651\n"
     ]
    },
    {
     "name": "stderr",
     "output_type": "stream",
     "text": [
      "\n",
      "Model 2 folds: 100%|██████████████████████████████████████████████████████████████████████████████████████████████████████████████████████████████| 5/5 [00:47<00:00,  9.46s/it]\u001b[A\n",
      "Base models:  67%|█████████████████████████████████████████████████████████████████████████████████████▎                                          | 2/3 [03:37<01:37, 97.90s/it]\u001b[A\n",
      "Model 3 folds:   0%|                                                                                                                                      | 0/5 [00:00<?, ?it/s]\u001b[A\n",
      "Model 3 folds:  20%|█████████████████████████▏                                                                                                    | 1/5 [00:27<01:48, 27.20s/it]\u001b[A\n",
      "Model 3 folds:  40%|██████████████████████████████████████████████████▍                                                                           | 2/5 [00:54<01:21, 27.13s/it]\u001b[A\n",
      "Model 3 folds:  60%|███████████████████████████████████████████████████████████████████████████▌                                                  | 3/5 [01:21<00:54, 27.23s/it]\u001b[A\n",
      "Model 3 folds:  80%|████████████████████████████████████████████████████████████████████████████████████████████████████▊                         | 4/5 [01:48<00:27, 27.17s/it]\u001b[A\n",
      "Model 3 folds: 100%|██████████████████████████████████████████████████████████████████████████████████████████████████████████████████████████████| 5/5 [02:15<00:00, 27.06s/it]\u001b[A\n",
      "Base models: 100%|███████████████████████████████████████████████████████████████████████████████████████████████████████████████████████████████| 3/3 [05:53<00:00, 117.69s/it]\u001b[A\n",
      "[I 2025-09-10 05:36:23,483] Trial 0 finished with value: 7671.356726924271 and parameters: {'rf_n_estimators': 439, 'rf_max_depth': 22, 'rf_min_samples_leaf': 4, 'rf_min_samples_split': 4, 'rf_max_features': 'sqrt', 'lgbm_n_estimators': 870, 'lgbm_max_depth': 18, 'lgbm_learning_rate': 0.01508922761693878, 'lgbm_num_leaves': 80, 'lgbm_subsample': 0.8386528434982617, 'lgbm_colsample_bytree': 0.8066590135363939, 'lgbm_reg_alpha': 0.02597461697983109, 'lgbm_reg_lambda': 0.0014151951292920987, 'xgb_n_estimators': 1015, 'xgb_max_depth': 12, 'xgb_learning_rate': 0.012056019039957636, 'xgb_subsample': 0.706130373338387, 'xgb_colsample_bytree': 0.9899508916648752, 'xgb_gamma': 0.0804206172774185, 'xgb_reg_alpha': 0.0016693469893131411, 'xgb_reg_lambda': 0.006108885284025872}. Best is trial 0 with value: 7671.356726924271.\n",
      "Base models:   0%|                                                                                                                                        | 0/3 [00:00<?, ?it/s]\n",
      "Model 1 folds:   0%|                                                                                                                                      | 0/5 [00:00<?, ?it/s]\u001b[A\n",
      "Model 1 folds:  20%|█████████████████████████▏                                                                                                    | 1/5 [00:27<01:49, 27.31s/it]\u001b[A\n",
      "Model 1 folds:  40%|██████████████████████████████████████████████████▍                                                                           | 2/5 [00:54<01:21, 27.31s/it]\u001b[A\n",
      "Model 1 folds:  60%|███████████████████████████████████████████████████████████████████████████▌                                                  | 3/5 [01:21<00:54, 27.24s/it]\u001b[A\n",
      "Model 1 folds:  80%|████████████████████████████████████████████████████████████████████████████████████████████████████▊                         | 4/5 [01:48<00:27, 27.16s/it]\u001b[A\n",
      "Model 1 folds: 100%|██████████████████████████████████████████████████████████████████████████████████████████████████████████████████████████████| 5/5 [02:15<00:00, 27.13s/it]\u001b[A\n",
      "Base models:  33%|██████████████████████████████████████████▎                                                                                    | 1/3 [02:15<04:31, 135.91s/it]\u001b[A\n",
      "Model 2 folds:   0%|                                                                                                                                      | 0/5 [00:00<?, ?it/s]\u001b[A"
     ]
    },
    {
     "name": "stdout",
     "output_type": "stream",
     "text": [
      "[LightGBM] [Info] Auto-choosing row-wise multi-threading, the overhead of testing was 0.003885 seconds.\n",
      "You can set `force_row_wise=true` to remove the overhead.\n",
      "And if memory is not enough, you can set `force_col_wise=true`.\n",
      "[LightGBM] [Info] Total Bins 2745\n",
      "[LightGBM] [Info] Number of data points in the train set: 508373, number of used features: 24\n",
      "[LightGBM] [Info] Start training from score 68673.084757\n"
     ]
    },
    {
     "name": "stderr",
     "output_type": "stream",
     "text": [
      "\n",
      "Model 2 folds:  20%|█████████████████████████▏                                                                                                    | 1/5 [00:09<00:37,  9.45s/it]\u001b[A"
     ]
    },
    {
     "name": "stdout",
     "output_type": "stream",
     "text": [
      "[LightGBM] [Info] Auto-choosing row-wise multi-threading, the overhead of testing was 0.004832 seconds.\n",
      "You can set `force_row_wise=true` to remove the overhead.\n",
      "And if memory is not enough, you can set `force_col_wise=true`.\n",
      "[LightGBM] [Info] Total Bins 2748\n",
      "[LightGBM] [Info] Number of data points in the train set: 508373, number of used features: 24\n",
      "[LightGBM] [Info] Start training from score 68675.229528\n"
     ]
    },
    {
     "name": "stderr",
     "output_type": "stream",
     "text": [
      "\n",
      "Model 2 folds:  40%|██████████████████████████████████████████████████▍                                                                           | 2/5 [00:18<00:28,  9.50s/it]\u001b[A"
     ]
    },
    {
     "name": "stdout",
     "output_type": "stream",
     "text": [
      "[LightGBM] [Info] Auto-choosing row-wise multi-threading, the overhead of testing was 0.004638 seconds.\n",
      "You can set `force_row_wise=true` to remove the overhead.\n",
      "And if memory is not enough, you can set `force_col_wise=true`.\n",
      "[LightGBM] [Info] Total Bins 2748\n",
      "[LightGBM] [Info] Number of data points in the train set: 508374, number of used features: 24\n",
      "[LightGBM] [Info] Start training from score 68589.420421\n"
     ]
    },
    {
     "name": "stderr",
     "output_type": "stream",
     "text": [
      "\n",
      "Model 2 folds:  60%|███████████████████████████████████████████████████████████████████████████▌                                                  | 3/5 [00:28<00:19,  9.54s/it]\u001b[A"
     ]
    },
    {
     "name": "stdout",
     "output_type": "stream",
     "text": [
      "[LightGBM] [Info] Auto-choosing row-wise multi-threading, the overhead of testing was 0.003830 seconds.\n",
      "You can set `force_row_wise=true` to remove the overhead.\n",
      "And if memory is not enough, you can set `force_col_wise=true`.\n",
      "[LightGBM] [Info] Total Bins 2748\n",
      "[LightGBM] [Info] Number of data points in the train set: 508374, number of used features: 24\n",
      "[LightGBM] [Info] Start training from score 68682.629430\n"
     ]
    },
    {
     "name": "stderr",
     "output_type": "stream",
     "text": [
      "\n",
      "Model 2 folds:  80%|████████████████████████████████████████████████████████████████████████████████████████████████████▊                         | 4/5 [00:38<00:09,  9.52s/it]\u001b[A"
     ]
    },
    {
     "name": "stdout",
     "output_type": "stream",
     "text": [
      "[LightGBM] [Info] Auto-choosing row-wise multi-threading, the overhead of testing was 0.004273 seconds.\n",
      "You can set `force_row_wise=true` to remove the overhead.\n",
      "And if memory is not enough, you can set `force_col_wise=true`.\n",
      "[LightGBM] [Info] Total Bins 2748\n",
      "[LightGBM] [Info] Number of data points in the train set: 508374, number of used features: 24\n",
      "[LightGBM] [Info] Start training from score 68679.112651\n"
     ]
    },
    {
     "name": "stderr",
     "output_type": "stream",
     "text": [
      "\n",
      "Model 2 folds: 100%|██████████████████████████████████████████████████████████████████████████████████████████████████████████████████████████████| 5/5 [00:47<00:00,  9.52s/it]\u001b[A\n",
      "Base models:  67%|█████████████████████████████████████████████████████████████████████████████████████▎                                          | 2/3 [03:03<01:23, 83.96s/it]\u001b[A\n",
      "Model 3 folds:   0%|                                                                                                                                      | 0/5 [00:00<?, ?it/s]\u001b[A\n",
      "Model 3 folds:  20%|█████████████████████████▏                                                                                                    | 1/5 [00:17<01:11, 17.79s/it]\u001b[A\n",
      "Model 3 folds:  40%|██████████████████████████████████████████████████▍                                                                           | 2/5 [00:34<00:52, 17.44s/it]\u001b[A\n",
      "Model 3 folds:  60%|███████████████████████████████████████████████████████████████████████████▌                                                  | 3/5 [00:52<00:35, 17.54s/it]\u001b[A\n",
      "Model 3 folds:  80%|████████████████████████████████████████████████████████████████████████████████████████████████████▊                         | 4/5 [01:09<00:17, 17.28s/it]\u001b[A\n",
      "Model 3 folds: 100%|██████████████████████████████████████████████████████████████████████████████████████████████████████████████████████████████| 5/5 [01:26<00:00, 17.30s/it]\u001b[A\n",
      "Base models: 100%|████████████████████████████████████████████████████████████████████████████████████████████████████████████████████████████████| 3/3 [04:30<00:00, 90.12s/it]\u001b[A\n",
      "[I 2025-09-10 05:40:53,949] Trial 1 finished with value: 8404.959074654798 and parameters: {'rf_n_estimators': 413, 'rf_max_depth': 17, 'rf_min_samples_leaf': 4, 'rf_min_samples_split': 8, 'rf_max_features': 'sqrt', 'lgbm_n_estimators': 1267, 'lgbm_max_depth': 12, 'lgbm_learning_rate': 0.01604093780343286, 'lgbm_num_leaves': 37, 'lgbm_subsample': 0.9766687734358311, 'lgbm_colsample_bytree': 0.8754465388571177, 'lgbm_reg_alpha': 0.014771029135041663, 'lgbm_reg_lambda': 0.003581731989947876, 'xgb_n_estimators': 1675, 'xgb_max_depth': 9, 'xgb_learning_rate': 0.01052853421711341, 'xgb_subsample': 0.9894830315714889, 'xgb_colsample_bytree': 0.9386757824151901, 'xgb_gamma': 0.23448250013190045, 'xgb_reg_alpha': 0.2934314196648967, 'xgb_reg_lambda': 0.014227986668123617}. Best is trial 0 with value: 7671.356726924271.\n",
      "Base models:   0%|                                                                                                                                        | 0/3 [00:00<?, ?it/s]\n",
      "Model 1 folds:   0%|                                                                                                                                      | 0/5 [00:00<?, ?it/s]\u001b[A\n",
      "Model 1 folds:  20%|█████████████████████████▏                                                                                                    | 1/5 [00:38<02:33, 38.43s/it]\u001b[A\n",
      "Model 1 folds:  40%|██████████████████████████████████████████████████▍                                                                           | 2/5 [01:17<01:55, 38.57s/it]\u001b[A\n",
      "Model 1 folds:  60%|███████████████████████████████████████████████████████████████████████████▌                                                  | 3/5 [01:56<01:17, 38.78s/it]\u001b[A\n",
      "Model 1 folds:  80%|████████████████████████████████████████████████████████████████████████████████████████████████████▊                         | 4/5 [02:34<00:38, 38.48s/it]\u001b[A\n",
      "Model 1 folds: 100%|██████████████████████████████████████████████████████████████████████████████████████████████████████████████████████████████| 5/5 [03:12<00:00, 38.31s/it]\u001b[A\n",
      "Base models:  33%|██████████████████████████████████████████▎                                                                                    | 1/3 [03:12<06:24, 192.17s/it]\u001b[A\n",
      "Model 2 folds:   0%|                                                                                                                                      | 0/5 [00:00<?, ?it/s]\u001b[A"
     ]
    },
    {
     "name": "stdout",
     "output_type": "stream",
     "text": [
      "[LightGBM] [Info] Auto-choosing row-wise multi-threading, the overhead of testing was 0.003911 seconds.\n",
      "You can set `force_row_wise=true` to remove the overhead.\n",
      "And if memory is not enough, you can set `force_col_wise=true`.\n",
      "[LightGBM] [Info] Total Bins 2745\n",
      "[LightGBM] [Info] Number of data points in the train set: 508373, number of used features: 24\n",
      "[LightGBM] [Info] Start training from score 68673.084757\n",
      "[LightGBM] [Warning] No further splits with positive gain, best gain: -inf\n"
     ]
    },
    {
     "name": "stderr",
     "output_type": "stream",
     "text": [
      "\n",
      "Model 2 folds:  20%|█████████████████████████▏                                                                                                    | 1/5 [00:17<01:11, 17.75s/it]\u001b[A"
     ]
    },
    {
     "name": "stdout",
     "output_type": "stream",
     "text": [
      "[LightGBM] [Info] Auto-choosing row-wise multi-threading, the overhead of testing was 0.003684 seconds.\n",
      "You can set `force_row_wise=true` to remove the overhead.\n",
      "And if memory is not enough, you can set `force_col_wise=true`.\n",
      "[LightGBM] [Info] Total Bins 2748\n",
      "[LightGBM] [Info] Number of data points in the train set: 508373, number of used features: 24\n",
      "[LightGBM] [Info] Start training from score 68675.229528\n",
      "[LightGBM] [Warning] No further splits with positive gain, best gain: -inf\n"
     ]
    },
    {
     "name": "stderr",
     "output_type": "stream",
     "text": [
      "\n",
      "Model 2 folds:  40%|██████████████████████████████████████████████████▍                                                                           | 2/5 [00:34<00:51, 17.22s/it]\u001b[A"
     ]
    },
    {
     "name": "stdout",
     "output_type": "stream",
     "text": [
      "[LightGBM] [Info] Auto-choosing row-wise multi-threading, the overhead of testing was 0.003872 seconds.\n",
      "You can set `force_row_wise=true` to remove the overhead.\n",
      "And if memory is not enough, you can set `force_col_wise=true`.\n",
      "[LightGBM] [Info] Total Bins 2748\n",
      "[LightGBM] [Info] Number of data points in the train set: 508374, number of used features: 24\n",
      "[LightGBM] [Info] Start training from score 68589.420421\n",
      "[LightGBM] [Warning] No further splits with positive gain, best gain: -inf\n",
      "[LightGBM] [Warning] No further splits with positive gain, best gain: -inf\n",
      "[LightGBM] [Warning] No further splits with positive gain, best gain: -inf\n",
      "[LightGBM] [Warning] No further splits with positive gain, best gain: -inf\n",
      "[LightGBM] [Warning] No further splits with positive gain, best gain: -inf\n",
      "[LightGBM] [Warning] No further splits with positive gain, best gain: -inf\n",
      "[LightGBM] [Warning] No further splits with positive gain, best gain: -inf\n",
      "[LightGBM] [Warning] No further splits with positive gain, best gain: -inf\n"
     ]
    },
    {
     "name": "stderr",
     "output_type": "stream",
     "text": [
      "\n",
      "Model 2 folds:  60%|███████████████████████████████████████████████████████████████████████████▌                                                  | 3/5 [00:51<00:34, 17.18s/it]\u001b[A"
     ]
    },
    {
     "name": "stdout",
     "output_type": "stream",
     "text": [
      "[LightGBM] [Info] Auto-choosing row-wise multi-threading, the overhead of testing was 0.003887 seconds.\n",
      "You can set `force_row_wise=true` to remove the overhead.\n",
      "And if memory is not enough, you can set `force_col_wise=true`.\n",
      "[LightGBM] [Info] Total Bins 2748\n",
      "[LightGBM] [Info] Number of data points in the train set: 508374, number of used features: 24\n",
      "[LightGBM] [Info] Start training from score 68682.629430\n",
      "[LightGBM] [Warning] No further splits with positive gain, best gain: -inf\n",
      "[LightGBM] [Warning] No further splits with positive gain, best gain: -inf\n",
      "[LightGBM] [Warning] No further splits with positive gain, best gain: -inf\n",
      "[LightGBM] [Warning] No further splits with positive gain, best gain: -inf\n"
     ]
    },
    {
     "name": "stderr",
     "output_type": "stream",
     "text": [
      "\n",
      "Model 2 folds:  80%|████████████████████████████████████████████████████████████████████████████████████████████████████▊                         | 4/5 [01:08<00:17, 17.07s/it]\u001b[A"
     ]
    },
    {
     "name": "stdout",
     "output_type": "stream",
     "text": [
      "[LightGBM] [Info] Auto-choosing row-wise multi-threading, the overhead of testing was 0.003834 seconds.\n",
      "You can set `force_row_wise=true` to remove the overhead.\n",
      "And if memory is not enough, you can set `force_col_wise=true`.\n",
      "[LightGBM] [Info] Total Bins 2748\n",
      "[LightGBM] [Info] Number of data points in the train set: 508374, number of used features: 24\n",
      "[LightGBM] [Info] Start training from score 68679.112651\n",
      "[LightGBM] [Warning] No further splits with positive gain, best gain: -inf\n",
      "[LightGBM] [Warning] No further splits with positive gain, best gain: -inf\n",
      "[LightGBM] [Warning] No further splits with positive gain, best gain: -inf\n",
      "[LightGBM] [Warning] No further splits with positive gain, best gain: -inf\n"
     ]
    },
    {
     "name": "stderr",
     "output_type": "stream",
     "text": [
      "\n",
      "Model 2 folds: 100%|██████████████████████████████████████████████████████████████████████████████████████████████████████████████████████████████| 5/5 [01:25<00:00, 17.05s/it]\u001b[A\n",
      "Base models:  67%|████████████████████████████████████████████████████████████████████████████████████▋                                          | 2/3 [04:37<02:09, 129.51s/it]\u001b[A\n",
      "Model 3 folds:   0%|                                                                                                                                      | 0/5 [00:00<?, ?it/s]\u001b[A\n",
      "Model 3 folds:  20%|█████████████████████████▏                                                                                                    | 1/5 [00:37<02:30, 37.73s/it]\u001b[A\n",
      "Model 3 folds:  40%|██████████████████████████████████████████████████▍                                                                           | 2/5 [01:15<01:52, 37.57s/it]\u001b[A\n",
      "Model 3 folds:  60%|███████████████████████████████████████████████████████████████████████████▌                                                  | 3/5 [01:54<01:16, 38.36s/it]\u001b[A\n",
      "Model 3 folds:  80%|████████████████████████████████████████████████████████████████████████████████████████████████████▊                         | 4/5 [02:34<00:38, 38.87s/it]\u001b[A\n",
      "Model 3 folds: 100%|██████████████████████████████████████████████████████████████████████████████████████████████████████████████████████████████| 5/5 [03:16<00:00, 40.04s/it]\u001b[A\n",
      "Base models: 100%|███████████████████████████████████████████████████████████████████████████████████████████████████████████████████████████████| 3/3 [07:54<00:00, 158.03s/it]\u001b[A\n",
      "[I 2025-09-10 05:48:48,151] Trial 2 finished with value: 6997.674570392889 and parameters: {'rf_n_estimators': 455, 'rf_max_depth': 30, 'rf_min_samples_leaf': 3, 'rf_min_samples_split': 8, 'rf_max_features': 'sqrt', 'lgbm_n_estimators': 1855, 'lgbm_max_depth': 9, 'lgbm_learning_rate': 0.04242658540631049, 'lgbm_num_leaves': 91, 'lgbm_subsample': 0.7867698597036263, 'lgbm_colsample_bytree': 0.9318999378912337, 'lgbm_reg_alpha': 0.019420216343485473, 'lgbm_reg_lambda': 0.13534069475281635, 'xgb_n_estimators': 1611, 'xgb_max_depth': 12, 'xgb_learning_rate': 0.019195781111557137, 'xgb_subsample': 0.8962863880270682, 'xgb_colsample_bytree': 0.7210129457635254, 'xgb_gamma': 0.0015825891029491261, 'xgb_reg_alpha': 0.09116690285185983, 'xgb_reg_lambda': 0.021207475414872685}. Best is trial 2 with value: 6997.674570392889.\n",
      "Base models:   0%|                                                                                                                                        | 0/3 [00:00<?, ?it/s]\n",
      "Model 1 folds:   0%|                                                                                                                                      | 0/5 [00:00<?, ?it/s]\u001b[A\n",
      "Model 1 folds:  20%|█████████████████████████▏                                                                                                    | 1/5 [00:34<02:18, 34.59s/it]\u001b[A\n",
      "Model 1 folds:  40%|██████████████████████████████████████████████████▍                                                                           | 2/5 [01:09<01:43, 34.52s/it]\u001b[A\n",
      "Model 1 folds:  60%|███████████████████████████████████████████████████████████████████████████▌                                                  | 3/5 [01:43<01:09, 34.62s/it]\u001b[A\n",
      "Model 1 folds:  80%|████████████████████████████████████████████████████████████████████████████████████████████████████▊                         | 4/5 [02:18<00:34, 34.58s/it]\u001b[A\n",
      "Model 1 folds: 100%|██████████████████████████████████████████████████████████████████████████████████████████████████████████████████████████████| 5/5 [02:54<00:00, 35.22s/it]\u001b[A\n",
      "Base models:  33%|██████████████████████████████████████████▎                                                                                    | 1/3 [02:54<05:49, 174.68s/it]\u001b[A\n",
      "Model 2 folds:   0%|                                                                                                                                      | 0/5 [00:00<?, ?it/s]\u001b[A"
     ]
    },
    {
     "name": "stdout",
     "output_type": "stream",
     "text": [
      "[LightGBM] [Info] Auto-choosing row-wise multi-threading, the overhead of testing was 0.004274 seconds.\n",
      "You can set `force_row_wise=true` to remove the overhead.\n",
      "And if memory is not enough, you can set `force_col_wise=true`.\n",
      "[LightGBM] [Info] Total Bins 2745\n",
      "[LightGBM] [Info] Number of data points in the train set: 508373, number of used features: 24\n",
      "[LightGBM] [Info] Start training from score 68673.084757\n"
     ]
    },
    {
     "name": "stderr",
     "output_type": "stream",
     "text": [
      "\n",
      "Model 2 folds:  20%|█████████████████████████▏                                                                                                    | 1/5 [00:12<00:48, 12.25s/it]\u001b[A"
     ]
    },
    {
     "name": "stdout",
     "output_type": "stream",
     "text": [
      "[LightGBM] [Info] Auto-choosing row-wise multi-threading, the overhead of testing was 0.006121 seconds.\n",
      "You can set `force_row_wise=true` to remove the overhead.\n",
      "And if memory is not enough, you can set `force_col_wise=true`.\n",
      "[LightGBM] [Info] Total Bins 2748\n",
      "[LightGBM] [Info] Number of data points in the train set: 508373, number of used features: 24\n",
      "[LightGBM] [Info] Start training from score 68675.229528\n"
     ]
    },
    {
     "name": "stderr",
     "output_type": "stream",
     "text": [
      "\n",
      "Model 2 folds:  40%|██████████████████████████████████████████████████▍                                                                           | 2/5 [00:24<00:37, 12.34s/it]\u001b[A"
     ]
    },
    {
     "name": "stdout",
     "output_type": "stream",
     "text": [
      "[LightGBM] [Info] Auto-choosing row-wise multi-threading, the overhead of testing was 0.005734 seconds.\n",
      "You can set `force_row_wise=true` to remove the overhead.\n",
      "And if memory is not enough, you can set `force_col_wise=true`.\n",
      "[LightGBM] [Info] Total Bins 2748\n",
      "[LightGBM] [Info] Number of data points in the train set: 508374, number of used features: 24\n",
      "[LightGBM] [Info] Start training from score 68589.420421\n"
     ]
    },
    {
     "name": "stderr",
     "output_type": "stream",
     "text": [
      "\n",
      "Model 2 folds:  60%|███████████████████████████████████████████████████████████████████████████▌                                                  | 3/5 [00:37<00:24, 12.37s/it]\u001b[A"
     ]
    },
    {
     "name": "stdout",
     "output_type": "stream",
     "text": [
      "[LightGBM] [Info] Auto-choosing row-wise multi-threading, the overhead of testing was 0.004345 seconds.\n",
      "You can set `force_row_wise=true` to remove the overhead.\n",
      "And if memory is not enough, you can set `force_col_wise=true`.\n",
      "[LightGBM] [Info] Total Bins 2748\n",
      "[LightGBM] [Info] Number of data points in the train set: 508374, number of used features: 24\n",
      "[LightGBM] [Info] Start training from score 68682.629430\n"
     ]
    },
    {
     "name": "stderr",
     "output_type": "stream",
     "text": [
      "\n",
      "Model 2 folds:  80%|████████████████████████████████████████████████████████████████████████████████████████████████████▊                         | 4/5 [00:49<00:12, 12.33s/it]\u001b[A"
     ]
    },
    {
     "name": "stdout",
     "output_type": "stream",
     "text": [
      "[LightGBM] [Info] Auto-choosing row-wise multi-threading, the overhead of testing was 0.003812 seconds.\n",
      "You can set `force_row_wise=true` to remove the overhead.\n",
      "And if memory is not enough, you can set `force_col_wise=true`.\n",
      "[LightGBM] [Info] Total Bins 2748\n",
      "[LightGBM] [Info] Number of data points in the train set: 508374, number of used features: 24\n",
      "[LightGBM] [Info] Start training from score 68679.112651\n"
     ]
    },
    {
     "name": "stderr",
     "output_type": "stream",
     "text": [
      "\n",
      "Model 2 folds: 100%|██████████████████████████████████████████████████████████████████████████████████████████████████████████████████████████████| 5/5 [01:01<00:00, 12.31s/it]\u001b[A\n",
      "Base models:  67%|████████████████████████████████████████████████████████████████████████████████████▋                                          | 2/3 [03:56<01:48, 108.17s/it]\u001b[A\n",
      "Model 3 folds:   0%|                                                                                                                                      | 0/5 [00:00<?, ?it/s]\u001b[A\n",
      "Model 3 folds:  20%|█████████████████████████▏                                                                                                    | 1/5 [00:09<00:37,  9.36s/it]\u001b[A\n",
      "Model 3 folds:  40%|██████████████████████████████████████████████████▍                                                                           | 2/5 [00:18<00:28,  9.40s/it]\u001b[A\n",
      "Model 3 folds:  60%|███████████████████████████████████████████████████████████████████████████▌                                                  | 3/5 [00:28<00:18,  9.36s/it]\u001b[A\n",
      "Model 3 folds:  80%|████████████████████████████████████████████████████████████████████████████████████████████████████▊                         | 4/5 [00:37<00:09,  9.33s/it]\u001b[A\n",
      "Model 3 folds: 100%|██████████████████████████████████████████████████████████████████████████████████████████████████████████████████████████████| 5/5 [00:46<00:00,  9.31s/it]\u001b[A\n",
      "Base models: 100%|████████████████████████████████████████████████████████████████████████████████████████████████████████████████████████████████| 3/3 [04:42<00:00, 94.31s/it]\u001b[A\n",
      "[I 2025-09-10 05:53:31,251] Trial 3 finished with value: 8021.764494490429 and parameters: {'rf_n_estimators': 435, 'rf_max_depth': 23, 'rf_min_samples_leaf': 2, 'rf_min_samples_split': 9, 'rf_max_features': 'sqrt', 'lgbm_n_estimators': 1216, 'lgbm_max_depth': 12, 'lgbm_learning_rate': 0.011344381572159504, 'lgbm_num_leaves': 70, 'lgbm_subsample': 0.9930610472765987, 'lgbm_colsample_bytree': 0.8655285065516036, 'lgbm_reg_alpha': 0.07649704232222218, 'lgbm_reg_lambda': 0.002104617149706288, 'xgb_n_estimators': 1768, 'xgb_max_depth': 6, 'xgb_learning_rate': 0.04477978452865594, 'xgb_subsample': 0.75614809001778, 'xgb_colsample_bytree': 0.8863472152111841, 'xgb_gamma': 1.2941243561886735, 'xgb_reg_alpha': 0.19035343176275138, 'xgb_reg_lambda': 0.028536716205797976}. Best is trial 2 with value: 6997.674570392889.\n",
      "Base models:   0%|                                                                                                                                        | 0/3 [00:00<?, ?it/s]\n",
      "Model 1 folds:   0%|                                                                                                                                      | 0/5 [00:00<?, ?it/s]\u001b[A\n",
      "Model 1 folds:  20%|█████████████████████████▏                                                                                                    | 1/5 [00:30<02:01, 30.45s/it]\u001b[A\n",
      "Model 1 folds:  40%|██████████████████████████████████████████████████▍                                                                           | 2/5 [01:00<01:31, 30.49s/it]\u001b[A\n",
      "Model 1 folds:  60%|███████████████████████████████████████████████████████████████████████████▌                                                  | 3/5 [01:31<01:00, 30.47s/it]\u001b[A\n",
      "Model 1 folds:  80%|████████████████████████████████████████████████████████████████████████████████████████████████████▊                         | 4/5 [02:03<00:31, 31.20s/it]\u001b[A\n",
      "Model 1 folds: 100%|██████████████████████████████████████████████████████████████████████████████████████████████████████████████████████████████| 5/5 [02:34<00:00, 31.04s/it]\u001b[A\n",
      "Base models:  33%|██████████████████████████████████████████▎                                                                                    | 1/3 [02:34<05:08, 154.48s/it]\u001b[A\n",
      "Model 2 folds:   0%|                                                                                                                                      | 0/5 [00:00<?, ?it/s]\u001b[A"
     ]
    },
    {
     "name": "stdout",
     "output_type": "stream",
     "text": [
      "[LightGBM] [Info] Auto-choosing row-wise multi-threading, the overhead of testing was 0.004162 seconds.\n",
      "You can set `force_row_wise=true` to remove the overhead.\n",
      "And if memory is not enough, you can set `force_col_wise=true`.\n",
      "[LightGBM] [Info] Total Bins 2745\n",
      "[LightGBM] [Info] Number of data points in the train set: 508373, number of used features: 24\n",
      "[LightGBM] [Info] Start training from score 68673.084757\n"
     ]
    },
    {
     "name": "stderr",
     "output_type": "stream",
     "text": [
      "\n",
      "Model 2 folds:  20%|█████████████████████████▏                                                                                                    | 1/5 [00:06<00:25,  6.49s/it]\u001b[A"
     ]
    },
    {
     "name": "stdout",
     "output_type": "stream",
     "text": [
      "[LightGBM] [Info] Auto-choosing row-wise multi-threading, the overhead of testing was 0.003486 seconds.\n",
      "You can set `force_row_wise=true` to remove the overhead.\n",
      "And if memory is not enough, you can set `force_col_wise=true`.\n",
      "[LightGBM] [Info] Total Bins 2748\n",
      "[LightGBM] [Info] Number of data points in the train set: 508373, number of used features: 24\n",
      "[LightGBM] [Info] Start training from score 68675.229528\n"
     ]
    },
    {
     "name": "stderr",
     "output_type": "stream",
     "text": [
      "\n",
      "Model 2 folds:  40%|██████████████████████████████████████████████████▍                                                                           | 2/5 [00:12<00:19,  6.37s/it]\u001b[A"
     ]
    },
    {
     "name": "stdout",
     "output_type": "stream",
     "text": [
      "[LightGBM] [Info] Auto-choosing row-wise multi-threading, the overhead of testing was 0.003837 seconds.\n",
      "You can set `force_row_wise=true` to remove the overhead.\n",
      "And if memory is not enough, you can set `force_col_wise=true`.\n",
      "[LightGBM] [Info] Total Bins 2748\n",
      "[LightGBM] [Info] Number of data points in the train set: 508374, number of used features: 24\n",
      "[LightGBM] [Info] Start training from score 68589.420421\n"
     ]
    },
    {
     "name": "stderr",
     "output_type": "stream",
     "text": [
      "\n",
      "Model 2 folds:  60%|███████████████████████████████████████████████████████████████████████████▌                                                  | 3/5 [00:19<00:12,  6.33s/it]\u001b[A"
     ]
    },
    {
     "name": "stdout",
     "output_type": "stream",
     "text": [
      "[LightGBM] [Info] Auto-choosing row-wise multi-threading, the overhead of testing was 0.003945 seconds.\n",
      "You can set `force_row_wise=true` to remove the overhead.\n",
      "And if memory is not enough, you can set `force_col_wise=true`.\n",
      "[LightGBM] [Info] Total Bins 2748\n",
      "[LightGBM] [Info] Number of data points in the train set: 508374, number of used features: 24\n",
      "[LightGBM] [Info] Start training from score 68682.629430\n"
     ]
    },
    {
     "name": "stderr",
     "output_type": "stream",
     "text": [
      "\n",
      "Model 2 folds:  80%|████████████████████████████████████████████████████████████████████████████████████████████████████▊                         | 4/5 [00:25<00:06,  6.36s/it]\u001b[A"
     ]
    },
    {
     "name": "stdout",
     "output_type": "stream",
     "text": [
      "[LightGBM] [Info] Auto-choosing row-wise multi-threading, the overhead of testing was 0.003810 seconds.\n",
      "You can set `force_row_wise=true` to remove the overhead.\n",
      "And if memory is not enough, you can set `force_col_wise=true`.\n",
      "[LightGBM] [Info] Total Bins 2748\n",
      "[LightGBM] [Info] Number of data points in the train set: 508374, number of used features: 24\n",
      "[LightGBM] [Info] Start training from score 68679.112651\n"
     ]
    },
    {
     "name": "stderr",
     "output_type": "stream",
     "text": [
      "\n",
      "Model 2 folds: 100%|██████████████████████████████████████████████████████████████████████████████████████████████████████████████████████████████| 5/5 [00:31<00:00,  6.37s/it]\u001b[A\n",
      "Base models:  67%|█████████████████████████████████████████████████████████████████████████████████████▎                                          | 2/3 [03:06<01:22, 82.35s/it]\u001b[A\n",
      "Model 3 folds:   0%|                                                                                                                                      | 0/5 [00:00<?, ?it/s]\u001b[A\n",
      "Model 3 folds:  20%|█████████████████████████▏                                                                                                    | 1/5 [00:40<02:41, 40.32s/it]\u001b[A\n",
      "Model 3 folds:  40%|██████████████████████████████████████████████████▍                                                                           | 2/5 [01:20<02:00, 40.13s/it]\u001b[A\n",
      "Model 3 folds:  60%|███████████████████████████████████████████████████████████████████████████▌                                                  | 3/5 [02:00<01:20, 40.03s/it]\u001b[A\n",
      "Model 3 folds:  80%|████████████████████████████████████████████████████████████████████████████████████████████████████▊                         | 4/5 [02:40<00:39, 39.99s/it]\u001b[A\n",
      "Model 3 folds: 100%|██████████████████████████████████████████████████████████████████████████████████████████████████████████████████████████████| 5/5 [03:20<00:00, 39.96s/it]\u001b[A\n",
      "Base models: 100%|███████████████████████████████████████████████████████████████████████████████████████████████████████████████████████████████| 3/3 [06:26<00:00, 128.80s/it]\u001b[A\n",
      "[I 2025-09-10 05:59:57,832] Trial 4 finished with value: 7220.246061968156 and parameters: {'rf_n_estimators': 611, 'rf_max_depth': 12, 'rf_min_samples_leaf': 5, 'rf_min_samples_split': 10, 'rf_max_features': 'log2', 'lgbm_n_estimators': 892, 'lgbm_max_depth': 16, 'lgbm_learning_rate': 0.039402992504096755, 'lgbm_num_leaves': 35, 'lgbm_subsample': 0.9107924013168762, 'lgbm_colsample_bytree': 0.8393207073715483, 'lgbm_reg_alpha': 0.005000663358621135, 'lgbm_reg_lambda': 0.33255543677791505, 'xgb_n_estimators': 1621, 'xgb_max_depth': 12, 'xgb_learning_rate': 0.014255343581561773, 'xgb_subsample': 0.8688708166250598, 'xgb_colsample_bytree': 0.8125612507743386, 'xgb_gamma': 0.01633545522032646, 'xgb_reg_alpha': 0.008720172737919692, 'xgb_reg_lambda': 0.001933465017838867}. Best is trial 2 with value: 6997.674570392889.\n",
      "Base models:   0%|                                                                                                                                        | 0/3 [00:00<?, ?it/s]\n",
      "Model 1 folds:   0%|                                                                                                                                      | 0/5 [00:00<?, ?it/s]\u001b[A\n",
      "Model 1 folds:  20%|█████████████████████████▏                                                                                                    | 1/5 [00:39<02:37, 39.42s/it]\u001b[A\n",
      "Model 1 folds:  40%|██████████████████████████████████████████████████▍                                                                           | 2/5 [01:19<01:59, 39.74s/it]\u001b[A\n",
      "Model 1 folds:  60%|███████████████████████████████████████████████████████████████████████████▌                                                  | 3/5 [01:58<01:19, 39.68s/it]\u001b[A\n",
      "Model 1 folds:  80%|████████████████████████████████████████████████████████████████████████████████████████████████████▊                         | 4/5 [02:38<00:39, 39.70s/it]\u001b[A\n",
      "Model 1 folds: 100%|██████████████████████████████████████████████████████████████████████████████████████████████████████████████████████████████| 5/5 [03:18<00:00, 39.89s/it]\u001b[A\n",
      "Base models:  33%|██████████████████████████████████████████▎                                                                                    | 1/3 [03:18<06:37, 198.95s/it]\u001b[A\n",
      "Model 2 folds:   0%|                                                                                                                                      | 0/5 [00:00<?, ?it/s]\u001b[A"
     ]
    },
    {
     "name": "stdout",
     "output_type": "stream",
     "text": [
      "[LightGBM] [Info] Auto-choosing row-wise multi-threading, the overhead of testing was 0.004389 seconds.\n",
      "You can set `force_row_wise=true` to remove the overhead.\n",
      "And if memory is not enough, you can set `force_col_wise=true`.\n",
      "[LightGBM] [Info] Total Bins 2745\n",
      "[LightGBM] [Info] Number of data points in the train set: 508373, number of used features: 24\n",
      "[LightGBM] [Info] Start training from score 68673.084757\n"
     ]
    },
    {
     "name": "stderr",
     "output_type": "stream",
     "text": [
      "\n",
      "Model 2 folds:  20%|█████████████████████████▏                                                                                                    | 1/5 [00:16<01:06, 16.59s/it]\u001b[A"
     ]
    },
    {
     "name": "stdout",
     "output_type": "stream",
     "text": [
      "[LightGBM] [Info] Auto-choosing row-wise multi-threading, the overhead of testing was 0.004964 seconds.\n",
      "You can set `force_row_wise=true` to remove the overhead.\n",
      "And if memory is not enough, you can set `force_col_wise=true`.\n",
      "[LightGBM] [Info] Total Bins 2748\n",
      "[LightGBM] [Info] Number of data points in the train set: 508373, number of used features: 24\n",
      "[LightGBM] [Info] Start training from score 68675.229528\n"
     ]
    },
    {
     "name": "stderr",
     "output_type": "stream",
     "text": [
      "\n",
      "Model 2 folds:  40%|██████████████████████████████████████████████████▍                                                                           | 2/5 [00:34<00:52, 17.36s/it]\u001b[A"
     ]
    },
    {
     "name": "stdout",
     "output_type": "stream",
     "text": [
      "[LightGBM] [Info] Auto-choosing row-wise multi-threading, the overhead of testing was 0.004540 seconds.\n",
      "You can set `force_row_wise=true` to remove the overhead.\n",
      "And if memory is not enough, you can set `force_col_wise=true`.\n",
      "[LightGBM] [Info] Total Bins 2748\n",
      "[LightGBM] [Info] Number of data points in the train set: 508374, number of used features: 24\n",
      "[LightGBM] [Info] Start training from score 68589.420421\n"
     ]
    },
    {
     "name": "stderr",
     "output_type": "stream",
     "text": [
      "\n",
      "Model 2 folds:  60%|███████████████████████████████████████████████████████████████████████████▌                                                  | 3/5 [00:52<00:35, 17.53s/it]\u001b[A"
     ]
    },
    {
     "name": "stdout",
     "output_type": "stream",
     "text": [
      "[LightGBM] [Info] Auto-choosing row-wise multi-threading, the overhead of testing was 0.003915 seconds.\n",
      "You can set `force_row_wise=true` to remove the overhead.\n",
      "And if memory is not enough, you can set `force_col_wise=true`.\n",
      "[LightGBM] [Info] Total Bins 2748\n",
      "[LightGBM] [Info] Number of data points in the train set: 508374, number of used features: 24\n",
      "[LightGBM] [Info] Start training from score 68682.629430\n"
     ]
    },
    {
     "name": "stderr",
     "output_type": "stream",
     "text": [
      "\n",
      "Model 2 folds:  80%|████████████████████████████████████████████████████████████████████████████████████████████████████▊                         | 4/5 [01:10<00:17, 17.76s/it]\u001b[A"
     ]
    },
    {
     "name": "stdout",
     "output_type": "stream",
     "text": [
      "[LightGBM] [Info] Auto-choosing row-wise multi-threading, the overhead of testing was 0.004265 seconds.\n",
      "You can set `force_row_wise=true` to remove the overhead.\n",
      "And if memory is not enough, you can set `force_col_wise=true`.\n",
      "[LightGBM] [Info] Total Bins 2748\n",
      "[LightGBM] [Info] Number of data points in the train set: 508374, number of used features: 24\n",
      "[LightGBM] [Info] Start training from score 68679.112651\n"
     ]
    },
    {
     "name": "stderr",
     "output_type": "stream",
     "text": [
      "\n",
      "Model 2 folds: 100%|██████████████████████████████████████████████████████████████████████████████████████████████████████████████████████████████| 5/5 [01:26<00:00, 17.35s/it]\u001b[A\n",
      "Base models:  67%|████████████████████████████████████████████████████████████████████████████████████▋                                          | 2/3 [04:45<02:13, 133.07s/it]\u001b[A\n",
      "Model 3 folds:   0%|                                                                                                                                      | 0/5 [00:00<?, ?it/s]\u001b[A\n",
      "Model 3 folds:  20%|█████████████████████████▏                                                                                                    | 1/5 [00:09<00:39,  9.90s/it]\u001b[A\n",
      "Model 3 folds:  40%|██████████████████████████████████████████████████▍                                                                           | 2/5 [00:19<00:28,  9.66s/it]\u001b[A\n",
      "Model 3 folds:  60%|███████████████████████████████████████████████████████████████████████████▌                                                  | 3/5 [00:27<00:18,  9.04s/it]\u001b[A\n",
      "Model 3 folds:  80%|████████████████████████████████████████████████████████████████████████████████████████████████████▊                         | 4/5 [00:35<00:08,  8.74s/it]\u001b[A\n",
      "Model 3 folds: 100%|██████████████████████████████████████████████████████████████████████████████████████████████████████████████████████████████| 5/5 [00:44<00:00,  8.58s/it]\u001b[A\n",
      "Base models: 100%|███████████████████████████████████████████████████████████████████████████████████████████████████████████████████████████████| 3/3 [05:30<00:00, 110.05s/it]\u001b[A\n",
      "[I 2025-09-10 06:05:28,042] Trial 5 finished with value: 7452.150926034207 and parameters: {'rf_n_estimators': 578, 'rf_max_depth': 19, 'rf_min_samples_leaf': 8, 'rf_min_samples_split': 5, 'rf_max_features': 'sqrt', 'lgbm_n_estimators': 1695, 'lgbm_max_depth': 18, 'lgbm_learning_rate': 0.03600226417064865, 'lgbm_num_leaves': 95, 'lgbm_subsample': 0.8896643086725092, 'lgbm_colsample_bytree': 0.9959042127661304, 'lgbm_reg_alpha': 0.06430984507279675, 'lgbm_reg_lambda': 0.11619985702894159, 'xgb_n_estimators': 1527, 'xgb_max_depth': 6, 'xgb_learning_rate': 0.007230391559069124, 'xgb_subsample': 0.9970759930303383, 'xgb_colsample_bytree': 0.8982583085304771, 'xgb_gamma': 0.0027741805106208345, 'xgb_reg_alpha': 0.01806405005599721, 'xgb_reg_lambda': 0.17352239098307334}. Best is trial 2 with value: 6997.674570392889.\n",
      "Base models:   0%|                                                                                                                                        | 0/3 [00:00<?, ?it/s]\n",
      "Model 1 folds:   0%|                                                                                                                                      | 0/5 [00:00<?, ?it/s]\u001b[A\n",
      "Model 1 folds:  20%|█████████████████████████▏                                                                                                    | 1/5 [00:39<02:38, 39.54s/it]\u001b[A\n",
      "Model 1 folds:  40%|██████████████████████████████████████████████████▍                                                                           | 2/5 [01:17<01:56, 38.84s/it]\u001b[A\n",
      "Model 1 folds:  60%|███████████████████████████████████████████████████████████████████████████▌                                                  | 3/5 [01:56<01:17, 38.55s/it]\u001b[A\n",
      "Model 1 folds:  80%|████████████████████████████████████████████████████████████████████████████████████████████████████▊                         | 4/5 [02:34<00:38, 38.49s/it]\u001b[A\n",
      "Model 1 folds: 100%|██████████████████████████████████████████████████████████████████████████████████████████████████████████████████████████████| 5/5 [03:12<00:00, 38.44s/it]\u001b[A\n",
      "Base models:  33%|██████████████████████████████████████████▎                                                                                    | 1/3 [03:12<06:25, 192.93s/it]\u001b[A\n",
      "Model 2 folds:   0%|                                                                                                                                      | 0/5 [00:00<?, ?it/s]\u001b[A"
     ]
    },
    {
     "name": "stdout",
     "output_type": "stream",
     "text": [
      "[LightGBM] [Info] Auto-choosing row-wise multi-threading, the overhead of testing was 0.003667 seconds.\n",
      "You can set `force_row_wise=true` to remove the overhead.\n",
      "And if memory is not enough, you can set `force_col_wise=true`.\n",
      "[LightGBM] [Info] Total Bins 2745\n",
      "[LightGBM] [Info] Number of data points in the train set: 508373, number of used features: 24\n",
      "[LightGBM] [Info] Start training from score 68673.084757\n"
     ]
    },
    {
     "name": "stderr",
     "output_type": "stream",
     "text": [
      "\n",
      "Model 2 folds:  20%|█████████████████████████▏                                                                                                    | 1/5 [00:13<00:53, 13.37s/it]\u001b[A"
     ]
    },
    {
     "name": "stdout",
     "output_type": "stream",
     "text": [
      "[LightGBM] [Info] Auto-choosing row-wise multi-threading, the overhead of testing was 0.004174 seconds.\n",
      "You can set `force_row_wise=true` to remove the overhead.\n",
      "And if memory is not enough, you can set `force_col_wise=true`.\n",
      "[LightGBM] [Info] Total Bins 2748\n",
      "[LightGBM] [Info] Number of data points in the train set: 508373, number of used features: 24\n",
      "[LightGBM] [Info] Start training from score 68675.229528\n"
     ]
    },
    {
     "name": "stderr",
     "output_type": "stream",
     "text": [
      "\n",
      "Model 2 folds:  40%|██████████████████████████████████████████████████▍                                                                           | 2/5 [00:26<00:40, 13.37s/it]\u001b[A"
     ]
    },
    {
     "name": "stdout",
     "output_type": "stream",
     "text": [
      "[LightGBM] [Info] Auto-choosing row-wise multi-threading, the overhead of testing was 0.003846 seconds.\n",
      "You can set `force_row_wise=true` to remove the overhead.\n",
      "And if memory is not enough, you can set `force_col_wise=true`.\n",
      "[LightGBM] [Info] Total Bins 2748\n",
      "[LightGBM] [Info] Number of data points in the train set: 508374, number of used features: 24\n",
      "[LightGBM] [Info] Start training from score 68589.420421\n"
     ]
    },
    {
     "name": "stderr",
     "output_type": "stream",
     "text": [
      "\n",
      "Model 2 folds:  60%|███████████████████████████████████████████████████████████████████████████▌                                                  | 3/5 [00:40<00:26, 13.42s/it]\u001b[A"
     ]
    },
    {
     "name": "stdout",
     "output_type": "stream",
     "text": [
      "[LightGBM] [Info] Auto-choosing row-wise multi-threading, the overhead of testing was 0.003837 seconds.\n",
      "You can set `force_row_wise=true` to remove the overhead.\n",
      "And if memory is not enough, you can set `force_col_wise=true`.\n",
      "[LightGBM] [Info] Total Bins 2748\n",
      "[LightGBM] [Info] Number of data points in the train set: 508374, number of used features: 24\n",
      "[LightGBM] [Info] Start training from score 68682.629430\n"
     ]
    },
    {
     "name": "stderr",
     "output_type": "stream",
     "text": [
      "\n",
      "Model 2 folds:  80%|████████████████████████████████████████████████████████████████████████████████████████████████████▊                         | 4/5 [00:53<00:13, 13.39s/it]\u001b[A"
     ]
    },
    {
     "name": "stdout",
     "output_type": "stream",
     "text": [
      "[LightGBM] [Info] Auto-choosing row-wise multi-threading, the overhead of testing was 0.003805 seconds.\n",
      "You can set `force_row_wise=true` to remove the overhead.\n",
      "And if memory is not enough, you can set `force_col_wise=true`.\n",
      "[LightGBM] [Info] Total Bins 2748\n",
      "[LightGBM] [Info] Number of data points in the train set: 508374, number of used features: 24\n",
      "[LightGBM] [Info] Start training from score 68679.112651\n"
     ]
    },
    {
     "name": "stderr",
     "output_type": "stream",
     "text": [
      "\n",
      "Model 2 folds: 100%|██████████████████████████████████████████████████████████████████████████████████████████████████████████████████████████████| 5/5 [01:07<00:00, 13.48s/it]\u001b[A\n",
      "Base models:  67%|████████████████████████████████████████████████████████████████████████████████████▋                                          | 2/3 [04:20<01:58, 118.97s/it]\u001b[A\n",
      "Model 3 folds:   0%|                                                                                                                                      | 0/5 [00:00<?, ?it/s]\u001b[A\n",
      "Model 3 folds:  20%|█████████████████████████▏                                                                                                    | 1/5 [00:16<01:06, 16.75s/it]\u001b[A\n",
      "Model 3 folds:  40%|██████████████████████████████████████████████████▍                                                                           | 2/5 [00:33<00:50, 16.78s/it]\u001b[A\n",
      "Model 3 folds:  60%|███████████████████████████████████████████████████████████████████████████▌                                                  | 3/5 [00:50<00:33, 16.86s/it]\u001b[A\n",
      "Model 3 folds:  80%|████████████████████████████████████████████████████████████████████████████████████████████████████▊                         | 4/5 [01:07<00:17, 17.00s/it]\u001b[A\n",
      "Model 3 folds: 100%|██████████████████████████████████████████████████████████████████████████████████████████████████████████████████████████████| 5/5 [01:24<00:00, 16.98s/it]\u001b[A\n",
      "Base models: 100%|███████████████████████████████████████████████████████████████████████████████████████████████████████████████████████████████| 3/3 [05:44<00:00, 114.94s/it]\u001b[A\n",
      "[I 2025-09-10 06:11:12,900] Trial 6 finished with value: 7988.811725770286 and parameters: {'rf_n_estimators': 784, 'rf_max_depth': 12, 'rf_min_samples_leaf': 2, 'rf_min_samples_split': 6, 'rf_max_features': 'log2', 'lgbm_n_estimators': 1428, 'lgbm_max_depth': 11, 'lgbm_learning_rate': 0.027064600004342056, 'lgbm_num_leaves': 82, 'lgbm_subsample': 0.9643365154324792, 'lgbm_colsample_bytree': 0.8747506631348482, 'lgbm_reg_alpha': 0.6545432771502393, 'lgbm_reg_lambda': 0.0034993883775641843, 'xgb_n_estimators': 1249, 'xgb_max_depth': 10, 'xgb_learning_rate': 0.010282106931476433, 'xgb_subsample': 0.948612921579966, 'xgb_colsample_bytree': 0.8121373474857314, 'xgb_gamma': 0.9866970330248183, 'xgb_reg_alpha': 0.05264264534540749, 'xgb_reg_lambda': 0.08589268878527587}. Best is trial 2 with value: 6997.674570392889.\n",
      "Base models:   0%|                                                                                                                                        | 0/3 [00:00<?, ?it/s]\n",
      "Model 1 folds:   0%|                                                                                                                                      | 0/5 [00:00<?, ?it/s]\u001b[A\n",
      "Model 1 folds:  20%|█████████████████████████▏                                                                                                    | 1/5 [00:41<02:45, 41.34s/it]\u001b[A\n",
      "Model 1 folds:  40%|██████████████████████████████████████████████████▍                                                                           | 2/5 [01:22<02:03, 41.09s/it]\u001b[A\n",
      "Model 1 folds:  60%|███████████████████████████████████████████████████████████████████████████▌                                                  | 3/5 [02:00<01:19, 39.77s/it]\u001b[A\n",
      "Model 1 folds:  80%|████████████████████████████████████████████████████████████████████████████████████████████████████▊                         | 4/5 [02:38<00:39, 39.12s/it]\u001b[A\n",
      "Model 1 folds: 100%|██████████████████████████████████████████████████████████████████████████████████████████████████████████████████████████████| 5/5 [03:21<00:00, 40.45s/it]\u001b[A\n",
      "Base models:  33%|██████████████████████████████████████████▎                                                                                    | 1/3 [03:21<06:42, 201.39s/it]\u001b[A\n",
      "Model 2 folds:   0%|                                                                                                                                      | 0/5 [00:00<?, ?it/s]\u001b[A"
     ]
    },
    {
     "name": "stdout",
     "output_type": "stream",
     "text": [
      "[LightGBM] [Info] Auto-choosing row-wise multi-threading, the overhead of testing was 0.003712 seconds.\n",
      "You can set `force_row_wise=true` to remove the overhead.\n",
      "And if memory is not enough, you can set `force_col_wise=true`.\n",
      "[LightGBM] [Info] Total Bins 2745\n",
      "[LightGBM] [Info] Number of data points in the train set: 508373, number of used features: 24\n",
      "[LightGBM] [Info] Start training from score 68673.084757\n"
     ]
    },
    {
     "name": "stderr",
     "output_type": "stream",
     "text": [
      "\n",
      "Model 2 folds:  20%|█████████████████████████▏                                                                                                    | 1/5 [00:14<00:57, 14.48s/it]\u001b[A"
     ]
    },
    {
     "name": "stdout",
     "output_type": "stream",
     "text": [
      "[LightGBM] [Info] Auto-choosing row-wise multi-threading, the overhead of testing was 0.003666 seconds.\n",
      "You can set `force_row_wise=true` to remove the overhead.\n",
      "And if memory is not enough, you can set `force_col_wise=true`.\n",
      "[LightGBM] [Info] Total Bins 2748\n",
      "[LightGBM] [Info] Number of data points in the train set: 508373, number of used features: 24\n",
      "[LightGBM] [Info] Start training from score 68675.229528\n"
     ]
    },
    {
     "name": "stderr",
     "output_type": "stream",
     "text": [
      "\n",
      "Model 2 folds:  40%|██████████████████████████████████████████████████▍                                                                           | 2/5 [00:28<00:41, 14.00s/it]\u001b[A"
     ]
    },
    {
     "name": "stdout",
     "output_type": "stream",
     "text": [
      "[LightGBM] [Info] Auto-choosing row-wise multi-threading, the overhead of testing was 0.003827 seconds.\n",
      "You can set `force_row_wise=true` to remove the overhead.\n",
      "And if memory is not enough, you can set `force_col_wise=true`.\n",
      "[LightGBM] [Info] Total Bins 2748\n",
      "[LightGBM] [Info] Number of data points in the train set: 508374, number of used features: 24\n",
      "[LightGBM] [Info] Start training from score 68589.420421\n"
     ]
    },
    {
     "name": "stderr",
     "output_type": "stream",
     "text": [
      "\n",
      "Model 2 folds:  60%|███████████████████████████████████████████████████████████████████████████▌                                                  | 3/5 [00:41<00:27, 13.82s/it]\u001b[A"
     ]
    },
    {
     "name": "stdout",
     "output_type": "stream",
     "text": [
      "[LightGBM] [Info] Auto-choosing row-wise multi-threading, the overhead of testing was 0.004170 seconds.\n",
      "You can set `force_row_wise=true` to remove the overhead.\n",
      "And if memory is not enough, you can set `force_col_wise=true`.\n",
      "[LightGBM] [Info] Total Bins 2748\n",
      "[LightGBM] [Info] Number of data points in the train set: 508374, number of used features: 24\n",
      "[LightGBM] [Info] Start training from score 68682.629430\n"
     ]
    },
    {
     "name": "stderr",
     "output_type": "stream",
     "text": [
      "\n",
      "Model 2 folds:  80%|████████████████████████████████████████████████████████████████████████████████████████████████████▊                         | 4/5 [00:55<00:13, 13.74s/it]\u001b[A"
     ]
    },
    {
     "name": "stdout",
     "output_type": "stream",
     "text": [
      "[LightGBM] [Info] Auto-choosing row-wise multi-threading, the overhead of testing was 0.003841 seconds.\n",
      "You can set `force_row_wise=true` to remove the overhead.\n",
      "And if memory is not enough, you can set `force_col_wise=true`.\n",
      "[LightGBM] [Info] Total Bins 2748\n",
      "[LightGBM] [Info] Number of data points in the train set: 508374, number of used features: 24\n",
      "[LightGBM] [Info] Start training from score 68679.112651\n"
     ]
    },
    {
     "name": "stderr",
     "output_type": "stream",
     "text": [
      "\n",
      "Model 2 folds: 100%|██████████████████████████████████████████████████████████████████████████████████████████████████████████████████████████████| 5/5 [01:09<00:00, 13.71s/it]\u001b[A\n",
      "Base models:  67%|████████████████████████████████████████████████████████████████████████████████████▋                                          | 2/3 [04:30<02:03, 123.52s/it]\u001b[A\n",
      "Model 3 folds:   0%|                                                                                                                                      | 0/5 [00:00<?, ?it/s]\u001b[A\n",
      "Model 3 folds:  20%|█████████████████████████▏                                                                                                    | 1/5 [00:22<01:29, 22.34s/it]\u001b[A\n",
      "Model 3 folds:  40%|██████████████████████████████████████████████████▍                                                                           | 2/5 [00:44<01:06, 22.26s/it]\u001b[A\n",
      "Model 3 folds:  60%|███████████████████████████████████████████████████████████████████████████▌                                                  | 3/5 [01:07<00:44, 22.40s/it]\u001b[A\n",
      "Model 3 folds:  80%|████████████████████████████████████████████████████████████████████████████████████████████████████▊                         | 4/5 [01:28<00:22, 22.18s/it]\u001b[A\n",
      "Model 3 folds: 100%|██████████████████████████████████████████████████████████████████████████████████████████████████████████████████████████████| 5/5 [01:50<00:00, 22.03s/it]\u001b[A\n",
      "Base models: 100%|███████████████████████████████████████████████████████████████████████████████████████████████████████████████████████████████| 3/3 [06:21<00:00, 127.04s/it]\u001b[A\n",
      "[I 2025-09-10 06:17:34,083] Trial 7 finished with value: 7100.652087008652 and parameters: {'rf_n_estimators': 517, 'rf_max_depth': 23, 'rf_min_samples_leaf': 8, 'rf_min_samples_split': 6, 'rf_max_features': 'log2', 'lgbm_n_estimators': 1835, 'lgbm_max_depth': 19, 'lgbm_learning_rate': 0.047328904667502, 'lgbm_num_leaves': 52, 'lgbm_subsample': 0.864408411579974, 'lgbm_colsample_bytree': 0.9131724160229813, 'lgbm_reg_alpha': 0.5034584649726582, 'lgbm_reg_lambda': 0.6365606405751175, 'xgb_n_estimators': 1267, 'xgb_max_depth': 11, 'xgb_learning_rate': 0.02695274134522273, 'xgb_subsample': 0.8018671875796505, 'xgb_colsample_bytree': 0.8577912796974524, 'xgb_gamma': 3.239834846438071, 'xgb_reg_alpha': 0.005786777816348559, 'xgb_reg_lambda': 0.0013424562024809078}. Best is trial 2 with value: 6997.674570392889.\n",
      "Base models:   0%|                                                                                                                                        | 0/3 [00:00<?, ?it/s]\n",
      "Model 1 folds:   0%|                                                                                                                                      | 0/5 [00:00<?, ?it/s]\u001b[A\n",
      "Model 1 folds:  20%|█████████████████████████▏                                                                                                    | 1/5 [00:43<02:55, 43.93s/it]\u001b[A\n",
      "Model 1 folds:  40%|██████████████████████████████████████████████████▍                                                                           | 2/5 [01:27<02:10, 43.56s/it]\u001b[A\n",
      "Model 1 folds:  60%|███████████████████████████████████████████████████████████████████████████▌                                                  | 3/5 [02:10<01:26, 43.29s/it]\u001b[A\n",
      "Model 1 folds:  80%|████████████████████████████████████████████████████████████████████████████████████████████████████▊                         | 4/5 [02:53<00:43, 43.19s/it]\u001b[A\n",
      "Model 1 folds: 100%|██████████████████████████████████████████████████████████████████████████████████████████████████████████████████████████████| 5/5 [03:36<00:00, 43.31s/it]\u001b[A\n",
      "Base models:  33%|██████████████████████████████████████████▎                                                                                    | 1/3 [03:36<07:13, 216.76s/it]\u001b[A\n",
      "Model 2 folds:   0%|                                                                                                                                      | 0/5 [00:00<?, ?it/s]\u001b[A"
     ]
    },
    {
     "name": "stdout",
     "output_type": "stream",
     "text": [
      "[LightGBM] [Info] Auto-choosing row-wise multi-threading, the overhead of testing was 0.003519 seconds.\n",
      "You can set `force_row_wise=true` to remove the overhead.\n",
      "And if memory is not enough, you can set `force_col_wise=true`.\n",
      "[LightGBM] [Info] Total Bins 2745\n",
      "[LightGBM] [Info] Number of data points in the train set: 508373, number of used features: 24\n",
      "[LightGBM] [Info] Start training from score 68673.084757\n"
     ]
    },
    {
     "name": "stderr",
     "output_type": "stream",
     "text": [
      "\n",
      "Model 2 folds:  20%|█████████████████████████▏                                                                                                    | 1/5 [00:12<00:48, 12.15s/it]\u001b[A"
     ]
    },
    {
     "name": "stdout",
     "output_type": "stream",
     "text": [
      "[LightGBM] [Info] Auto-choosing row-wise multi-threading, the overhead of testing was 0.003796 seconds.\n",
      "You can set `force_row_wise=true` to remove the overhead.\n",
      "And if memory is not enough, you can set `force_col_wise=true`.\n",
      "[LightGBM] [Info] Total Bins 2748\n",
      "[LightGBM] [Info] Number of data points in the train set: 508373, number of used features: 24\n",
      "[LightGBM] [Info] Start training from score 68675.229528\n"
     ]
    },
    {
     "name": "stderr",
     "output_type": "stream",
     "text": [
      "\n",
      "Model 2 folds:  40%|██████████████████████████████████████████████████▍                                                                           | 2/5 [00:24<00:36, 12.10s/it]\u001b[A"
     ]
    },
    {
     "name": "stdout",
     "output_type": "stream",
     "text": [
      "[LightGBM] [Info] Auto-choosing row-wise multi-threading, the overhead of testing was 0.003841 seconds.\n",
      "You can set `force_row_wise=true` to remove the overhead.\n",
      "And if memory is not enough, you can set `force_col_wise=true`.\n",
      "[LightGBM] [Info] Total Bins 2748\n",
      "[LightGBM] [Info] Number of data points in the train set: 508374, number of used features: 24\n",
      "[LightGBM] [Info] Start training from score 68589.420421\n"
     ]
    },
    {
     "name": "stderr",
     "output_type": "stream",
     "text": [
      "\n",
      "Model 2 folds:  60%|███████████████████████████████████████████████████████████████████████████▌                                                  | 3/5 [00:36<00:24, 12.12s/it]\u001b[A"
     ]
    },
    {
     "name": "stdout",
     "output_type": "stream",
     "text": [
      "[LightGBM] [Info] Auto-choosing row-wise multi-threading, the overhead of testing was 0.003965 seconds.\n",
      "You can set `force_row_wise=true` to remove the overhead.\n",
      "And if memory is not enough, you can set `force_col_wise=true`.\n",
      "[LightGBM] [Info] Total Bins 2748\n",
      "[LightGBM] [Info] Number of data points in the train set: 508374, number of used features: 24\n",
      "[LightGBM] [Info] Start training from score 68682.629430\n"
     ]
    },
    {
     "name": "stderr",
     "output_type": "stream",
     "text": [
      "\n",
      "Model 2 folds:  80%|████████████████████████████████████████████████████████████████████████████████████████████████████▊                         | 4/5 [00:48<00:12, 12.07s/it]\u001b[A"
     ]
    },
    {
     "name": "stdout",
     "output_type": "stream",
     "text": [
      "[LightGBM] [Info] Auto-choosing row-wise multi-threading, the overhead of testing was 0.003927 seconds.\n",
      "You can set `force_row_wise=true` to remove the overhead.\n",
      "And if memory is not enough, you can set `force_col_wise=true`.\n",
      "[LightGBM] [Info] Total Bins 2748\n",
      "[LightGBM] [Info] Number of data points in the train set: 508374, number of used features: 24\n",
      "[LightGBM] [Info] Start training from score 68679.112651\n"
     ]
    },
    {
     "name": "stderr",
     "output_type": "stream",
     "text": [
      "\n",
      "Model 2 folds: 100%|██████████████████████████████████████████████████████████████████████████████████████████████████████████████████████████████| 5/5 [01:00<00:00, 12.08s/it]\u001b[A\n",
      "Base models:  67%|████████████████████████████████████████████████████████████████████████████████████▋                                          | 2/3 [04:37<02:04, 124.81s/it]\u001b[A\n",
      "Model 3 folds:   0%|                                                                                                                                      | 0/5 [00:00<?, ?it/s]\u001b[A\n",
      "Model 3 folds:  20%|█████████████████████████▏                                                                                                    | 1/5 [00:13<00:54, 13.51s/it]\u001b[A\n",
      "Model 3 folds:  40%|██████████████████████████████████████████████████▍                                                                           | 2/5 [00:27<00:40, 13.57s/it]\u001b[A\n",
      "Model 3 folds:  60%|███████████████████████████████████████████████████████████████████████████▌                                                  | 3/5 [00:40<00:27, 13.61s/it]\u001b[A\n",
      "Model 3 folds:  80%|████████████████████████████████████████████████████████████████████████████████████████████████████▊                         | 4/5 [00:54<00:13, 13.67s/it]\u001b[A\n",
      "Model 3 folds: 100%|██████████████████████████████████████████████████████████████████████████████████████████████████████████████████████████████| 5/5 [01:09<00:00, 14.31s/it]\u001b[A\n",
      "Base models: 100%|███████████████████████████████████████████████████████████████████████████████████████████████████████████████████████████████| 3/3 [05:47<00:00, 115.73s/it]\u001b[A\n",
      "[I 2025-09-10 06:23:21,450] Trial 8 finished with value: 7351.845333125864 and parameters: {'rf_n_estimators': 551, 'rf_max_depth': 23, 'rf_min_samples_leaf': 4, 'rf_min_samples_split': 4, 'rf_max_features': 'log2', 'lgbm_n_estimators': 1120, 'lgbm_max_depth': 20, 'lgbm_learning_rate': 0.012864839049526266, 'lgbm_num_leaves': 79, 'lgbm_subsample': 0.8501168179736418, 'lgbm_colsample_bytree': 0.8307419968424867, 'lgbm_reg_alpha': 0.11340838353190849, 'lgbm_reg_lambda': 0.18061164246298073, 'xgb_n_estimators': 1788, 'xgb_max_depth': 8, 'xgb_learning_rate': 0.030639034574301408, 'xgb_subsample': 0.8834505288112685, 'xgb_colsample_bytree': 0.7074313527871058, 'xgb_gamma': 0.040060365648101656, 'xgb_reg_alpha': 0.003925110463921339, 'xgb_reg_lambda': 0.0768921917710027}. Best is trial 2 with value: 6997.674570392889.\n",
      "Base models:   0%|                                                                                                                                        | 0/3 [00:00<?, ?it/s]\n",
      "Model 1 folds:   0%|                                                                                                                                      | 0/5 [00:00<?, ?it/s]\u001b[A\n",
      "Model 1 folds:  20%|█████████████████████████▏                                                                                                    | 1/5 [00:49<03:19, 49.84s/it]\u001b[A\n",
      "Model 1 folds:  40%|██████████████████████████████████████████████████▍                                                                           | 2/5 [01:40<02:30, 50.20s/it]\u001b[A\n",
      "Model 1 folds:  60%|███████████████████████████████████████████████████████████████████████████▌                                                  | 3/5 [02:30<01:40, 50.03s/it]\u001b[A\n",
      "Model 1 folds:  80%|████████████████████████████████████████████████████████████████████████████████████████████████████▊                         | 4/5 [03:15<00:48, 48.32s/it]\u001b[A\n",
      "Model 1 folds: 100%|██████████████████████████████████████████████████████████████████████████████████████████████████████████████████████████████| 5/5 [03:59<00:00, 46.67s/it]\u001b[A\n",
      "Base models:  33%|██████████████████████████████████████████▎                                                                                    | 1/3 [03:59<07:59, 239.56s/it]\u001b[A\n",
      "Model 2 folds:   0%|                                                                                                                                      | 0/5 [00:00<?, ?it/s]\u001b[A"
     ]
    },
    {
     "name": "stdout",
     "output_type": "stream",
     "text": [
      "[LightGBM] [Info] Auto-choosing row-wise multi-threading, the overhead of testing was 0.003594 seconds.\n",
      "You can set `force_row_wise=true` to remove the overhead.\n",
      "And if memory is not enough, you can set `force_col_wise=true`.\n",
      "[LightGBM] [Info] Total Bins 2745\n",
      "[LightGBM] [Info] Number of data points in the train set: 508373, number of used features: 24\n",
      "[LightGBM] [Info] Start training from score 68673.084757\n"
     ]
    },
    {
     "name": "stderr",
     "output_type": "stream",
     "text": [
      "\n",
      "Model 2 folds:  20%|█████████████████████████▏                                                                                                    | 1/5 [00:08<00:34,  8.55s/it]\u001b[A"
     ]
    },
    {
     "name": "stdout",
     "output_type": "stream",
     "text": [
      "[LightGBM] [Info] Auto-choosing row-wise multi-threading, the overhead of testing was 0.003529 seconds.\n",
      "You can set `force_row_wise=true` to remove the overhead.\n",
      "And if memory is not enough, you can set `force_col_wise=true`.\n",
      "[LightGBM] [Info] Total Bins 2748\n",
      "[LightGBM] [Info] Number of data points in the train set: 508373, number of used features: 24\n",
      "[LightGBM] [Info] Start training from score 68675.229528\n"
     ]
    },
    {
     "name": "stderr",
     "output_type": "stream",
     "text": [
      "\n",
      "Model 2 folds:  40%|██████████████████████████████████████████████████▍                                                                           | 2/5 [00:16<00:24,  8.31s/it]\u001b[A"
     ]
    },
    {
     "name": "stdout",
     "output_type": "stream",
     "text": [
      "[LightGBM] [Info] Auto-choosing row-wise multi-threading, the overhead of testing was 0.003962 seconds.\n",
      "You can set `force_row_wise=true` to remove the overhead.\n",
      "And if memory is not enough, you can set `force_col_wise=true`.\n",
      "[LightGBM] [Info] Total Bins 2748\n",
      "[LightGBM] [Info] Number of data points in the train set: 508374, number of used features: 24\n",
      "[LightGBM] [Info] Start training from score 68589.420421\n"
     ]
    },
    {
     "name": "stderr",
     "output_type": "stream",
     "text": [
      "\n",
      "Model 2 folds:  60%|███████████████████████████████████████████████████████████████████████████▌                                                  | 3/5 [00:24<00:16,  8.29s/it]\u001b[A"
     ]
    },
    {
     "name": "stdout",
     "output_type": "stream",
     "text": [
      "[LightGBM] [Info] Auto-choosing row-wise multi-threading, the overhead of testing was 0.004351 seconds.\n",
      "You can set `force_row_wise=true` to remove the overhead.\n",
      "And if memory is not enough, you can set `force_col_wise=true`.\n",
      "[LightGBM] [Info] Total Bins 2748\n",
      "[LightGBM] [Info] Number of data points in the train set: 508374, number of used features: 24\n",
      "[LightGBM] [Info] Start training from score 68682.629430\n"
     ]
    },
    {
     "name": "stderr",
     "output_type": "stream",
     "text": [
      "\n",
      "Model 2 folds:  80%|████████████████████████████████████████████████████████████████████████████████████████████████████▊                         | 4/5 [00:33<00:08,  8.29s/it]\u001b[A"
     ]
    },
    {
     "name": "stdout",
     "output_type": "stream",
     "text": [
      "[LightGBM] [Info] Auto-choosing row-wise multi-threading, the overhead of testing was 0.003396 seconds.\n",
      "You can set `force_row_wise=true` to remove the overhead.\n",
      "And if memory is not enough, you can set `force_col_wise=true`.\n",
      "[LightGBM] [Info] Total Bins 2748\n",
      "[LightGBM] [Info] Number of data points in the train set: 508374, number of used features: 24\n",
      "[LightGBM] [Info] Start training from score 68679.112651\n"
     ]
    },
    {
     "name": "stderr",
     "output_type": "stream",
     "text": [
      "\n",
      "Model 2 folds: 100%|██████████████████████████████████████████████████████████████████████████████████████████████████████████████████████████████| 5/5 [00:41<00:00,  8.32s/it]\u001b[A\n",
      "Base models:  67%|████████████████████████████████████████████████████████████████████████████████████▋                                          | 2/3 [04:41<02:03, 123.12s/it]\u001b[A\n",
      "Model 3 folds:   0%|                                                                                                                                      | 0/5 [00:00<?, ?it/s]\u001b[A\n",
      "Model 3 folds:  20%|█████████████████████████▏                                                                                                    | 1/5 [00:08<00:32,  8.19s/it]\u001b[A\n",
      "Model 3 folds:  40%|██████████████████████████████████████████████████▍                                                                           | 2/5 [00:16<00:24,  8.11s/it]\u001b[A\n",
      "Model 3 folds:  60%|███████████████████████████████████████████████████████████████████████████▌                                                  | 3/5 [00:24<00:16,  8.13s/it]\u001b[A\n",
      "Model 3 folds:  80%|████████████████████████████████████████████████████████████████████████████████████████████████████▊                         | 4/5 [00:32<00:08,  8.18s/it]\u001b[A\n",
      "Model 3 folds: 100%|██████████████████████████████████████████████████████████████████████████████████████████████████████████████████████████████| 5/5 [00:40<00:00,  8.21s/it]\u001b[A\n",
      "Base models: 100%|███████████████████████████████████████████████████████████████████████████████████████████████████████████████████████████████| 3/3 [05:22<00:00, 107.37s/it]\u001b[A\n",
      "[I 2025-09-10 06:28:43,608] Trial 9 finished with value: 8390.492589074243 and parameters: {'rf_n_estimators': 778, 'rf_max_depth': 14, 'rf_min_samples_leaf': 5, 'rf_min_samples_split': 9, 'rf_max_features': 'sqrt', 'lgbm_n_estimators': 951, 'lgbm_max_depth': 18, 'lgbm_learning_rate': 0.04614942328183108, 'lgbm_num_leaves': 67, 'lgbm_subsample': 0.7373824936746135, 'lgbm_colsample_bytree': 0.7290157038413482, 'lgbm_reg_alpha': 0.0050490413334705105, 'lgbm_reg_lambda': 0.13533449269864312, 'xgb_n_estimators': 1271, 'xgb_max_depth': 7, 'xgb_learning_rate': 0.02390979244219748, 'xgb_subsample': 0.7875814595831765, 'xgb_colsample_bytree': 0.8833214385477384, 'xgb_gamma': 4.825129949348402, 'xgb_reg_alpha': 0.08021739050359561, 'xgb_reg_lambda': 0.0814157092299884}. Best is trial 2 with value: 6997.674570392889.\n",
      "Base models:   0%|                                                                                                                                        | 0/3 [00:00<?, ?it/s]\n",
      "Model 1 folds:   0%|                                                                                                                                      | 0/5 [00:00<?, ?it/s]\u001b[A"
     ]
    }
   ],
   "source": [
    "# 1. train, test 데이터 준비 (이미 준비된 DataFrame 가정)\n",
    "# train: 학습용 데이터 (X_train, y_train 분리 필요)\n",
    "# test: 테스트 데이터 (예측만 수행)\n",
    "\n",
    "# # 2. 기본 모델 정의 (튜닝된 파라미터로 변경 가능)\n",
    "# # RandomForestRegressor with overfitting control\n",
    "# # rf = RandomForestRegressor(\n",
    "# #     n_estimators=600,          # 트리 개수, 많을수록 안정\n",
    "# #     max_depth=15,              # 트리 깊이 제한\n",
    "# #     min_samples_leaf=4,        # 최소 잎노드 샘플 수\n",
    "# #     min_samples_split=8,       # 내부 노드를 분할하는 최소 샘플 수\n",
    "# #     max_features='sqrt',       # 최대 피처 샘플링 비율\n",
    "# #     random_state=42,\n",
    "# #     n_jobs=-1\n",
    "# # )\n",
    "\n",
    "# # LightGBM with regularization and early stopping\n",
    "# # lgbm = LGBMRegressor(\n",
    "# #     n_estimators=1000,\n",
    "# #     max_depth=12,\n",
    "# #     learning_rate=0.02,\n",
    "# #     num_leaves=70,\n",
    "# #     subsample=0.8,                 # 데이터 샘플링 비율\n",
    "# #     subsample_freq=1,             # 샘플링 빈도\n",
    "# #     colsample_bytree=0.8,         # 피처 샘플링 비율\n",
    "# #     reg_alpha=0.2,                # L1 규제\n",
    "# #     reg_lambda=0.3,               # L2 규제\n",
    "# #     random_state=42,\n",
    "# #     n_jobs=-1\n",
    "# # )\n",
    "# rf = RandomForestRegressor(\n",
    "#     n_estimators=600,        # 트리 수 증가로 안정성 향상\n",
    "#     max_depth=15,            # 깊이 조금 더 키움\n",
    "#     min_samples_leaf=3,\n",
    "#     min_samples_split=5,\n",
    "#     max_features='sqrt',\n",
    "#     random_state=42,\n",
    "#     n_jobs=-1\n",
    "# )\n",
    "\n",
    "# lgbm = LGBMRegressor(\n",
    "#     n_estimators=1500,       # 학습 횟수 증가\n",
    "#     max_depth=12,\n",
    "#     learning_rate=0.02,      # 학습률 감소로 안정성 증가\n",
    "#     num_leaves=70,           # 잎사귀 수 증가\n",
    "#     subsample=0.9,\n",
    "#     subsample_freq=1,\n",
    "#     colsample_bytree=0.85,\n",
    "#     reg_alpha=0.25,\n",
    "#     reg_lambda=0.4,\n",
    "#     random_state=42,\n",
    "#     n_jobs=-1\n",
    "# )\n",
    "\n",
    "# xgb = XGBRegressor(\n",
    "#     n_estimators=1500,\n",
    "#     max_depth=9,\n",
    "#     learning_rate=0.02,\n",
    "#     subsample=0.85,\n",
    "#     colsample_bytree=0.85,\n",
    "#     gamma=0.5,\n",
    "#     reg_alpha=0.2,\n",
    "#     reg_lambda=0.6,\n",
    "#     random_state=42,\n",
    "#     n_jobs=-1,\n",
    "#     verbosity=0\n",
    "# )\n",
    "\n",
    "# # # XGBoost with regularization and early stopping\n",
    "# # xgb = XGBRegressor(\n",
    "# #     n_estimators=1500,\n",
    "# #     max_depth=9,\n",
    "# #     learning_rate=0.02,\n",
    "# #     subsample=0.8,\n",
    "# #     colsample_bytree=0.8,\n",
    "# #     gamma=1,                     # 리프 노드 분할 최소 손실 감소량\n",
    "# #     reg_alpha=0.15,              # L1 규제\n",
    "# #     reg_lambda=0.5,              # L2 규제\n",
    "# #     random_state=42,\n",
    "# #     n_jobs=-1\n",
    "# # )\n",
    "\n",
    "# 6. 메타 피처 생성에 tqdm 추가\n",
    "def create_meta_features(models, X, y, kf):\n",
    "    n_samples = X.shape[0]\n",
    "    n_models  = len(models)\n",
    "    meta_features = np.zeros((n_samples, n_models))\n",
    "\n",
    "    # 모델별 진행바\n",
    "    for i, model in enumerate(tqdm(models, desc=\"Base models\")):\n",
    "        temp_pred = np.zeros(n_samples)\n",
    "        # fold별 진행바\n",
    "        for train_idx, val_idx in tqdm(kf.split(X), total=kf.get_n_splits(), desc=f\"Model {i+1} folds\", leave=False):\n",
    "            X_tr, X_val = X.iloc[train_idx], X.iloc[val_idx]\n",
    "            y_tr = y[train_idx]\n",
    "        # desc=f\"Model {i+1} folds\",\n",
    "         # leave=False)\n",
    "            y_tr = y[train_idx]\n",
    "            if isinstance(model, LGBMRegressor):\n",
    "                model.fit(\n",
    "                    X_tr, y_tr,\n",
    "                    eval_set=[(X_val, y[val_idx])],\n",
    "                    eval_metric='rmse',\n",
    "                    callbacks=[early_stopping(stopping_rounds=50, verbose=False)]\n",
    "                )\n",
    "            else:\n",
    "                model.fit(X_tr, y_tr)\n",
    "            temp_pred[val_idx] = model.predict(X_val)\n",
    "        meta_features[:, i] = temp_pred\n",
    "\n",
    "    return meta_features\n",
    "\n",
    "# 7. 테스트 메타 피처 생성에 tqdm 추가\n",
    "def get_test_meta_features(models, X_train, y_train, X_test):\n",
    "    n_samples = X_test.shape[0]\n",
    "    n_models  = len(models)\n",
    "    meta_test_features = np.zeros((n_samples, n_models))\n",
    "\n",
    "    # 모델별 진행바\n",
    "    for i, model in enumerate(tqdm(models, desc=\"Retrain & Predict\")):\n",
    "        model.fit(X_train, y_train)\n",
    "        preds = model.predict(X_test)\n",
    "        meta_test_features[:, i] = preds\n",
    "\n",
    "    return meta_test_features\n",
    "\n",
    "def objective(trial):\n",
    "    # 기본 모델 하이퍼파라미터를 trial.suggest_... 로 동적으로 탐색\n",
    "    rf_params = {\n",
    "        'n_estimators': trial.suggest_int(\"rf_n_estimators\", 300, 800),\n",
    "        'max_depth': trial.suggest_int(\"rf_max_depth\", 10, 30),\n",
    "        'min_samples_leaf': trial.suggest_int(\"rf_min_samples_leaf\", 1, 8),\n",
    "        'min_samples_split': trial.suggest_int(\"rf_min_samples_split\", 2, 10),\n",
    "        'max_features': trial.suggest_categorical(\"rf_max_features\", [\"sqrt\", \"log2\"]),\n",
    "        'random_state': 42,\n",
    "        'n_jobs': -1\n",
    "    }\n",
    "    lgbm_params = {\n",
    "        'n_estimators': trial.suggest_int(\"lgbm_n_estimators\", 800, 2000),\n",
    "        'max_depth': trial.suggest_int(\"lgbm_max_depth\", 8, 20),\n",
    "        'learning_rate': trial.suggest_loguniform(\"lgbm_learning_rate\", 0.005, 0.05),\n",
    "        'num_leaves': trial.suggest_int(\"lgbm_num_leaves\", 30, 100),\n",
    "        'subsample': trial.suggest_uniform(\"lgbm_subsample\", 0.7, 1.0),          \n",
    "        'colsample_bytree': trial.suggest_uniform(\"lgbm_colsample_bytree\", 0.7, 1.0),\n",
    "        'reg_alpha': trial.suggest_loguniform(\"lgbm_reg_alpha\", 1e-3, 1.0),\n",
    "        'reg_lambda': trial.suggest_loguniform(\"lgbm_reg_lambda\", 1e-3, 1.0),\n",
    "        'random_state': 42,\n",
    "        'n_jobs': -1\n",
    "    }\n",
    "        \n",
    "    xgb_params = {\n",
    "        'n_estimators': trial.suggest_int(\"xgb_n_estimators\", 800, 2000),\n",
    "        'max_depth': trial.suggest_int(\"xgb_max_depth\", 6, 12),\n",
    "        'learning_rate': trial.suggest_loguniform(\"xgb_learning_rate\", 0.005, 0.05),\n",
    "        'subsample': trial.suggest_uniform(\"xgb_subsample\", 0.7, 1.0),\n",
    "        'colsample_bytree': trial.suggest_uniform(\"xgb_colsample_bytree\", 0.7, 1.0),\n",
    "        'gamma': trial.suggest_loguniform(\"xgb_gamma\", 1e-3, 10),\n",
    "        'reg_alpha': trial.suggest_loguniform(\"xgb_reg_alpha\", 1e-3, 1.0),\n",
    "        'reg_lambda': trial.suggest_loguniform(\"xgb_reg_lambda\", 1e-3, 1.0),\n",
    "        'random_state': 42,\n",
    "        'n_jobs': -1,\n",
    "        'verbosity': 0\n",
    "    }\n",
    "    \n",
    "    # 모델 생성에 하이퍼파라미터를 동적 적용\n",
    "    rf_model = RandomForestRegressor(**rf_params)\n",
    "    lgbm_model = LGBMRegressor(**lgbm_params)\n",
    "    xgb_model = XGBRegressor(**xgb_params)\n",
    "    models = [rf_model, lgbm_model, xgb_model]\n",
    "\n",
    "    # 3. KFold 설정: 데이터셋을 5개 fold로 분할, 랜덤 셔플 후 고정 시드로 재현성 보장\n",
    "    kf_inner = KFold(n_splits=5, shuffle=True, random_state=42)\n",
    "    meta_X_train = create_meta_features(models, X_train, y_train, kf_inner)\n",
    "\n",
    "    meta_model = Ridge(alpha=1.0, random_state=42)\n",
    "    meta_model.fit(meta_X_train, y_train)\n",
    "    train_preds = meta_model.predict(meta_X_train)\n",
    "    rmse = mean_squared_error(y_train, train_preds, squared=False)\n",
    "    return rmse\n",
    "\n",
    "# 4. Optuna 스터디 실행\n",
    "study = optuna.create_study(direction=\"minimize\")\n",
    "study.optimize(objective, n_trials= 30)\n",
    "\n",
    "print(\"Best RMSE:\", study.best_value)\n",
    "print(\"Best params:\", study.best_params)\n",
    "\n",
    "# 5. 최적 하이퍼파라미터로 메타 피처 생성 및 최종 예측 (선택적)\n",
    "best_params = study.best_params\n",
    "\n",
    "# RF, LGBM, XGB 하이퍼파라미터 재구성\n",
    "rf_best = RandomForestRegressor(\n",
    "    n_estimators=best_params[\"rf_n_estimators\"],\n",
    "    max_depth=best_params[\"rf_max_depth\"],\n",
    "    min_samples_leaf=best_params[\"rf_min_samples_leaf\"],\n",
    "    min_samples_split=best_params[\"rf_min_samples_split\"],\n",
    "    max_features=best_params[\"rf_max_features\"],\n",
    "    random_state=42,\n",
    "    n_jobs=-1\n",
    ")\n",
    "lgbm_best = LGBMRegressor(\n",
    "    n_estimators=best_params[\"lgbm_n_estimators\"],\n",
    "    max_depth=best_params[\"lgbm_max_depth\"],\n",
    "    learning_rate=best_params[\"lgbm_learning_rate\"],\n",
    "    num_leaves=best_params[\"lgbm_num_leaves\"],\n",
    "    subsample=best_params[\"lgbm_subsample\"],\n",
    "    colsample_bytree=best_params[\"lgbm_colsample_bytree\"],\n",
    "    reg_alpha=best_params[\"lgbm_reg_alpha\"],\n",
    "    reg_lambda=best_params[\"lgbm_reg_lambda\"],\n",
    "    random_state=42,\n",
    "    n_jobs=-1\n",
    ")\n",
    "xgb_best = XGBRegressor(\n",
    "    n_estimators=best_params[\"xgb_n_estimators\"],\n",
    "    max_depth=best_params[\"xgb_max_depth\"],\n",
    "    learning_rate=best_params[\"xgb_learning_rate\"],\n",
    "    subsample=best_params[\"xgb_subsample\"],\n",
    "    colsample_bytree=best_params[\"xgb_colsample_bytree\"],\n",
    "    gamma=best_params[\"xgb_gamma\"],\n",
    "    reg_alpha=best_params[\"xgb_reg_alpha\"],\n",
    "    reg_lambda=best_params[\"xgb_reg_lambda\"],\n",
    "    random_state=42,\n",
    "    n_jobs=-1,\n",
    "    verbosity=0\n",
    ")\n",
    "models_best = [rf_best, lgbm_best, xgb_best]\n",
    "\n",
    "# meta_X_train_best = create_meta_features(models_best, X_train, y_train, kf_inner)\n",
    "# meta_model = Ridge(alpha=1.0, random_state=42)\n",
    "# meta_model.fit(meta_X_train_best, y_train)\n",
    "# meta_X_test_best = get_test_meta_features(models_best, X_train, y_train, X_test)\n",
    "# final_predictions = meta_model.predict(meta_X_test_best)\n",
    "\n",
    "rmse_train = mean_squared_error(y_train, train_preds, squared=False)\n",
    "print(f\"학습 데이터 RMSE (원래 스케일): {rmse_train:.4f}\")\n",
    "\n",
    "# 메타 피처 생성 및 학습\n",
    "meta_X_train_best = create_meta_features(models_best, X_train, y_train_log, kf_inner)\n",
    "meta_model = Ridge(alpha=1.0, random_state=42)\n",
    "meta_model.fit(meta_X_train_best, y_train_log)\n",
    "\n",
    "# 테스트 데이터 예측 (로그 스케일)\n",
    "meta_X_test_best = get_test_meta_features(models_best, X_train, y_train_log, X_test)\n",
    "final_predictions_log = meta_model.predict(meta_X_test_best)\n",
    "\n",
    "rounded_preds = np.round(final_predictions).astype(int)\n",
    "submission = pd.DataFrame({'target': rounded_preds})\n",
    "submission.to_csv('submission_optuna_3.csv', index=False)\n",
    "\n",
    "print(\"submission.csv 파일이 생성되었습니다.\")\n",
    "\n",
    "# Trial 4 finished with value: 6976.950134385912 and parameters: \n",
    "# {'rf_n_estimators': 416, 'rf_max_depth': 29, 'rf_min_samples_leaf': 7, 'rf_min_samples_split': 10, 'rf_max_features': 'log2', 'lgbm_n_estimators': 1702, 'lgbm_max_depth': 12, 'lgbm_learning_rate': 0.03250541539651261, 'lgbm_num_leaves': 100, 'lgbm_subsample': 0.8825134881070337, 'lgbm_colsample_bytree': 0.7694061527956504, 'lgbm_reg_alpha': 0.0018934229948617048, 'lgbm_reg_lambda': 0.013487380991073253, 'xgb_n_estimators': 1859, 'xgb_max_depth': 11, 'xgb_learning_rate': 0.027347549729385235, 'xgb_subsample': 0.9874638592404601, 'xgb_colsample_bytree': 0.8254732898196115, 'xgb_gamma': 2.0678529807138832, 'xgb_reg_alpha': 0.9573441222792469, 'xgb_reg_lambda': 0.002039999771783618}."
   ]
  },
  {
   "cell_type": "code",
   "execution_count": 13,
   "id": "b6061377-b56b-456f-b200-5b20668b51e7",
   "metadata": {},
   "outputs": [
    {
     "name": "stderr",
     "output_type": "stream",
     "text": [
      "Base models:   0%|                                                                                                                                        | 0/3 [00:00<?, ?it/s]\n",
      "Model 1 folds:   0%|                                                                                                                                      | 0/5 [00:00<?, ?it/s]\u001b[A\n",
      "Model 1 folds:  20%|█████████████████████████▏                                                                                                    | 1/5 [00:33<02:12, 33.14s/it]\u001b[A\n",
      "Model 1 folds:  40%|██████████████████████████████████████████████████▍                                                                           | 2/5 [01:06<01:39, 33.22s/it]\u001b[A\n",
      "Model 1 folds:  60%|███████████████████████████████████████████████████████████████████████████▌                                                  | 3/5 [01:39<01:06, 33.18s/it]\u001b[A\n",
      "Model 1 folds:  80%|████████████████████████████████████████████████████████████████████████████████████████████████████▊                         | 4/5 [02:12<00:33, 33.25s/it]\u001b[A\n",
      "Model 1 folds: 100%|██████████████████████████████████████████████████████████████████████████████████████████████████████████████████████████████| 5/5 [02:46<00:00, 33.40s/it]\u001b[A\n",
      "Base models:  33%|██████████████████████████████████████████▎                                                                                    | 1/3 [02:46<05:33, 166.57s/it]\u001b[A\n",
      "Model 2 folds:   0%|                                                                                                                                      | 0/5 [00:00<?, ?it/s]\u001b[A"
     ]
    },
    {
     "name": "stdout",
     "output_type": "stream",
     "text": [
      "[LightGBM] [Info] Auto-choosing row-wise multi-threading, the overhead of testing was 0.003503 seconds.\n",
      "You can set `force_row_wise=true` to remove the overhead.\n",
      "And if memory is not enough, you can set `force_col_wise=true`.\n",
      "[LightGBM] [Info] Total Bins 3255\n",
      "[LightGBM] [Info] Number of data points in the train set: 508373, number of used features: 26\n",
      "[LightGBM] [Info] Start training from score 10.929048\n"
     ]
    },
    {
     "name": "stderr",
     "output_type": "stream",
     "text": [
      "\n",
      "Model 2 folds:  20%|█████████████████████████▏                                                                                                    | 1/5 [00:18<01:14, 18.54s/it]\u001b[A"
     ]
    },
    {
     "name": "stdout",
     "output_type": "stream",
     "text": [
      "[LightGBM] [Info] Auto-choosing row-wise multi-threading, the overhead of testing was 0.003616 seconds.\n",
      "You can set `force_row_wise=true` to remove the overhead.\n",
      "And if memory is not enough, you can set `force_col_wise=true`.\n",
      "[LightGBM] [Info] Total Bins 3258\n",
      "[LightGBM] [Info] Number of data points in the train set: 508373, number of used features: 26\n",
      "[LightGBM] [Info] Start training from score 10.928988\n"
     ]
    },
    {
     "name": "stderr",
     "output_type": "stream",
     "text": [
      "\n",
      "Model 2 folds:  40%|██████████████████████████████████████████████████▍                                                                           | 2/5 [00:37<00:55, 18.56s/it]\u001b[A"
     ]
    },
    {
     "name": "stdout",
     "output_type": "stream",
     "text": [
      "[LightGBM] [Info] Auto-choosing row-wise multi-threading, the overhead of testing was 0.003553 seconds.\n",
      "You can set `force_row_wise=true` to remove the overhead.\n",
      "And if memory is not enough, you can set `force_col_wise=true`.\n",
      "[LightGBM] [Info] Total Bins 3258\n",
      "[LightGBM] [Info] Number of data points in the train set: 508374, number of used features: 26\n",
      "[LightGBM] [Info] Start training from score 10.928201\n"
     ]
    },
    {
     "name": "stderr",
     "output_type": "stream",
     "text": [
      "\n",
      "Model 2 folds:  60%|███████████████████████████████████████████████████████████████████████████▌                                                  | 3/5 [00:55<00:37, 18.55s/it]\u001b[A"
     ]
    },
    {
     "name": "stdout",
     "output_type": "stream",
     "text": [
      "[LightGBM] [Info] Auto-choosing row-wise multi-threading, the overhead of testing was 0.003582 seconds.\n",
      "You can set `force_row_wise=true` to remove the overhead.\n",
      "And if memory is not enough, you can set `force_col_wise=true`.\n",
      "[LightGBM] [Info] Total Bins 3258\n",
      "[LightGBM] [Info] Number of data points in the train set: 508374, number of used features: 26\n",
      "[LightGBM] [Info] Start training from score 10.928739\n"
     ]
    },
    {
     "name": "stderr",
     "output_type": "stream",
     "text": [
      "\n",
      "Model 2 folds:  80%|████████████████████████████████████████████████████████████████████████████████████████████████████▊                         | 4/5 [01:14<00:18, 18.58s/it]\u001b[A"
     ]
    },
    {
     "name": "stdout",
     "output_type": "stream",
     "text": [
      "[LightGBM] [Info] Auto-choosing col-wise multi-threading, the overhead of testing was 0.019443 seconds.\n",
      "You can set `force_col_wise=true` to remove the overhead.\n",
      "[LightGBM] [Info] Total Bins 3258\n",
      "[LightGBM] [Info] Number of data points in the train set: 508374, number of used features: 26\n",
      "[LightGBM] [Info] Start training from score 10.929101\n"
     ]
    },
    {
     "name": "stderr",
     "output_type": "stream",
     "text": [
      "\n",
      "Model 2 folds: 100%|██████████████████████████████████████████████████████████████████████████████████████████████████████████████████████████████| 5/5 [01:32<00:00, 18.38s/it]\u001b[A\n",
      "Base models:  67%|████████████████████████████████████████████████████████████████████████████████████▋                                          | 2/3 [04:18<02:02, 122.89s/it]\u001b[A\n",
      "Model 3 folds:   0%|                                                                                                                                      | 0/5 [00:00<?, ?it/s]\u001b[A\n",
      "Model 3 folds:  20%|█████████████████████████▏                                                                                                    | 1/5 [00:06<00:25,  6.29s/it]\u001b[A\n",
      "Model 3 folds:  40%|██████████████████████████████████████████████████▍                                                                           | 2/5 [00:12<00:18,  6.19s/it]\u001b[A\n",
      "Model 3 folds:  60%|███████████████████████████████████████████████████████████████████████████▌                                                  | 3/5 [00:18<00:12,  6.23s/it]\u001b[A\n",
      "Model 3 folds:  80%|████████████████████████████████████████████████████████████████████████████████████████████████████▊                         | 4/5 [00:24<00:06,  6.25s/it]\u001b[A\n",
      "Model 3 folds: 100%|██████████████████████████████████████████████████████████████████████████████████████████████████████████████████████████████| 5/5 [00:31<00:00,  6.21s/it]\u001b[A\n",
      "Base models: 100%|████████████████████████████████████████████████████████████████████████████████████████████████████████████████████████████████| 3/3 [04:50<00:00, 96.67s/it]\u001b[A\n",
      "Retrain & Predict:  33%|████████████████████████████████████████▋                                                                                 | 1/3 [00:41<01:22, 41.24s/it]"
     ]
    },
    {
     "name": "stdout",
     "output_type": "stream",
     "text": [
      "[LightGBM] [Info] Auto-choosing row-wise multi-threading, the overhead of testing was 0.004840 seconds.\n",
      "You can set `force_row_wise=true` to remove the overhead.\n",
      "And if memory is not enough, you can set `force_col_wise=true`.\n",
      "[LightGBM] [Info] Total Bins 3258\n",
      "[LightGBM] [Info] Number of data points in the train set: 635467, number of used features: 26\n",
      "[LightGBM] [Info] Start training from score 10.928815\n"
     ]
    },
    {
     "name": "stderr",
     "output_type": "stream",
     "text": [
      "Retrain & Predict: 100%|██████████████████████████████████████████████████████████████████████████████████████████████████████████████████████████| 3/3 [01:08<00:00, 22.82s/it]"
     ]
    },
    {
     "name": "stdout",
     "output_type": "stream",
     "text": [
      "submission_optuna_2.csv 파일이 생성되었습니다.\n"
     ]
    },
    {
     "name": "stderr",
     "output_type": "stream",
     "text": [
      "\n"
     ]
    }
   ],
   "source": [
    "rf_best = RandomForestRegressor(\n",
    "    n_estimators=416,\n",
    "    max_depth=29,\n",
    "    min_samples_leaf=7,\n",
    "    min_samples_split=10,\n",
    "    max_features='log2',\n",
    "    random_state=42,\n",
    "    n_jobs=-1\n",
    ")\n",
    "\n",
    "lgbm_best = LGBMRegressor(\n",
    "    n_estimators=1702,\n",
    "    max_depth=12,\n",
    "    learning_rate=0.03250541539651261,\n",
    "    num_leaves=100,\n",
    "    subsample=0.8825134881070337,\n",
    "    colsample_bytree=0.7694061527956504,\n",
    "    reg_alpha=0.0018934229948617048,\n",
    "    reg_lambda=0.013487380991073253,\n",
    "    random_state=42,\n",
    "    n_jobs=-1\n",
    ")\n",
    "\n",
    "xgb_best = XGBRegressor(\n",
    "    n_estimators=1859,\n",
    "    max_depth=11,\n",
    "    learning_rate=0.027347549729385235,\n",
    "    subsample=0.9874638592404601,\n",
    "    colsample_bytree=0.8254732898196115,\n",
    "    gamma=2.0678529807138832,\n",
    "    reg_alpha=0.9573441222792469,\n",
    "    reg_lambda=0.002039999771783618,\n",
    "    random_state=42,\n",
    "    n_jobs=-1,\n",
    "    verbosity=0\n",
    ")\n",
    "\n",
    "models_best = [rf_best, lgbm_best, xgb_best]\n",
    "\n",
    "kf_inner = KFold(n_splits=5, shuffle=True, random_state=42)\n",
    "\n",
    "# 3. 메타 피처 생성 (train셋에 대해서)\n",
    "meta_X_train_best = create_meta_features(models_best, X_train, y_train_log, kf_inner)\n",
    "\n",
    "# 4. 메타 모델 학습 (Ridge 등 사용)\n",
    "from sklearn.linear_model import Ridge\n",
    "meta_model = Ridge(alpha=1.0, random_state=42)\n",
    "meta_model.fit(meta_X_train_best, y_train_log)\n",
    "\n",
    "# 5. 테스트 데이터 메타 피처 생성\n",
    "meta_X_test_best = get_test_meta_features(models_best, X_train, y_train_log, X_test)\n",
    "\n",
    "# 6. 테스트 예측 (로그 스케일)\n",
    "final_predictions_log = meta_model.predict(meta_X_test_best)\n",
    "\n",
    "# 7. 로그 역변환 및 제출용 반올림\n",
    "import numpy as np\n",
    "final_predictions = np.exp(final_predictions_log)\n",
    "rounded_preds = np.round(final_predictions).astype(int)\n",
    "\n",
    "# 8. 제출 파일 생성\n",
    "import pandas as pd\n",
    "submission = pd.DataFrame({'target': rounded_preds})\n",
    "submission.to_csv('submission_optuna_2.csv', index=False)\n",
    "\n",
    "print(\"submission_optuna_2.csv 파일이 생성되었습니다.\")"
   ]
  },
  {
   "cell_type": "code",
   "execution_count": 16,
   "id": "ad54b03c-01da-44e0-b4ac-69974eedbfea",
   "metadata": {},
   "outputs": [
    {
     "name": "stdout",
     "output_type": "stream",
     "text": [
      "Train RMSE (원본 스케일): 7599.7428\n"
     ]
    }
   ],
   "source": [
    "\n",
    "# 메타 모델 학습 완료 후 train 예측값 생성\n",
    "train_preds_log = meta_model.predict(meta_X_train_best)\n",
    "\n",
    "# 로그 스케일에서 역변환\n",
    "train_preds = np.expm1(train_preds_log)  # np.expm1는 exp(x)-1 함수\n",
    "\n",
    "# 실제 타겟 원본 스케일 (y_train)과 비교해 RMSE 계산\n",
    "rmse_train = mean_squared_error(y_train, train_preds, squared=False)\n",
    "\n",
    "print(f\"Train RMSE (원본 스케일): {rmse_train:.4f}\")"
   ]
  },
  {
   "cell_type": "code",
   "execution_count": 21,
   "id": "852de645-173c-41a6-a626-abda041d7f3e",
   "metadata": {},
   "outputs": [
    {
     "name": "stderr",
     "output_type": "stream",
     "text": [
      "Base models:   0%|                                                                                          | 0/3 [00:00<?, ?it/s]\n",
      "Model 1 folds:   0%|                                                                                        | 0/5 [00:00<?, ?it/s]\u001b[A\n",
      "Model 1 folds:  20%|████████████████                                                                | 1/5 [00:25<01:40, 25.15s/it]\u001b[A\n",
      "Model 1 folds:  40%|████████████████████████████████                                                | 2/5 [00:50<01:16, 25.41s/it]\u001b[A\n",
      "Model 1 folds:  60%|████████████████████████████████████████████████                                | 3/5 [01:16<00:50, 25.48s/it]\u001b[A\n",
      "Model 1 folds:  80%|████████████████████████████████████████████████████████████████                | 4/5 [01:41<00:25, 25.42s/it]\u001b[A\n",
      "Model 1 folds: 100%|████████████████████████████████████████████████████████████████████████████████| 5/5 [02:07<00:00, 25.47s/it]\u001b[A\n",
      "Base models:  33%|███████████████████████████                                                      | 1/3 [02:07<04:14, 127.19s/it]\u001b[A\n",
      "Model 2 folds:   0%|                                                                                        | 0/5 [00:00<?, ?it/s]\u001b[A"
     ]
    },
    {
     "name": "stdout",
     "output_type": "stream",
     "text": [
      "[LightGBM] [Info] Auto-choosing row-wise multi-threading, the overhead of testing was 0.003618 seconds.\n",
      "You can set `force_row_wise=true` to remove the overhead.\n",
      "And if memory is not enough, you can set `force_col_wise=true`.\n",
      "[LightGBM] [Info] Total Bins 2382\n",
      "[LightGBM] [Info] Number of data points in the train set: 508373, number of used features: 18\n",
      "[LightGBM] [Info] Start training from score 10.929048\n"
     ]
    },
    {
     "name": "stderr",
     "output_type": "stream",
     "text": [
      "\n",
      "Model 2 folds:  20%|████████████████                                                                | 1/5 [00:07<00:30,  7.63s/it]\u001b[A"
     ]
    },
    {
     "name": "stdout",
     "output_type": "stream",
     "text": [
      "[LightGBM] [Info] Auto-choosing row-wise multi-threading, the overhead of testing was 0.003667 seconds.\n",
      "You can set `force_row_wise=true` to remove the overhead.\n",
      "And if memory is not enough, you can set `force_col_wise=true`.\n",
      "[LightGBM] [Info] Total Bins 2385\n",
      "[LightGBM] [Info] Number of data points in the train set: 508373, number of used features: 18\n",
      "[LightGBM] [Info] Start training from score 10.928988\n"
     ]
    },
    {
     "name": "stderr",
     "output_type": "stream",
     "text": [
      "\n",
      "Model 2 folds:  40%|████████████████████████████████                                                | 2/5 [00:15<00:22,  7.66s/it]\u001b[A"
     ]
    },
    {
     "name": "stdout",
     "output_type": "stream",
     "text": [
      "[LightGBM] [Info] Auto-choosing row-wise multi-threading, the overhead of testing was 0.003743 seconds.\n",
      "You can set `force_row_wise=true` to remove the overhead.\n",
      "And if memory is not enough, you can set `force_col_wise=true`.\n",
      "[LightGBM] [Info] Total Bins 2385\n",
      "[LightGBM] [Info] Number of data points in the train set: 508374, number of used features: 18\n",
      "[LightGBM] [Info] Start training from score 10.928201\n"
     ]
    },
    {
     "name": "stderr",
     "output_type": "stream",
     "text": [
      "\n",
      "Model 2 folds:  60%|████████████████████████████████████████████████                                | 3/5 [00:23<00:15,  7.74s/it]\u001b[A"
     ]
    },
    {
     "name": "stdout",
     "output_type": "stream",
     "text": [
      "[LightGBM] [Info] Auto-choosing row-wise multi-threading, the overhead of testing was 0.003821 seconds.\n",
      "You can set `force_row_wise=true` to remove the overhead.\n",
      "And if memory is not enough, you can set `force_col_wise=true`.\n",
      "[LightGBM] [Info] Total Bins 2385\n",
      "[LightGBM] [Info] Number of data points in the train set: 508374, number of used features: 18\n",
      "[LightGBM] [Info] Start training from score 10.928739\n"
     ]
    },
    {
     "name": "stderr",
     "output_type": "stream",
     "text": [
      "\n",
      "Model 2 folds:  80%|████████████████████████████████████████████████████████████████                | 4/5 [00:31<00:07,  7.81s/it]\u001b[A"
     ]
    },
    {
     "name": "stdout",
     "output_type": "stream",
     "text": [
      "[LightGBM] [Info] Auto-choosing row-wise multi-threading, the overhead of testing was 0.004235 seconds.\n",
      "You can set `force_row_wise=true` to remove the overhead.\n",
      "And if memory is not enough, you can set `force_col_wise=true`.\n",
      "[LightGBM] [Info] Total Bins 2385\n",
      "[LightGBM] [Info] Number of data points in the train set: 508374, number of used features: 18\n",
      "[LightGBM] [Info] Start training from score 10.929101\n"
     ]
    },
    {
     "name": "stderr",
     "output_type": "stream",
     "text": [
      "\n",
      "Model 2 folds: 100%|████████████████████████████████████████████████████████████████████████████████| 5/5 [00:38<00:00,  7.82s/it]\u001b[A\n",
      "Base models:  67%|██████████████████████████████████████████████████████▋                           | 2/3 [02:46<01:15, 75.26s/it]\u001b[A\n",
      "Model 3 folds:   0%|                                                                                        | 0/5 [00:00<?, ?it/s]\u001b[A\n",
      "Model 3 folds:  20%|████████████████                                                                | 1/5 [00:05<00:20,  5.12s/it]\u001b[A\n",
      "Model 3 folds:  40%|████████████████████████████████                                                | 2/5 [00:10<00:15,  5.13s/it]\u001b[A\n",
      "Model 3 folds:  60%|████████████████████████████████████████████████                                | 3/5 [00:15<00:10,  5.15s/it]\u001b[A\n",
      "Model 3 folds:  80%|████████████████████████████████████████████████████████████████                | 4/5 [00:20<00:05,  5.27s/it]\u001b[A\n",
      "Model 3 folds: 100%|████████████████████████████████████████████████████████████████████████████████| 5/5 [00:25<00:00,  5.21s/it]\u001b[A\n",
      "Base models: 100%|██████████████████████████████████████████████████████████████████████████████████| 3/3 [03:12<00:00, 64.03s/it]\u001b[A\n"
     ]
    },
    {
     "name": "stdout",
     "output_type": "stream",
     "text": [
      "학습 데이터 RMSE (원래 스케일): 8778.0485\n"
     ]
    },
    {
     "name": "stderr",
     "output_type": "stream",
     "text": [
      "Retrain & Predict:  33%|█████████████████████████▎                                                  | 1/3 [00:31<01:03, 31.78s/it]"
     ]
    },
    {
     "name": "stdout",
     "output_type": "stream",
     "text": [
      "[LightGBM] [Info] Auto-choosing row-wise multi-threading, the overhead of testing was 0.005361 seconds.\n",
      "You can set `force_row_wise=true` to remove the overhead.\n",
      "And if memory is not enough, you can set `force_col_wise=true`.\n",
      "[LightGBM] [Info] Total Bins 2385\n",
      "[LightGBM] [Info] Number of data points in the train set: 635467, number of used features: 18\n",
      "[LightGBM] [Info] Start training from score 10.928815\n"
     ]
    },
    {
     "name": "stderr",
     "output_type": "stream",
     "text": [
      "Retrain & Predict: 100%|████████████████████████████████████████████████████████████████████████████| 3/3 [00:45<00:00, 15.24s/it]"
     ]
    },
    {
     "name": "stdout",
     "output_type": "stream",
     "text": [
      "submission.csv 파일이 생성되었습니다.\n"
     ]
    },
    {
     "name": "stderr",
     "output_type": "stream",
     "text": [
      "\n"
     ]
    }
   ],
   "source": [
    "# 베스트 하이퍼파라미터로 모델 생성\n",
    "rf_best = RandomForestRegressor(\n",
    "    n_estimators=527,\n",
    "    max_depth=11,\n",
    "    min_samples_leaf=8,\n",
    "    min_samples_split=9,\n",
    "    max_features='sqrt',\n",
    "    random_state=42,\n",
    "    n_jobs=-1\n",
    ")\n",
    "\n",
    "lgbm_best = LGBMRegressor(\n",
    "    n_estimators=801,\n",
    "    max_depth=12,\n",
    "    learning_rate=0.04106361615104415,\n",
    "    num_leaves=92,\n",
    "    # subsample 필드는 탐색 안 해서 기본값 1.0 유지\n",
    "    subsample=1.0,\n",
    "    colsample_bytree=1.0,  # Optuna 결과에 없으면 기본값 사용\n",
    "    reg_alpha=0.0,\n",
    "    reg_lambda=0.0,\n",
    "    random_state=42,\n",
    "    n_jobs=-1\n",
    ")\n",
    "\n",
    "xgb_best = XGBRegressor(\n",
    "    n_estimators=1880,\n",
    "    max_depth=11,\n",
    "    learning_rate=0.03714747220843659,\n",
    "    subsample=0.9262954478976996,\n",
    "    colsample_bytree=0.7112897029011118,\n",
    "    gamma=0.7723753348363707,\n",
    "    reg_alpha=0.12643220684416703,\n",
    "    reg_lambda=0.942169270895758,\n",
    "    random_state=42,\n",
    "    n_jobs=-1,\n",
    "    verbosity=0\n",
    ")\n",
    "\n",
    "models_best = [rf_best, lgbm_best, xgb_best]\n",
    "\n",
    "# KFold 정의 (필요 시)\n",
    "kf_inner = KFold(n_splits=5, shuffle=True, random_state=42)\n",
    "\n",
    "# 1. 로그 변환된 타깃\n",
    "y_train_log = np.log1p(y_train)\n",
    "\n",
    "# 2. 메타 피처 생성 및 메타 모델 학습\n",
    "meta_X_train_best = create_meta_features(models_best, X_train, y_train_log, kf_inner)\n",
    "meta_model = Ridge(alpha=1.0, random_state=42)\n",
    "meta_model.fit(meta_X_train_best, y_train_log)\n",
    "\n",
    "# 3. 학습 데이터에 대한 로그 스케일 예측\n",
    "train_preds_log = meta_model.predict(meta_X_train_best)\n",
    "\n",
    "# 4. 역변환(원래 스케일)\n",
    "train_preds = np.expm1(train_preds_log)\n",
    "\n",
    "# 5. 원래 스케일의 실제값과 예측값으로 RMSE 계산\n",
    "rmse_train = mean_squared_error(y_train, train_preds, squared=False)\n",
    "print(f\"학습 데이터 RMSE (원래 스케일): {rmse_train:.4f}\")\n",
    "\n",
    "# 6. 테스트 데이터 메타 피처 생성 및 예측\n",
    "meta_X_test_best = get_test_meta_features(models_best, X_train, y_train_log, X_test)\n",
    "final_predictions_log = meta_model.predict(meta_X_test_best)\n",
    "\n",
    "# 7. 역변환 후 제출용 예측값 생성\n",
    "final_predictions = np.expm1(final_predictions_log)\n",
    "\n",
    "# 필요시 반올림 등 후처리 해 제출 파일 생성\n",
    "# 8. 반올림 및 CSV 파일 생성 (필요 시)\n",
    "rounded_preds = np.round(final_predictions).astype(int)\n",
    "submission = pd.DataFrame({'target': rounded_preds})\n",
    "submission.to_csv('submission_optuna_log.csv', index=False)\n",
    "\n",
    "print(\"submission.csv 파일이 생성되었습니다.\")"
   ]
  },
  {
   "cell_type": "code",
   "execution_count": null,
   "id": "715d3f4e-71e7-43f0-ba7c-9370ef70f302",
   "metadata": {},
   "outputs": [],
   "source": [
    "# 1. Count Encoding (데이터 전처리)\n",
    "# for col in ['구', '아파트명']:\n",
    "#     if col in X_train.columns:  # 컬럼 존재 확인\n",
    "#         freq_map = X_train[col].value_counts().to_dict()\n",
    "#         X_train[col + '_count'] = X_train[col].map(freq_map)\n",
    "#         X_test[col + '_count'] = X_test[col].map(freq_map).fillna(0)\n",
    "        \n",
    "#         # 원본 범주형 컬럼 제거\n",
    "#         X_train = X_train.drop(columns=[col])\n",
    "#         X_test = X_test.drop(columns=[col])\n",
    "\n",
    "\n",
    "# # 2. 타겟 이상치 클리핑 함수 및 적용\n",
    "# def clip_outliers(arr):\n",
    "#     q1 = np.quantile(arr, 0.25)\n",
    "#     q3 = np.quantile(arr, 0.75)\n",
    "#     iqr = q3 - q1\n",
    "#     lower = q1 - 1.5 * iqr\n",
    "#     upper = q3 + 1.5 * iqr\n",
    "#     return np.clip(arr, lower, upper)\n",
    "\n",
    "# y_train = clip_outliers(y_train)\n",
    "\n",
    "# # 3. 계약년월 기준 정렬\n",
    "# X_train = X_train.sort_values('계약년월')\n",
    "# y_train = y_train[X_train.index]\n",
    "\n",
    "# 4. 로그 변환\n",
    "y_train_log = np.log1p(y_train)\n",
    "\n",
    "# 5. 메타 피처 생성 함수 정의\n",
    "def create_meta_features(models, X, y, kf):\n",
    "    n_samples = len(X)\n",
    "    n_models = len(models)\n",
    "    meta_features = np.zeros((n_samples, n_models), dtype=float)\n",
    "    \n",
    "    for i, model in enumerate(tqdm(models, desc=\"Base models\")):\n",
    "        temp_pred = np.zeros(n_samples)\n",
    "        for train_idx, val_idx in tqdm(kf.split(X), total=kf.get_n_splits(), desc=f\"Model {i+1} folds\", leave=False):\n",
    "            X_tr, X_val = X.iloc[train_idx], X.iloc[val_idx]\n",
    "            y_tr = y[train_idx]\n",
    "            \n",
    "            if isinstance(model, LGBMRegressor):\n",
    "                model.fit(\n",
    "                    X_tr, y_tr,\n",
    "                    eval_set=[(X_val, y[val_idx])],\n",
    "                    eval_metric='rmse',\n",
    "                    callbacks=[early_stopping(stopping_rounds=50, verbose=False)]\n",
    "                )\n",
    "            else:\n",
    "                model.fit(X_tr, y_tr)\n",
    "            \n",
    "            temp_pred[val_idx] = model.predict(X_val)\n",
    "        meta_features[:, i] = temp_pred\n",
    "    return meta_features\n",
    "\n",
    "# 6. 테스트 메타 피처 생성 함수 정의\n",
    "def get_test_meta_features(models, X_train, y_train, X_test):\n",
    "    n_samples = X_test.shape[0]\n",
    "    n_models = len(models)\n",
    "    meta_test_features = np.zeros((n_samples, n_models), dtype=float)\n",
    "    \n",
    "    for i, model in enumerate(tqdm(models, desc=\"Retrain & Predict\")):\n",
    "        model.fit(X_train, y_train)\n",
    "        preds = model.predict(X_test)\n",
    "        meta_test_features[:, i] = preds\n",
    "    return meta_test_features\n",
    "\n",
    "# 7. Optuna objective 함수 정의\n",
    "def objective(trial):\n",
    "    # 하이퍼파라미터 탐색 범위\n",
    "    # rf_params = {\n",
    "    #     'n_estimators': trial.suggest_int(\"rf_n_estimators\", 300, 800),\n",
    "    #     'max_depth': trial.suggest_int(\"rf_max_depth\", 10, 40),\n",
    "    #     'min_samples_leaf': trial.suggest_int(\"rf_min_samples_leaf\", 1, 8),\n",
    "    #     'min_samples_split': trial.suggest_int(\"rf_min_samples_split\", 2, 20),\n",
    "    #     'max_features': trial.suggest_categorical(\"rf_max_features\", [\"sqrt\", \"log2\", None]),\n",
    "    #     'random_state': 42,\n",
    "    #     'n_jobs': -1\n",
    "    # }\n",
    "    \n",
    "    lgbm_params = {\n",
    "        'n_estimators': trial.suggest_int(\"lgbm_n_estimators\", 800, 3000),\n",
    "        'max_depth': trial.suggest_int(\"lgbm_max_depth\", 8, 25),\n",
    "        'learning_rate': trial.suggest_loguniform(\"lgbm_learning_rate\", 0.001, 0.1),\n",
    "        'num_leaves': trial.suggest_int(\"lgbm_num_leaves\", 30, 150),\n",
    "        'subsample': trial.suggest_uniform(\"lgbm_subsample\", 0.7, 1.0),\n",
    "        'colsample_bytree': trial.suggest_uniform(\"lgbm_colsample_bytree\", 0.7, 1.0),\n",
    "        'reg_alpha': trial.suggest_loguniform(\"lgbm_reg_alpha\", 1e-5, 1.0),\n",
    "        'reg_lambda': trial.suggest_loguniform(\"lgbm_reg_lambda\", 1e-5, 1.0),\n",
    "        'random_state': 42,\n",
    "        'n_jobs': -1\n",
    "    }\n",
    "    \n",
    "    xgb_params = {\n",
    "        'n_estimators': trial.suggest_int(\"xgb_n_estimators\", 800, 3000),\n",
    "        'max_depth': trial.suggest_int(\"xgb_max_depth\", 4, 15),\n",
    "        'learning_rate': trial.suggest_loguniform(\"xgb_learning_rate\", 0.001, 0.1),\n",
    "        'subsample': trial.suggest_uniform(\"xgb_subsample\", 0.7, 1.0),\n",
    "        'colsample_bytree': trial.suggest_uniform(\"xgb_colsample_bytree\", 0.7, 1.0),\n",
    "        'gamma': trial.suggest_loguniform(\"xgb_gamma\", 1e-5, 50),\n",
    "        'reg_alpha': trial.suggest_loguniform(\"xgb_reg_alpha\", 1e-5, 1.0),\n",
    "        'reg_lambda': trial.suggest_loguniform(\"xgb_reg_lambda\", 1e-5, 1.0),\n",
    "        'random_state': 42,\n",
    "        'n_jobs': -1,\n",
    "        'verbosity': 0\n",
    "    }\n",
    "    \n",
    "    # 모델 생성\n",
    "    # rf_model = RandomForestRegressor(**rf_params)\n",
    "    lgbm_model = LGBMRegressor(**lgbm_params)\n",
    "    xgb_model = XGBRegressor(**xgb_params)\n",
    "    models = [ lgbm_model, xgb_model]\n",
    "    # rf_model,\n",
    "    # TimeSeriesSplit 사용\n",
    "    tscv = TimeSeriesSplit(n_splits=5)\n",
    "    meta_X_train = create_meta_features(models, X_train, y_train_log, tscv)\n",
    "    \n",
    "    # 메타 모델 학습 및 평가\n",
    "    meta_model_ridge = Ridge(alpha=1.0, random_state=42)\n",
    "    meta_model_ridge.fit(meta_X_train, y_train_log)\n",
    "    train_preds_log = meta_model_ridge.predict(meta_X_train)\n",
    "    train_preds = np.expm1(train_preds_log)  # 로그 역변환\n",
    "    rmse = mean_squared_error(y_train, train_preds, squared=False)\n",
    "    return rmse\n",
    "\n",
    "# 8. Optuna 스터디 실행\n",
    "study = optuna.create_study(direction=\"minimize\")\n",
    "study.optimize(objective, n_trials=30)\n",
    "print(\"Best RMSE:\", study.best_value)\n",
    "print(\"Best params:\", study.best_params)\n",
    "\n",
    "# 9. 최적 하이퍼파라미터 추출 및 모델 생성\n",
    "best_params = study.best_params\n",
    "\n",
    "# rf_best = RandomForestRegressor(\n",
    "#     n_estimators=best_params[\"rf_n_estimators\"],\n",
    "#     max_depth=best_params[\"rf_max_depth\"],\n",
    "#     min_samples_leaf=best_params[\"rf_min_samples_leaf\"],\n",
    "#     min_samples_split=best_params[\"rf_min_samples_split\"],\n",
    "#     max_features=best_params[\"rf_max_features\"],\n",
    "#     random_state=42,\n",
    "#     n_jobs=-1\n",
    "# )\n",
    "\n",
    "lgbm_best = LGBMRegressor(\n",
    "    n_estimators=best_params[\"lgbm_n_estimators\"],\n",
    "    max_depth=best_params[\"lgbm_max_depth\"],\n",
    "    learning_rate=best_params[\"lgbm_learning_rate\"],\n",
    "    num_leaves=best_params[\"lgbm_num_leaves\"],\n",
    "    subsample=best_params[\"lgbm_subsample\"],\n",
    "    colsample_bytree=best_params[\"lgbm_colsample_bytree\"],\n",
    "    reg_alpha=best_params[\"lgbm_reg_alpha\"],\n",
    "    reg_lambda=best_params[\"lgbm_reg_lambda\"],\n",
    "    random_state=42,\n",
    "    n_jobs=-1\n",
    ")\n",
    "\n",
    "xgb_best = XGBRegressor(\n",
    "    n_estimators=best_params[\"xgb_n_estimators\"],\n",
    "    max_depth=best_params[\"xgb_max_depth\"],\n",
    "    learning_rate=best_params[\"xgb_learning_rate\"],\n",
    "    subsample=best_params[\"xgb_subsample\"],\n",
    "    colsample_bytree=best_params[\"xgb_colsample_bytree\"],\n",
    "    gamma=best_params[\"xgb_gamma\"],\n",
    "    reg_alpha=best_params[\"xgb_reg_alpha\"],\n",
    "    reg_lambda=best_params[\"xgb_reg_lambda\"],\n",
    "    random_state=42,\n",
    "    n_jobs=-1,\n",
    "    verbosity=0\n",
    ")\n",
    "\n",
    "models_best = [ lgbm_best, xgb_best]\n",
    "# rf_best,\n",
    "# 10. TimeSeriesSplit 정의\n",
    "tscv = TimeSeriesSplit(n_splits=5)\n",
    "\n",
    "# 11. 메타 피처 생성 및 메타 모델 학습\n",
    "meta_X_train_best = create_meta_features(models_best, X_train, y_train_log, tscv)\n",
    "\n",
    "# 12. 메타 모델 학습 (Ridge와 LGBM 둘 다)\n",
    "meta_model_ridge = Ridge(alpha=1.0, random_state=42)\n",
    "meta_model_lgbm = LGBMRegressor(n_estimators=200, random_state=42)\n",
    "\n",
    "meta_model_ridge.fit(meta_X_train_best, y_train_log)\n",
    "meta_model_lgbm.fit(meta_X_train_best, y_train_log)\n",
    "\n",
    "# 13. 훈련 성능 평가\n",
    "train_preds_ridge_log = meta_model_ridge.predict(meta_X_train_best)\n",
    "train_preds_ridge = np.expm1(train_preds_ridge_log)\n",
    "rmse_train_ridge = mean_squared_error(y_train, train_preds_ridge, squared=False)\n",
    "print(f\"Ridge 메타모델 Train RMSE (원래 스케일): {rmse_train_ridge:.4f}\")\n",
    "\n",
    "train_preds_lgbm_log = meta_model_lgbm.predict(meta_X_train_best)\n",
    "train_preds_lgbm = np.expm1(train_preds_lgbm_log)\n",
    "rmse_train_lgbm = mean_squared_error(y_train, train_preds_lgbm, squared=False)\n",
    "print(f\"LGBM 메타모델 Train RMSE (원래 스케일): {rmse_train_lgbm:.4f}\")\n",
    "\n",
    "# 14. 테스트 데이터 예측\n",
    "meta_X_test_best = get_test_meta_features(models_best, X_train, y_train_log, X_test)\n",
    "\n",
    "# Ridge 예측\n",
    "final_predictions_log_ridge = meta_model_ridge.predict(meta_X_test_best)\n",
    "final_predictions_ridge = np.expm1(final_predictions_log_ridge)  # 로그 역변환\n",
    "rounded_preds_ridge = np.round(final_predictions_ridge).astype(int)\n",
    "\n",
    "# LGBM 예측\n",
    "final_predictions_log_lgbm = meta_model_lgbm.predict(meta_X_test_best)\n",
    "final_predictions_lgbm = np.expm1(final_predictions_log_lgbm)  # 로그 역변환\n",
    "rounded_preds_lgbm = np.round(final_predictions_lgbm).astype(int)\n",
    "\n",
    "# 15. 제출파일 저장\n",
    "submission_ridge = pd.DataFrame({'target': rounded_preds_ridge})\n",
    "submission_ridge.to_csv('submission_optuna_ridge2.csv', index=False)\n",
    "print(\"submission_optuna_ridge.csv 파일이 생성되었습니다.\")\n",
    "\n",
    "submission_lgbm = pd.DataFrame({'target': rounded_preds_lgbm})\n",
    "submission_lgbm.to_csv('submission_optuna_lgbm2.csv', index=False)\n",
    "print(\"submission_optuna_lgbm.csv 파일이 생성되었습니다.\")\n"
   ]
  },
  {
   "cell_type": "code",
   "execution_count": 11,
   "id": "3d0ae63c-ffba-4278-8329-6f9aabb75421",
   "metadata": {},
   "outputs": [
    {
     "name": "stdout",
     "output_type": "stream",
     "text": [
      "메타 모델 학습 RMSE: 7584.4036\n"
     ]
    },
    {
     "name": "stderr",
     "output_type": "stream",
     "text": [
      "Retrain & Predict:  33%|█████████████████████████▎                                                  | 1/3 [00:47<01:35, 47.70s/it]"
     ]
    },
    {
     "name": "stdout",
     "output_type": "stream",
     "text": [
      "[LightGBM] [Info] Auto-choosing row-wise multi-threading, the overhead of testing was 0.005474 seconds.\n",
      "You can set `force_row_wise=true` to remove the overhead.\n",
      "And if memory is not enough, you can set `force_col_wise=true`.\n",
      "[LightGBM] [Info] Total Bins 2385\n",
      "[LightGBM] [Info] Number of data points in the train set: 635467, number of used features: 18\n",
      "[LightGBM] [Info] Start training from score 68659.895346\n"
     ]
    },
    {
     "name": "stderr",
     "output_type": "stream",
     "text": [
      "Retrain & Predict: 100%|████████████████████████████████████████████████████████████████████████████| 3/3 [01:15<00:00, 25.02s/it]\n"
     ]
    }
   ],
   "source": [
    "# meta_model = Ridge(alpha=1.0, random_state=42) # 메타 모델 생성\n",
    "# meta_model.fit(meta_X_train, y_train)\n",
    "# meta_X_train = create_meta_features(models, X_train, y_train, kf)\n",
    "# meta_X_test = get_test_meta_features(models, X_train, y_train, X_test)\n",
    "# final_predictions = meta_model.predict(meta_X_test)\n",
    "\n",
    "# # 메타 모델 훈련 데이터 예측\n",
    "# meta_train_preds = meta_model.predict(meta_X_train)\n",
    "\n",
    "# RMSE 계산\n",
    "# rmse_meta_train = mean_squared_error(y_train, meta_train_preds, squared=False)\n",
    "# print(f\"메타 모델 학습 RMSE: {rmse_meta_train:.4f}\")\n",
    "\n",
    "# # 테스트 데이터 예측\n",
    "# meta_X_test = get_test_meta_features(models, X_train, y_train, X_test)\n",
    "# final_predictions = meta_model.predict(meta_X_test)"
   ]
  },
  {
   "cell_type": "code",
   "execution_count": 72,
   "id": "9c550bb6-f0df-49ac-8f0d-1de8b807bf7b",
   "metadata": {},
   "outputs": [
    {
     "name": "stdout",
     "output_type": "stream",
     "text": [
      "메타 모델 학습 RMSE: 10780.4784\n"
     ]
    }
   ],
   "source": [
    "def stacking_cv_rmse(models, meta_models, X, y, kf):\n",
    "    rmses = []\n",
    "    for train_idx, val_idx in kf.split(X):\n",
    "        X_tr, X_val = X[train_idx], X[val_idx]\n",
    "        y_tr, y_val = y[train_idx], y[val_idx]\n",
    "\n",
    "        # 베이스 모델 OOF 메타 피처\n",
    "        meta_tr = create_meta_features_advanced(models, X_tr, y_tr, kf)\n",
    "        meta_val = np.column_stack([\n",
    "            m.fit(X_tr, y_tr).predict(X_val) for m in models\n",
    "        ])\n",
    "\n",
    "        # 메타 모델 예측값 평균\n",
    "        final_val_pred = np.zeros(len(y_val))\n",
    "        for meta_model in meta_models.values():\n",
    "            meta_model.fit(meta_tr, y_tr)\n",
    "            final_val_pred += meta_model.predict(meta_val) * (1/len(meta_models))\n",
    "        \n",
    "        rmses.append(mean_squared_error(y_val, final_val_pred, squared=False))\n",
    "\n",
    "    return np.mean(rmses), np.std(rmses)\n",
    "\n",
    "mean_rmse, std_rmse = stacking_cv_rmse(models, meta_predictions, X_train, y_train, kf)\n",
    "print(f\"스태킹 앙상블 CV RMSE: {mean_rmse:.4f} ± {std_rmse:.4f}\")\n"
   ]
  },
  {
   "cell_type": "code",
   "execution_count": null,
   "id": "5c899d2f-3b02-413e-9754-0947ecc6f468",
   "metadata": {},
   "outputs": [],
   "source": [
    "rounded_final_predictions = np.round(final_predictions)\n",
    "submission = pd.DataFrame({\n",
    "    'target': final_predictions\n",
    "})\n",
    "submission.to_csv('submission_5ensemble_imeanse.csv', index=False)"
   ]
  }
 ],
 "metadata": {
  "kernelspec": {
   "display_name": "Python 3 (ipykernel)",
   "language": "python",
   "name": "python3"
  },
  "language_info": {
   "codemirror_mode": {
    "name": "ipython",
    "version": 3
   },
   "file_extension": ".py",
   "mimetype": "text/x-python",
   "name": "python",
   "nbconvert_exporter": "python",
   "pygments_lexer": "ipython3",
   "version": "3.8.10"
  }
 },
 "nbformat": 4,
 "nbformat_minor": 5
}
