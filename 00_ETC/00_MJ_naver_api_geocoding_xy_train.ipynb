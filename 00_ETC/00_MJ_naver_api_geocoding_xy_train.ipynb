{
 "cells": [
  {
   "cell_type": "code",
   "execution_count": null,
   "id": "1806ed24-aa4f-4bf3-ab00-d29dfbd3579c",
   "metadata": {},
   "outputs": [],
   "source": [
    "# 필요모듈 import\n",
    "import pandas as pd\n",
    "import numpy as np\n",
    "import requests\n",
    "from tqdm import tqdm  # 진행 상황 확인용"
   ]
  },
  {
   "cell_type": "code",
   "execution_count": null,
   "id": "3601f5b2-0b09-4e66-ba27-f4a7e47a3881",
   "metadata": {},
   "outputs": [],
   "source": [
    "# train data 불러오기\n",
    "train_df = pd.read_csv('train_for_eda.csv', encoding='utf-8')"
   ]
  },
  {
   "cell_type": "code",
   "execution_count": null,
   "id": "171e9bcd-44d5-4f5e-9517-22a401e7f0d6",
   "metadata": {},
   "outputs": [],
   "source": [
    "# 주소열 feature 생성\n",
    "train_df['주소'] = train_df['시군구'] + ' ' + train_df['번지']"
   ]
  },
  {
   "cell_type": "code",
   "execution_count": null,
   "id": "9b98d848-ac03-4cd9-b714-40ae5b29a066",
   "metadata": {},
   "outputs": [],
   "source": [
    "# sample 5개만 추출해보기\n",
    "url = \"https://maps.apigw.ntruss.com/map-geocode/v2/geocode\"\n",
    "\n",
    "results = []\n",
    "\n",
    "for a in tqdm(train_df['주소'][0:5], total=len(train_df['주소'][0:5])):\n",
    "    params = {\n",
    "        \"query\": a,\n",
    "        \"output\": \"json\",\n",
    "    }\n",
    "\n",
    "    headers = {\n",
    "        \"x-ncp-apigw-api-key-id\": \"\", # Client ID\n",
    "        \"x-ncp-apigw-api-key\": \"\" # Client Secret\n",
    "    }\n",
    "    \n",
    "    response = requests.get(url, headers=headers, params=params)\n",
    "    data = response.json()\n",
    "    \n",
    "    if data['meta']['totalCount'] > 0:   # 결과가 있으면\n",
    "        x = data['addresses'][0]['x']\n",
    "        y = data['addresses'][0]['y']\n",
    "    else:   # 결과 없을 때는 None\n",
    "        x, y = None, None\n",
    "    \n",
    "    results.append([a, x, y])"
   ]
  },
  {
   "cell_type": "code",
   "execution_count": null,
   "id": "5f2fdcb9-22af-404f-94d8-88ebd3e80967",
   "metadata": {},
   "outputs": [],
   "source": [
    "# 결과확인\n",
    "results"
   ]
  },
  {
   "cell_type": "code",
   "execution_count": null,
   "id": "fa0065ba-c792-4bf2-b17a-d70aaec9e0e9",
   "metadata": {},
   "outputs": [],
   "source": [
    "# 전체 xy 추출\n",
    "url = \"https://maps.apigw.ntruss.com/map-geocode/v2/geocode\"\n",
    "\n",
    "x_coordi = []\n",
    "y_coordi = []\n",
    "\n",
    "for a in tqdm(train_df['주소'], total=len(train_df['주소'])):\n",
    "    params = {\n",
    "        \"query\": a,\n",
    "        \"output\": \"json\",\n",
    "    }\n",
    "\n",
    "    headers = {\n",
    "        \"x-ncp-apigw-api-key-id\": \"\", # Client ID\n",
    "        \"x-ncp-apigw-api-key\": \"\" # Client Secret\n",
    "    }\n",
    "    \n",
    "    response = requests.get(url, headers=headers, params=params)\n",
    "    data = response.json()\n",
    "\n",
    "    try:\n",
    "        if data['meta']['totalCount'] > 0:   # 결과가 있으면\n",
    "            x = data['addresses'][0]['x']\n",
    "            y = data['addresses'][0]['y']\n",
    "        else:   # 결과 없을 때는 None\n",
    "            x, y = None, None\n",
    "    except Exception as e:\n",
    "        x, y = None, None\n",
    "        print(f\"주소: {a}, 에러: {e}\")\n",
    "    \n",
    "    x_coordi.append(x)\n",
    "    y_coordi.append(y)"
   ]
  },
  {
   "cell_type": "code",
   "execution_count": null,
   "id": "21a4a31b-df9e-4a46-a0a6-6a4aba19d8ec",
   "metadata": {},
   "outputs": [],
   "source": [
    "print(len(x_coordi), len(y_coordi))"
   ]
  },
  {
   "cell_type": "code",
   "execution_count": null,
   "id": "628eddee-9f2a-47c7-8fb4-9e4ce57839ee",
   "metadata": {},
   "outputs": [],
   "source": [
    "train_df['x좌표'] = x_coordi\n",
    "train_df['y좌표'] = y_coordi"
   ]
  },
  {
   "cell_type": "code",
   "execution_count": null,
   "id": "00420878-0def-4e8f-a461-f347f58b548a",
   "metadata": {},
   "outputs": [],
   "source": [
    "# 데이터 생성\n",
    "# train_df.to_csv('train_for_model_add_co.csv', encoding='utf-8', index=False)"
   ]
  },
  {
   "cell_type": "code",
   "execution_count": null,
   "id": "223ad627-a506-4b69-9667-d489b801b2cd",
   "metadata": {},
   "outputs": [],
   "source": []
  }
 ],
 "metadata": {
  "kernelspec": {
   "display_name": "ML_project",
   "language": "python",
   "name": "ml_project"
  },
  "language_info": {
   "codemirror_mode": {
    "name": "ipython",
    "version": 3
   },
   "file_extension": ".py",
   "mimetype": "text/x-python",
   "name": "python",
   "nbconvert_exporter": "python",
   "pygments_lexer": "ipython3",
   "version": "3.11.9"
  }
 },
 "nbformat": 4,
 "nbformat_minor": 5
}
