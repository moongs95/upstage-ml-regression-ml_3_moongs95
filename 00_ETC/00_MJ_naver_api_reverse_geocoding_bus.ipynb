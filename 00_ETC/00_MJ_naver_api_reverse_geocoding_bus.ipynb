{
 "cells": [
  {
   "cell_type": "code",
   "execution_count": null,
   "id": "1806ed24-aa4f-4bf3-ab00-d29dfbd3579c",
   "metadata": {},
   "outputs": [],
   "source": [
    "# 필요 모듈 import\n",
    "import pandas as pd\n",
    "import numpy as np\n",
    "import requests\n",
    "from tqdm import tqdm  # 진행 상황 확인용"
   ]
  },
  {
   "cell_type": "code",
   "execution_count": null,
   "id": "84f57d41-b025-4e14-afa5-e478158b3938",
   "metadata": {},
   "outputs": [],
   "source": [
    "# 데이터 불러오기\n",
    "bus = pd.read_csv('bus_feature.csv', encoding='utf-8')\n",
    "# subway = pd.read_csv('subway_feature.csv', encoding='utf-8')"
   ]
  },
  {
   "cell_type": "code",
   "execution_count": null,
   "id": "b9f17a5a-034c-4529-9a8d-19194fb07ce0",
   "metadata": {
    "scrolled": true
   },
   "outputs": [],
   "source": [
    "for x, y in zip(bus['X좌표'], bus['Y좌표']):\n",
    "    print(x, y)"
   ]
  },
  {
   "cell_type": "code",
   "execution_count": null,
   "id": "fa0065ba-c792-4bf2-b17a-d70aaec9e0e9",
   "metadata": {},
   "outputs": [],
   "source": [
    "url = \"https://maps.apigw.ntruss.com/map-reversegeocode/v2/gc\"\n",
    "\n",
    "si_data = []\n",
    "gu_data = []\n",
    "dong_data = []\n",
    "for x, y in tqdm(zip(bus['X좌표'], bus['Y좌표']), total=len(bus)):\n",
    "    params = {\n",
    "        \"coords\": f\"{x}, {y}\",  # 경도, 위도 (longitude, latitude)\n",
    "        \"output\": \"json\",\n",
    "        \"orders\": \"legalcode\"\n",
    "    }\n",
    "    \n",
    "    headers = {\n",
    "        \"x-ncp-apigw-api-key-id\": \"\", # Client ID\n",
    "        \"x-ncp-apigw-api-key\": \"\" # Client Secret\n",
    "    }\n",
    "    \n",
    "    response = requests.get(url, headers=headers, params=params)\n",
    "    \n",
    "    data = response.json()\n",
    "    si_data.append(data['results'][0]['region']['area1']['name'])\n",
    "    gu_data.append(data['results'][0]['region']['area2']['name'])\n",
    "    dong_data.append(data['results'][0]['region']['area3']['name'])\n",
    "    \n",
    "    # 결과 확인\n",
    "    # if response.status_code == 200:\n",
    "    #     data = response.json()\n",
    "    #     print(data)\n",
    "    # else:\n",
    "    #     print(\"Error:\", response.status_code, response.text)"
   ]
  },
  {
   "cell_type": "code",
   "execution_count": null,
   "id": "21a4a31b-df9e-4a46-a0a6-6a4aba19d8ec",
   "metadata": {},
   "outputs": [],
   "source": [
    "# 데이터 확인\n",
    "print(len(si_data), len(gu_data), len(dong_data))"
   ]
  },
  {
   "cell_type": "code",
   "execution_count": null,
   "id": "628eddee-9f2a-47c7-8fb4-9e4ce57839ee",
   "metadata": {},
   "outputs": [],
   "source": [
    "bus['si'] = si_data\n",
    "bus['gu'] = gu_data\n",
    "bus['dong'] = dong_data"
   ]
  },
  {
   "cell_type": "code",
   "execution_count": null,
   "id": "70189e7e-0e35-41ec-b86f-e6f6c9fc0616",
   "metadata": {},
   "outputs": [],
   "source": [
    "bus.info()"
   ]
  },
  {
   "cell_type": "code",
   "execution_count": null,
   "id": "52f3ffc7-b4c3-41d4-936b-20877bbc8b85",
   "metadata": {},
   "outputs": [],
   "source": [
    "bus.head()"
   ]
  },
  {
   "cell_type": "code",
   "execution_count": null,
   "id": "d5536653-c322-453c-9ad6-bd7cd3048655",
   "metadata": {},
   "outputs": [],
   "source": [
    "# reverse geocoding 데이터 생성\n",
    "# bus.to_csv('bus_feature_moongs.csv', index=False, encoding='utf-8')"
   ]
  },
  {
   "cell_type": "code",
   "execution_count": null,
   "id": "223ad627-a506-4b69-9667-d489b801b2cd",
   "metadata": {},
   "outputs": [],
   "source": []
  }
 ],
 "metadata": {
  "kernelspec": {
   "display_name": "ML_project",
   "language": "python",
   "name": "ml_project"
  },
  "language_info": {
   "codemirror_mode": {
    "name": "ipython",
    "version": 3
   },
   "file_extension": ".py",
   "mimetype": "text/x-python",
   "name": "python",
   "nbconvert_exporter": "python",
   "pygments_lexer": "ipython3",
   "version": "3.11.9"
  }
 },
 "nbformat": 4,
 "nbformat_minor": 5
}
