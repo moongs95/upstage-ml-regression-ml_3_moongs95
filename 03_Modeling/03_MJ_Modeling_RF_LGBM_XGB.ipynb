{
 "cells": [
  {
   "cell_type": "code",
   "execution_count": null,
   "id": "d2d455a3-3dea-486d-97ed-6d0c47d1f294",
   "metadata": {},
   "outputs": [],
   "source": [
    "import pandas as pd\n",
    "import numpy as np\n",
    "import matplotlib.pyplot as plt\n",
    "import seaborn as sns\n",
    "from tqdm import tqdm\n",
    "import optuna\n",
    "import wandb\n",
    "from optuna.integration import LightGBMPruningCallback\n",
    "\n",
    "from sklearn.feature_selection import RFE\n",
    "from scipy.stats import chi2_contingency, spearmanr\n",
    "from sklearn.preprocessing import MinMaxScaler\n",
    "from sklearn.preprocessing import StandardScaler\n",
    "from sklearn.preprocessing import LabelEncoder\n",
    "\n",
    "from sklearn.model_selection import train_test_split\n",
    "from sklearn.linear_model import LinearRegression\n",
    "from sklearn.ensemble import RandomForestRegressor\n",
    "from sklearn.ensemble import StackingRegressor\n",
    "from lightgbm import LGBMRegressor, early_stopping, log_evaluation\n",
    "import lightgbm\n",
    "from catboost import CatBoostRegressor, Pool\n",
    "import xgboost as xgb\n",
    "from xgboost import XGBRegressor\n",
    "from sklearn.metrics import mean_squared_error\n",
    "\n",
    "import time\n",
    "import warnings\n",
    "warnings.filterwarnings('ignore')"
   ]
  },
  {
   "cell_type": "code",
   "execution_count": null,
   "id": "d916acbe-881c-4f32-86cf-86cd7b8d5d24",
   "metadata": {},
   "outputs": [],
   "source": [
    "# 한글처리\n",
    "plt.rcParams['font.family'] ='NanumGothic'\n",
    "plt.rcParams['axes.unicode_minus'] =False"
   ]
  },
  {
   "cell_type": "code",
   "execution_count": null,
   "id": "1fc89ce3-23fd-4ed9-b2d8-e87dc497d922",
   "metadata": {},
   "outputs": [],
   "source": [
    "# 데이터 로드\n",
    "train = pd.read_csv('train_2016.csv', encoding='utf-8')\n",
    "test = pd.read_csv('test_2016.csv', encoding='utf-8')"
   ]
  },
  {
   "cell_type": "markdown",
   "id": "f7c0bf29-674e-450c-8b02-7ffb0b80d6dd",
   "metadata": {},
   "source": [
    "### 변수 선택 기법"
   ]
  },
  {
   "cell_type": "markdown",
   "id": "1f4ddbab-d51a-4692-a445-a485653bcc05",
   "metadata": {},
   "source": [
    "##### 1. 도메인 기반 필요없는 열 제거\n",
    "##### 2. 범주형: 카이제곱 기반/수치형: 스피어만 기반 p-value 0.05이하\n",
    "##### 3. 모델 학습 시 embedded 방식(RandomForest만)"
   ]
  },
  {
   "cell_type": "code",
   "execution_count": null,
   "id": "6f8ba727-1889-4853-a11c-814a4e2caa98",
   "metadata": {},
   "outputs": [],
   "source": [
    "# df: 데이터프레임, target: 종속변수\n",
    "target_col = 'target'\n",
    "\n",
    "# 변수 타입 구분\n",
    "categorical_cols = train.select_dtypes(include=['object', 'category']).columns.tolist()\n",
    "numeric_cols = train.select_dtypes(include=['int64', 'float64']).columns.tolist()\n",
    "numeric_cols = [col for col in numeric_cols if col != target_col]\n",
    "\n",
    "# 1. 범주형 변수: 카이제곱 검정\n",
    "selected_categorical = []\n",
    "for col in categorical_cols:\n",
    "    contingency_table = pd.crosstab(train[col], train[target_col])\n",
    "    chi2, p, dof, expected = chi2_contingency(contingency_table)\n",
    "    if p <= 0.05:\n",
    "        selected_categorical.append(col)\n",
    "\n",
    "# 2. 수치형 변수: 스피어만 상관 + p-value\n",
    "selected_numeric = []\n",
    "for col in numeric_cols:\n",
    "    corr, p = spearmanr(train[col], train[target_col])\n",
    "    if p <= 0.05:\n",
    "        selected_numeric.append(col)\n",
    "\n",
    "# 결과 출력\n",
    "print(\"p-value <= 0.05인 범주형 변수:\", selected_categorical)\n",
    "print(\"p-value <= 0.05인 수치형 변수:\", selected_numeric)"
   ]
  },
  {
   "cell_type": "code",
   "execution_count": null,
   "id": "04f0c967-bfbd-4357-9eac-17297408a3f1",
   "metadata": {},
   "outputs": [],
   "source": [
    "for col in train.columns:\n",
    "    if col not in selected_categorical + selected_numeric + ['target']:\n",
    "        print(col)"
   ]
  },
  {
   "cell_type": "code",
   "execution_count": null,
   "id": "bf3965e2-3c37-4afb-85fe-4687211f08d8",
   "metadata": {},
   "outputs": [],
   "source": [
    "# 변수 선택 1차\n",
    "def drop_dup_cols(df):\n",
    "    df = df.drop(['번지', '본번', '부번', '계약일', '도로명', '중개사소재지', 'k-전화번호', 'k-팩스번호', 'k-관리방식',\n",
    "                  'k-사용검사일-사용승인일', '경비비관리형태', '세대전기계약방법', '청소비관리형태', 'k-수정일자',\n",
    "                  '계약월', '주소'], axis=1)\n",
    "    return df"
   ]
  },
  {
   "cell_type": "code",
   "execution_count": null,
   "id": "cb79f3cf-7589-4238-8f5c-fbc5a30bdb70",
   "metadata": {},
   "outputs": [],
   "source": [
    "train = drop_dup_cols(train)\n",
    "test = drop_dup_cols(test)"
   ]
  },
  {
   "cell_type": "code",
   "execution_count": null,
   "id": "3ca2f40f-7671-445e-8077-9d50aa5ee8d5",
   "metadata": {},
   "outputs": [],
   "source": [
    "# 데이터 확인하기"
   ]
  },
  {
   "cell_type": "code",
   "execution_count": null,
   "id": "388007a8-6140-454f-8d87-da323f5bb430",
   "metadata": {
    "scrolled": true
   },
   "outputs": [],
   "source": [
    "train.info()"
   ]
  },
  {
   "cell_type": "code",
   "execution_count": null,
   "id": "4b621492-43a1-4e8f-aaa1-312758b68f98",
   "metadata": {
    "scrolled": true
   },
   "outputs": [],
   "source": [
    "test.info()"
   ]
  },
  {
   "cell_type": "code",
   "execution_count": null,
   "id": "bf7d9f0c-2739-4fd0-8554-ca6efdd0f063",
   "metadata": {},
   "outputs": [],
   "source": [
    "# 기존 데이터 copy\n",
    "train_origin = train.copy()\n",
    "test_origin = test.copy()"
   ]
  },
  {
   "cell_type": "code",
   "execution_count": null,
   "id": "13d7916f-446e-44f4-9d13-d88a98c79a97",
   "metadata": {},
   "outputs": [],
   "source": [
    "# 모델에 맞춘 칼럼명 변경\n",
    "def clean_feature_names(df):\n",
    "    \"\"\"\n",
    "    데이터프레임 feature명을 모델에 바로 사용할 수 있게 변환\n",
    "    - 한글 최대 유지\n",
    "    - 특수문자 제거: (), /, -, =, 공백\n",
    "    - ㎡ -> m2 . → _, ~ → _\n",
    "    - 연속된 _는 하나로\n",
    "    - bool 타입 → int로 변환\n",
    "    \"\"\"\n",
    "    df = df.copy()\n",
    "    new_cols = []\n",
    "    \n",
    "    for col in df.columns:\n",
    "        new_col = col\n",
    "        # 괄호 제거\n",
    "        new_col = new_col.replace(\"(\", \"\").replace(\")\", \"\")\n",
    "        # 단위, 특수문자 치환\n",
    "        new_col = new_col.replace(\"㎡\", \"m2\")\n",
    "        new_col = new_col.replace(\".\", \"_\")\n",
    "        new_col = new_col.replace(\"~\", \"_\")\n",
    "        # 슬래시, 등호, 하이픈, 공백 → _\n",
    "        for ch in [\"/\", \"=\", \"-\", \" \"]:\n",
    "            new_col = new_col.replace(ch, \"_\")\n",
    "        # 연속된 _는 하나로\n",
    "        while \"__\" in new_col:\n",
    "            new_col = new_col.replace(\"__\", \"_\")\n",
    "        # 앞뒤 _ 제거\n",
    "        new_col = new_col.strip(\"_\")\n",
    "        new_cols.append(new_col)\n",
    "    \n",
    "    df.columns = new_cols\n",
    "    \n",
    "    # bool 타입 → int\n",
    "    for col in df.select_dtypes(include=\"bool\").columns:\n",
    "        df[col] = df[col].astype(int)\n",
    "    \n",
    "    return df"
   ]
  },
  {
   "cell_type": "code",
   "execution_count": null,
   "id": "e4ac1eb5-bf70-4146-b5b5-d880075e58a6",
   "metadata": {},
   "outputs": [],
   "source": [
    "train = clean_feature_names(train)\n",
    "test = clean_feature_names(test)"
   ]
  },
  {
   "cell_type": "code",
   "execution_count": null,
   "id": "6fc79fe9-879f-4dfe-85c2-460f8e7ac9c5",
   "metadata": {},
   "outputs": [],
   "source": [
    "# 범주형 변수 인코딩\n",
    "# 1. 범주형 컬럼 선택\n",
    "cat_cols = train.select_dtypes(include=['object', 'category']).columns\n",
    "\n",
    "# 2. train 기준 LabelEncoder 학습\n",
    "le_dict = {}\n",
    "for col in cat_cols:\n",
    "    le = LabelEncoder()\n",
    "    train[col] = le.fit_transform(train[col].astype(str))  # train만 학습\n",
    "    le_dict[col] = le  # 나중에 val/test 변환용 저장\n",
    "\n",
    "# 3. val/test 변환\n",
    "for col in cat_cols:\n",
    "    le = le_dict[col]\n",
    "    test[col] = test[col].map(lambda x: le.transform([x])[0] if x in le.classes_ else -1)"
   ]
  },
  {
   "cell_type": "code",
   "execution_count": null,
   "id": "7337b984-dbbb-47d6-8564-7960792e1408",
   "metadata": {},
   "outputs": [],
   "source": [
    "# train target 분류\n",
    "train_x = train[train.columns[train.columns != 'target']]\n",
    "train_y = train['target']\n",
    "\n",
    "X_test = test.copy()\n",
    "\n",
    "# target 로그 변환\n",
    "train_y = np.log1p(train_y)"
   ]
  },
  {
   "cell_type": "code",
   "execution_count": null,
   "id": "0ef84379-8ae8-4460-9eed-8b286ba42681",
   "metadata": {},
   "outputs": [],
   "source": [
    "# train/validation 분할(RMSE 성능 보기 및 앙상블)\n",
    "X_train, X_val, y_train, y_val = train_test_split(train_x, train_y, test_size=0.2, random_state=42, shuffle=True)\n",
    "\n",
    "print(\"Train shape:\", X_train.shape, y_train.shape)\n",
    "print(\"Validation shape:\", X_val.shape, y_val.shape)\n",
    "print(\"test shape:\", X_test.shape)\n",
    "\n",
    "# validation y 로그 변환\n",
    "y_val = np.expm1(y_val)\n",
    "print(y_val.head())"
   ]
  },
  {
   "cell_type": "markdown",
   "id": "39f578c4-2cfd-4795-9885-43042a77e258",
   "metadata": {},
   "source": [
    "### LGBM"
   ]
  },
  {
   "cell_type": "code",
   "execution_count": null,
   "id": "6b0a50d3-008c-4a49-ad1b-7b927ea3815a",
   "metadata": {
    "scrolled": true
   },
   "outputs": [],
   "source": [
    "# LGBM 모델 정의\n",
    "lgbm = LGBMRegressor(\n",
    "    n_estimators=15000,          # 충분히 크게 두고 early stopping으로 조기 중단\n",
    "    learning_rate=0.05,        # 너무 크지 않게\n",
    "    max_depth=10,              # 트리 깊이 제한\n",
    "    num_leaves=31,             # 기본값보다 크게 잡으면 과적합 ↑ → 적당히 제한\n",
    "    min_child_samples=50,      # 리프에 최소 샘플 수 → 크게 잡으면 과적합 ↓\n",
    "    feature_fraction=0.8,      # 피처 중 일부만 사용 → 랜덤성 ↑\n",
    "    bagging_fraction=0.8,      # 데이터 샘플링 → 랜덤성 ↑\n",
    "    bagging_freq=5,            # 5회마다 샘플링\n",
    "    lambda_l1=1.0,             # L1 정규화\n",
    "    lambda_l2=1.0,             # L2 정규화\n",
    "    random_state=42,\n",
    "    n_jobs=-1\n",
    ")\n",
    "\n",
    "# 학습 시작 시간 기록\n",
    "start_time = time.time()\n",
    "\n",
    "lgbm.fit(\n",
    "    X_train[use_cols_lgbm], y_train,\n",
    "    eval_set=[(X_val[use_cols_lgbm], y_val)],\n",
    "    eval_metric=\"rmse\",\n",
    "    callbacks=[early_stopping(stopping_rounds=50, verbose=True), log_evaluation(period=100)]\n",
    ")\n",
    "\n",
    "# 학습 종료 시간 기록\n",
    "end_time = time.time()\n",
    "training_time = end_time - start_time\n",
    "print(f\"LGBM 학습 시간: {training_time:.2f} 초\")\n",
    "\n",
    "# Validation RMSE(RMSE 성능보기)\n",
    "y_val_pred_log = lgbm.predict(X_val[use_cols_lgbm])\n",
    "y_val_pred = np.expm1(y_val_pred_log)\n",
    "\n",
    "val_rmse = np.sqrt(mean_squared_error(y_val, y_val_pred))\n",
    "print(f\"Validation RMSE: {val_rmse:.4f}\") #\n",
    "\n",
    "# Test 예측(제출시)\n",
    "y_test_pred_lgbm = lgbm.predict(X_test[use_cols_lgbm])"
   ]
  },
  {
   "cell_type": "code",
   "execution_count": null,
   "id": "7bd62f72-c451-4a24-9ac3-6f188b15d17f",
   "metadata": {},
   "outputs": [],
   "source": [
    "# LGBM feature importance\n",
    "lgbm_importance = pd.DataFrame({\n",
    "    'feature': X_train[use_cols_lgbm].columns,\n",
    "    'importance': lgbm.feature_importances_\n",
    "}).sort_values(by='importance', ascending=False)"
   ]
  },
  {
   "cell_type": "code",
   "execution_count": null,
   "id": "5f48b2fa-7edd-4f7b-9da3-61869d475565",
   "metadata": {},
   "outputs": [],
   "source": [
    "plt.figure(figsize=(10,8))\n",
    "sns.barplot(x='importance', y='feature', data=lgbm_importance)\n",
    "plt.title(\"Top Feature Importance (LGBM)\")\n",
    "plt.show()"
   ]
  },
  {
   "cell_type": "markdown",
   "id": "01ab33b9-060c-4601-8ebd-05553488b0a3",
   "metadata": {},
   "source": [
    "### RandomForest"
   ]
  },
  {
   "cell_type": "code",
   "execution_count": null,
   "id": "4de82682-c005-4fe8-a610-fa0a6986c3a6",
   "metadata": {},
   "outputs": [],
   "source": [
    "# 랜덤포레스트 학습\n",
    "rf = RandomForestRegressor(\n",
    "    n_estimators=2000,\n",
    "    max_depth=20,\n",
    "    min_samples_split=5,\n",
    "    min_samples_leaf=2,\n",
    "    random_state=42,\n",
    "    n_jobs=-1\n",
    ")\n",
    "\n",
    "# 학습 시작 시간 기록\n",
    "start_time = time.time()\n",
    "\n",
    "# 모델 학습\n",
    "rf.fit(X_train[rf_cols], y_train) # cols\n",
    "\n",
    "# 학습 종료 시간 기록\n",
    "end_time = time.time()\n",
    "training_time = end_time - start_time\n",
    "print(f\"Random Forest 학습 시간: {training_time:.2f} 초\")\n",
    "\n",
    "# Validation RMSE(RMSE 성능보기)\n",
    "y_val_pred_log = rf.predict(X_val[rf_cols])\n",
    "y_val_pred = np.expm1(y_val_pred_log)\n",
    "\n",
    "val_rmse = np.sqrt(mean_squared_error(y_val, y_val_pred))\n",
    "print(f\"Validation RMSE: {val_rmse:.4f}\") #\n",
    "\n",
    "# # Test 예측(제출시)\n",
    "y_test_pred_rf = rf.predict(X_test[rf_cols]) # cols"
   ]
  },
  {
   "cell_type": "code",
   "execution_count": null,
   "id": "3c9d82f2-89ef-496b-8452-03b08ba93a43",
   "metadata": {},
   "outputs": [],
   "source": [
    "# max_depth=None(트리개수 제한 없음)일때 트리 깊이 확인해보기\n",
    "depths = [estimator.tree_.max_depth for estimator in rf.estimators_]\n",
    "\n",
    "print(\"트리 깊이 요약\")\n",
    "print(\"최소 깊이:\", min(depths))\n",
    "print(\"평균 깊이:\", sum(depths) / len(depths))\n",
    "print(\"최대 깊이:\", max(depths))"
   ]
  },
  {
   "cell_type": "code",
   "execution_count": null,
   "id": "fd36baa1-eb84-4fce-b8cc-8b87142e917b",
   "metadata": {},
   "outputs": [],
   "source": [
    "# RF feature importance\n",
    "rf_importance = pd.DataFrame({\n",
    "    'feature': X_train[selected_final].columns, # cols\n",
    "    'importance': rf.feature_importances_\n",
    "}).sort_values(by='importance', ascending=False)"
   ]
  },
  {
   "cell_type": "code",
   "execution_count": null,
   "id": "73917164-7060-4c7c-948e-22805ce0fec1",
   "metadata": {},
   "outputs": [],
   "source": [
    "plt.figure(figsize=(10,6))\n",
    "sns.barplot(x='importance', y='feature', data=rf_importance.head(40))\n",
    "plt.title(\"Top Feature Importance (RandomForest)\")\n",
    "plt.show()"
   ]
  },
  {
   "cell_type": "markdown",
   "id": "990557f3-36cb-4ee6-b1a4-a5719e065251",
   "metadata": {},
   "source": [
    "### XGBoost"
   ]
  },
  {
   "cell_type": "code",
   "execution_count": null,
   "id": "6856997c-a4eb-44f6-b9d8-0e59f0643211",
   "metadata": {},
   "outputs": [],
   "source": [
    "# XGBoost\n",
    "dtrain = xgb.DMatrix(X_train[xgb_cols], y_train)\n",
    "dvalid = xgb.DMatrix(X_val[xgb_cols], y_val)\n",
    "dtest = xgb.DMatrix(X_test[xgb_cols])\n",
    "\n",
    "params = {\n",
    "    \"objective\": \"reg:squarederror\",\n",
    "    \"eval_metric\": \"rmse\",\n",
    "    \"learning_rate\": 0.05,\n",
    "    \"max_depth\": 8,\n",
    "    \"subsample\": 0.8,\n",
    "    \"colsample_bytree\": 0.8,\n",
    "    \"lambda\": 1.0,   # L2\n",
    "    \"alpha\": 0.0,    # L1\n",
    "    \"seed\": 42\n",
    "}\n",
    "\n",
    "# 학습\n",
    "evals = [(dtrain, \"train\"), (dvalid, \"valid\")]\n",
    "\n",
    "num_round = 15000\n",
    "bst = xgb.train(\n",
    "    params,\n",
    "    dtrain,\n",
    "    num_boost_round=num_round,\n",
    "    evals=evals,\n",
    "    early_stopping_rounds=50,\n",
    "    verbose_eval=100\n",
    ")\n",
    "\n",
    "# Validation RMSE(RMSE 성능보기)\n",
    "y_val_pred_log = bst.predict(dvalid)\n",
    "y_val_pred = np.expm1(y_val_pred_log)  # 로그 역변환\n",
    "\n",
    "rmse = np.sqrt(mean_squared_error(y_val, y_val_pred))\n",
    "print(\"Validation RMSE:\", rmse)\n",
    "\n",
    "# test 예측(제출시)\n",
    "y_test_pred_xgb= bst.predict(dtest)"
   ]
  },
  {
   "cell_type": "code",
   "execution_count": null,
   "id": "c4e39bf5-659e-4aba-aa15-6df41051db86",
   "metadata": {},
   "outputs": [],
   "source": [
    "# xgb feature importance\n",
    "xgb_importance = bst.get_score(importance_type='gain')\n",
    "xgb_importance = pd.DataFrame(xgb_importance.items(), columns=['feature', 'importance'])\n",
    "xgb_importance = xgb_importance.sort_values(by='importance', ascending=False)"
   ]
  },
  {
   "cell_type": "code",
   "execution_count": null,
   "id": "3f2a2458-8fe6-48c0-a064-42fee043f7a8",
   "metadata": {},
   "outputs": [],
   "source": [
    "plt.figure(figsize=(10,6))\n",
    "sns.barplot(xgb_importance.head(40), x='importance', y='feature')\n",
    "plt.title(\"Top Feature Importance (xgb)\")\n",
    "plt.show()"
   ]
  },
  {
   "cell_type": "markdown",
   "id": "fecd2cda-434a-48f7-8895-5a5061bc8899",
   "metadata": {},
   "source": [
    "### 앙상블"
   ]
  },
  {
   "cell_type": "code",
   "execution_count": null,
   "id": "46ad904f-62c7-410b-ad90-d379368dac2a",
   "metadata": {},
   "outputs": [],
   "source": [
    "# 단순평균\n",
    "y_pred_mean = (y_test_pred_rf + y_test_pred_lgbm + y_test_pred_xgb) / 3\n",
    "y_pred_mean"
   ]
  },
  {
   "cell_type": "code",
   "execution_count": null,
   "id": "5a88aaff-289f-40f8-8746-7e913bfd7749",
   "metadata": {},
   "outputs": [],
   "source": [
    "# 1/RMSE 비례 가중치 계산\n",
    "rmse_rf = 57484.8395\n",
    "rmse_lgbm = 8487.8129\n",
    "rmse_xgb = 7704.1087\n",
    "\n",
    "inv = np.array([1/rmse_rf, 1/rmse_lgbm, 1/rmse_xgb])\n",
    "weights = inv / inv.sum()\n",
    "print(\"가중치:\", weights)\n",
    "\n",
    "# validation 앙상블 성능 확인\n",
    "rf_val = y_test_pred_rf\n",
    "lgbm_val = y_test_pred_lgbm\n",
    "xgb_val = y_test_pred_xgb\n",
    "\n",
    "ensemble_val = (\n",
    "    weights[0]*rf_val +\n",
    "    weights[1]*lgbm_val +\n",
    "    weights[2]*xgb_val\n",
    ")"
   ]
  },
  {
   "cell_type": "markdown",
   "id": "316ffc4b-935a-4a6c-acaf-e575cbb108a8",
   "metadata": {},
   "source": [
    "### KFold"
   ]
  },
  {
   "cell_type": "code",
   "execution_count": null,
   "id": "2e2648a9-3351-4ebe-866b-c24bb38d0722",
   "metadata": {},
   "outputs": [],
   "source": [
    "# 0. feature 정의 (모델별 다르게)\n",
    "FEATURES_RF = use_cols_rf  # RF feature\n",
    "FEATURES_LGB = use_cols # LGBM feature\n",
    "FEATURES_XGB = use_cols # XGB feature\n",
    "\n",
    "# 1. KFold 정의\n",
    "kf = KFold(n_splits=5, shuffle=True, random_state=42)\n",
    "\n",
    "# OOF 저장\n",
    "rf_oof = np.zeros(len(X_train))\n",
    "lgbm_oof = np.zeros(len(X_train))\n",
    "xgb_oof = np.zeros(len(X_train))\n",
    "\n",
    "# test fold 평균\n",
    "rf_test_pred = np.zeros(len(X_test))\n",
    "lgbm_test_pred = np.zeros(len(X_test))\n",
    "xgb_test_pred = np.zeros(len(X_test))\n",
    "\n",
    "# 2. Fold 학습\n",
    "for fold, (train_idx, val_idx) in enumerate(kf.split(X_train), 1):\n",
    "    print(f\"\\n===== Fold {fold} =====\")\n",
    "    \n",
    "    # 각 모델별 train/val\n",
    "    X_tr_rf, X_va_rf = X_train.iloc[train_idx][FEATURES_RF], X_train.iloc[val_idx][FEATURES_RF]\n",
    "    X_tr_lgb, X_va_lgb = X_train.iloc[train_idx][FEATURES_LGB], X_train.iloc[val_idx][FEATURES_LGB]\n",
    "    X_tr_xgb, X_va_xgb = X_train.iloc[train_idx][FEATURES_XGB], X_train.iloc[val_idx][FEATURES_XGB]\n",
    "    \n",
    "    y_tr, y_va = y_train.iloc[train_idx], y_train.iloc[val_idx]\n",
    "\n",
    "    # ---------------------------\n",
    "    # Random Forest\n",
    "    # ---------------------------\n",
    "    rf = RandomForestRegressor(\n",
    "        n_estimators=500,\n",
    "        max_depth=20,\n",
    "        min_samples_split=10,\n",
    "        min_samples_leaf=5,\n",
    "        max_features='sqrt',\n",
    "        random_state=42,\n",
    "        n_jobs=-1\n",
    "    )\n",
    "    rf.fit(X_tr_rf, y_tr)\n",
    "    rf_oof[val_idx] = rf.predict(X_va_rf)\n",
    "    rf_test_pred += rf.predict(X_test[FEATURES_RF]) / kf.n_splits\n",
    "\n",
    "    # ---------------------------\n",
    "    # LightGBM\n",
    "    # ---------------------------\n",
    "    lgbm = LGBMRegressor(\n",
    "        n_estimators=10000,\n",
    "        learning_rate=0.03,\n",
    "        num_leaves=31,\n",
    "        max_depth=10,\n",
    "        min_data_in_leaf=30,\n",
    "        feature_fraction=0.8,\n",
    "        bagging_fraction=0.8,\n",
    "        bagging_freq=5,\n",
    "        lambda_l1=0,\n",
    "        lambda_l2=1,\n",
    "        random_state=42\n",
    "    )\n",
    "    lgbm.fit(\n",
    "        X_tr_lgb, y_tr,\n",
    "        eval_set=[(X_va_lgb, y_va)],\n",
    "        eval_metric='rmse',\n",
    "        callbacks=[early_stopping(stopping_rounds=50), log_evaluation(period=100)]\n",
    "    )\n",
    "    lgbm_oof[val_idx] = lgbm.predict(X_va_lgb, num_iteration=lgbm.best_iteration_)\n",
    "    lgbm_test_pred += lgbm.predict(X_test[FEATURES_LGB], num_iteration=lgbm.best_iteration_) / kf.n_splits\n",
    "\n",
    "    # ---------------------------\n",
    "    # XGBoost\n",
    "    # ---------------------------\n",
    "    xgb_model = XGBRegressor(\n",
    "        n_estimators=10000,\n",
    "        learning_rate=0.03,\n",
    "        max_depth=8,\n",
    "        min_child_weight=5,\n",
    "        subsample=0.8,\n",
    "        colsample_bytree=0.8,\n",
    "        reg_alpha=0,\n",
    "        reg_lambda=1,\n",
    "        gamma=1,\n",
    "        tree_method='hist',\n",
    "        random_state=42,\n",
    "        n_jobs=-1,\n",
    "        early_stopping_rounds=50,\n",
    "        eval_metric='rmse'\n",
    "    )\n",
    "    xgb_model.fit(\n",
    "        X_tr_xgb, y_tr,\n",
    "        eval_set=[(X_va_xgb, y_va)],\n",
    "        verbose=False\n",
    "    )\n",
    "    xgb_oof[val_idx] = xgb_model.predict(X_va_xgb)\n",
    "    xgb_test_pred += xgb_model.predict(X_test[FEATURES_XGB]) / kf.n_splits\n",
    "\n",
    "# 3. log -> 원값 변환 후 RMSE 계산\n",
    "rf_oof_orig = np.expm1(rf_oof)\n",
    "lgbm_oof_orig = np.expm1(lgbm_oof)\n",
    "xgb_oof_orig = np.expm1(xgb_oof)\n",
    "y_train_orig = np.expm1(y_train)\n",
    "\n",
    "rmse_rf = np.sqrt(mean_squared_error(y_train_orig, rf_oof_orig))\n",
    "rmse_lgbm = np.sqrt(mean_squared_error(y_train_orig, lgbm_oof_orig))\n",
    "rmse_xgb = np.sqrt(mean_squared_error(y_train_orig, xgb_oof_orig))\n",
    "\n",
    "print(f\"RF RMSE: {rmse_rf:.2f}\")\n",
    "print(f\"LGBM RMSE: {rmse_lgbm:.2f}\")\n",
    "print(f\"XGB RMSE: {rmse_xgb:.2f}\")\n",
    "\n",
    "# 4. 앙상블 가중치 (1/RMSE 기준)\n",
    "inv = np.array([1/rmse_rf, 1/rmse_lgbm, 1/rmse_xgb])\n",
    "weights = inv / inv.sum()\n",
    "print(\"앙상블 가중치:\", weights)\n",
    "\n",
    "ensemble_oof = (\n",
    "    weights[0]*rf_oof_orig +\n",
    "    weights[1]*lgbm_oof_orig +\n",
    "    weights[2]*xgb_oof_orig\n",
    ")\n",
    "rmse_ensemble = np.sqrt(mean_squared_error(y_train_orig, ensemble_oof))\n",
    "print(\"앙상블 RMSE:\", rmse_ensemble)\n",
    "\n",
    "# 5. 최종 test 예측\n",
    "rf_test_orig = np.expm1(rf_test_pred)\n",
    "lgbm_test_orig = np.expm1(lgbm_test_pred)\n",
    "xgb_test_orig = np.expm1(xgb_test_pred)\n",
    "\n",
    "y_pred = (\n",
    "    weights[0]*rf_test_orig +\n",
    "    weights[1]*lgbm_test_orig +\n",
    "    weights[2]*xgb_test_orig\n",
    ")"
   ]
  },
  {
   "cell_type": "markdown",
   "id": "507fd8e5-0f9a-4177-ac91-7ea4901ff115",
   "metadata": {},
   "source": [
    "### 단일 모델 제출"
   ]
  },
  {
   "cell_type": "code",
   "execution_count": null,
   "id": "9fd16f4b-b776-4cfc-bfa7-57cffd9d520c",
   "metadata": {},
   "outputs": [],
   "source": [
    "# 단일 모델 학습 결과\n",
    "y_test_pred_rf"
   ]
  },
  {
   "cell_type": "code",
   "execution_count": null,
   "id": "a612cfeb-5aa8-4416-84db-450e1d5f0f85",
   "metadata": {},
   "outputs": [],
   "source": [
    "y_test_pred_lgbm"
   ]
  },
  {
   "cell_type": "code",
   "execution_count": null,
   "id": "3e1a1553-7c76-4447-8311-1a1c54115bee",
   "metadata": {},
   "outputs": [],
   "source": [
    "y_test_pred_xgb"
   ]
  },
  {
   "cell_type": "code",
   "execution_count": null,
   "id": "fd22ed66-f21e-4163-ac1f-51425f5a0491",
   "metadata": {},
   "outputs": [],
   "source": [
    "# 원래 스케일로 변환\n",
    "y_test_pred = np.expm1(y_test_pred_lgbm)\n",
    "y_test_pred"
   ]
  },
  {
   "cell_type": "code",
   "execution_count": null,
   "id": "82b41f6c-5f32-477c-8df4-c2b3440f736c",
   "metadata": {},
   "outputs": [],
   "source": [
    "# submission에 맞춰서 타입 변경\n",
    "submission = pd.DataFrame(y_test_pred, columns=['target'])\n",
    "submission['target'] = round(submission['target'])\n",
    "submission['target'] = submission['target'].astype('int')"
   ]
  },
  {
   "cell_type": "code",
   "execution_count": null,
   "id": "0b790f6b-fb0e-432e-b434-4132df0dfc50",
   "metadata": {},
   "outputs": [],
   "source": [
    "# 제출 csv 생성\n",
    "submission.to_csv('submission_lgbm_250911.csv', index=False)"
   ]
  },
  {
   "cell_type": "markdown",
   "id": "9e1631e0-5ac3-476f-84de-546084cb1976",
   "metadata": {},
   "source": [
    "### 앙상블 모델 제출"
   ]
  },
  {
   "cell_type": "code",
   "execution_count": null,
   "id": "37711185-4aa7-4702-b40a-65a3a813ac78",
   "metadata": {},
   "outputs": [],
   "source": [
    "# 앙상블 모델 학습 결과\n",
    "ensemble_pred"
   ]
  },
  {
   "cell_type": "code",
   "execution_count": null,
   "id": "e6831273-917b-4c0e-b2bc-c22ec7858583",
   "metadata": {},
   "outputs": [],
   "source": [
    "# submission에 맞춰서 타입 변경\n",
    "submission = pd.DataFrame(ensemble_pred, columns=['target'])\n",
    "submission['target'] = round(submission['target'])\n",
    "submission['target'] = submission['target'].astype('int')"
   ]
  },
  {
   "cell_type": "code",
   "execution_count": null,
   "id": "b5064af6-1100-4e02-9126-fe6220c29268",
   "metadata": {},
   "outputs": [],
   "source": [
    "# 제출 csv 생성\n",
    "submission.to_csv('submission_en_250911.csv', index=False)"
   ]
  },
  {
   "cell_type": "code",
   "execution_count": null,
   "id": "4f237e3a-57b9-4b23-b709-025646afa2c6",
   "metadata": {},
   "outputs": [],
   "source": []
  }
 ],
 "metadata": {
  "kernelspec": {
   "display_name": "ML_project",
   "language": "python",
   "name": "ml_project"
  },
  "language_info": {
   "codemirror_mode": {
    "name": "ipython",
    "version": 3
   },
   "file_extension": ".py",
   "mimetype": "text/x-python",
   "name": "python",
   "nbconvert_exporter": "python",
   "pygments_lexer": "ipython3",
   "version": "3.11.9"
  }
 },
 "nbformat": 4,
 "nbformat_minor": 5
}
