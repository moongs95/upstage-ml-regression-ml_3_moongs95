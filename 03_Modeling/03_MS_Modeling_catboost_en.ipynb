{
 "cells": [
  {
   "cell_type": "code",
   "execution_count": 2,
   "id": "940d8180-344b-471a-b6f4-6cfbf74ee332",
   "metadata": {},
   "outputs": [
    {
     "name": "stderr",
     "output_type": "stream",
     "text": [
      "/usr/local/lib/python3.8/dist-packages/xgboost/core.py:265: FutureWarning: Your system has an old version of glibc (< 2.28). We will stop supporting Linux distros with glibc older than 2.28 after **May 31, 2025**. Please upgrade to a recent Linux distro (with glibc 2.28+) to use future versions of XGBoost.\n",
      "Note: You have installed the 'manylinux2014' variant of XGBoost. Certain features such as GPU algorithms or federated learning are not available. To use these features, please upgrade to a recent Linux distro with glibc 2.28+, and install the 'manylinux_2_28' variant.\n",
      "  warnings.warn(\n"
     ]
    }
   ],
   "source": [
    "#!pip install catboost\n",
    "from catboost import CatBoostRegressor\n",
    "from xgboost import XGBRegressor\n",
    "from lightgbm import LGBMRegressor\n",
    "from sklearn.model_selection import train_test_split\n",
    "from sklearn.metrics import mean_squared_error\n",
    "import numpy as np\n",
    "import pandas as pd\n",
    "from sklearn.preprocessing import LabelEncoder\n",
    "\n",
    "# CSV 파일 읽기\n",
    "train = pd.read_csv('train_for_eda.csv')\n",
    "test = pd.read_csv('test_for_eda(notnull).csv')\n",
    "\n",
    "# 예를 들어 target 컬럼이 'target'이라고 가정\n",
    "X_train = train.drop(columns=['target'])\n",
    "y_train = train['target']\n",
    "X_test = test  # 테스트 데이터에는 타겟 값이 없다고 가정\n",
    "\n",
    "# 검증용 데이터 분리 (optional)\n",
    "from sklearn.model_selection import train_test_split\n",
    "X_train_sub, X_valid, y_train_sub, y_valid = train_test_split(X_train, y_train, test_size=0.2, random_state=42)\n"
   ]
  },
  {
   "cell_type": "code",
   "execution_count": 4,
   "id": "5954ff29-d633-4914-bf75-6d6fa0fbfce8",
   "metadata": {},
   "outputs": [
    {
     "data": {
      "text/plain": [
       "0         202306\n",
       "1         202301\n",
       "2         202302\n",
       "3         202304\n",
       "4         202304\n",
       "           ...  \n",
       "155918    202008\n",
       "155919    202001\n",
       "155920    202001\n",
       "155921    202003\n",
       "155922    202007\n",
       "Name: 계약년월, Length: 155923, dtype: int64"
      ]
     },
     "execution_count": 4,
     "metadata": {},
     "output_type": "execute_result"
    }
   ],
   "source": [
    "train['계약년월']"
   ]
  },
  {
   "cell_type": "code",
   "execution_count": 34,
   "id": "2c624661-c2bf-4435-9b46-b0b5448d0592",
   "metadata": {},
   "outputs": [
    {
     "name": "stdout",
     "output_type": "stream",
     "text": [
      "Index(['아파트명', '전용면적(㎡)', '계약년월', '계약일', '층', '건축년도', '구', '회사채금리', '매매가격지수',\n",
      "       '건설공사비지수', '버스정류장수', '지하철수', '강남권여부', '계약년', '계약월', '연식'],\n",
      "      dtype='object')\n",
      "Index(['아파트명', '전용면적(㎡)', '계약년월', '계약일', '층', '건축년도', '구', '회사채금리', '매매가격지수',\n",
      "       '건설공사비지수', '버스정류장수', '지하철수', '강남권여부', '계약년', '계약월', '연식'],\n",
      "      dtype='object')\n"
     ]
    }
   ],
   "source": [
    "print(X_train.columns)\n",
    "print(X_valid.columns)\n"
   ]
  },
  {
   "cell_type": "code",
   "execution_count": 35,
   "id": "39e16978-0d43-4418-af22-648656fd548d",
   "metadata": {},
   "outputs": [
    {
     "name": "stdout",
     "output_type": "stream",
     "text": [
      "0\n",
      "0\n"
     ]
    }
   ],
   "source": [
    "print(X_train['계약일'].isnull().sum())\n",
    "print(X_valid['계약일'].isnull().sum())"
   ]
  },
  {
   "cell_type": "code",
   "execution_count": 36,
   "id": "06d1e2b9-2f33-41d2-a257-ce8e55992f54",
   "metadata": {},
   "outputs": [
    {
     "name": "stdout",
     "output_type": "stream",
     "text": [
      "int64\n",
      "int64\n"
     ]
    }
   ],
   "source": [
    "print(X_train['계약일'].dtype)\n",
    "print(X_valid['계약일'].dtype)"
   ]
  },
  {
   "cell_type": "code",
   "execution_count": 37,
   "id": "b74b8376-0023-4570-b605-cdfd19b428cf",
   "metadata": {},
   "outputs": [
    {
     "name": "stdout",
     "output_type": "stream",
     "text": [
      "Train data shape: (155923, 16) (155923,)\n",
      "Valid data shape: (31185, 16) (31185,)\n",
      "Train columns: ['아파트명', '전용면적(㎡)', '계약년월', '계약일', '층', '건축년도', '구', '회사채금리', '매매가격지수', '건설공사비지수', '버스정류장수', '지하철수', '강남권여부', '계약년', '계약월', '연식']\n",
      "Valid columns: ['아파트명', '전용면적(㎡)', '계약년월', '계약일', '층', '건축년도', '구', '회사채금리', '매매가격지수', '건설공사비지수', '버스정류장수', '지하철수', '강남권여부', '계약년', '계약월', '연식']\n",
      "0:\tlearn: 64686.8400991\ttest: 64122.9678313\tbest: 64122.9678313 (0)\ttotal: 23ms\tremaining: 23s\n",
      "100:\tlearn: 23760.9438226\ttest: 22268.5805783\tbest: 22268.5805783 (100)\ttotal: 1.72s\tremaining: 15.3s\n",
      "200:\tlearn: 20158.9577821\ttest: 18804.8392046\tbest: 18804.8392046 (200)\ttotal: 3.41s\tremaining: 13.6s\n",
      "300:\tlearn: 18288.7264748\ttest: 17010.3726117\tbest: 17010.3726117 (300)\ttotal: 5.16s\tremaining: 12s\n",
      "400:\tlearn: 17082.5888240\ttest: 15906.5676174\tbest: 15906.5676174 (400)\ttotal: 6.93s\tremaining: 10.4s\n",
      "500:\tlearn: 16184.0206308\ttest: 15063.3126220\tbest: 15063.3126220 (500)\ttotal: 8.61s\tremaining: 8.58s\n",
      "600:\tlearn: 15547.4315248\ttest: 14494.5596061\tbest: 14494.5596061 (600)\ttotal: 10.3s\tremaining: 6.85s\n",
      "700:\tlearn: 14996.1726612\ttest: 13997.8494042\tbest: 13997.8494042 (700)\ttotal: 12.1s\tremaining: 5.14s\n",
      "800:\tlearn: 14553.6994481\ttest: 13599.9676731\tbest: 13599.9676731 (800)\ttotal: 13.8s\tremaining: 3.44s\n",
      "900:\tlearn: 14129.2990987\ttest: 13197.7766784\tbest: 13197.7766784 (900)\ttotal: 15.6s\tremaining: 1.72s\n",
      "999:\tlearn: 13804.9077493\ttest: 12919.5851305\tbest: 12919.5851305 (999)\ttotal: 17.4s\tremaining: 0us\n",
      "\n",
      "bestTest = 12919.58513\n",
      "bestIteration = 999\n",
      "\n"
     ]
    },
    {
     "data": {
      "text/plain": [
       "<catboost.core.CatBoostRegressor at 0x7fb3319634c0>"
      ]
     },
     "execution_count": 37,
     "metadata": {},
     "output_type": "execute_result"
    }
   ],
   "source": [
    "from catboost import Pool, CatBoostRegressor\n",
    "\n",
    "cat_features = ['아파트명', '구', '층']  # 범주형 지정\n",
    "\n",
    "print(\"Train data shape:\", X_train.shape, y_train.shape)\n",
    "print(\"Valid data shape:\", X_valid.shape, y_valid.shape)\n",
    "\n",
    "print(\"Train columns:\", list(X_train.columns))\n",
    "print(\"Valid columns:\", list(X_valid.columns))\n",
    "\n",
    "train_pool = Pool(X_train, y_train, cat_features=cat_features)\n",
    "valid_pool = Pool(X_valid, y_valid, cat_features=cat_features)\n",
    "\n",
    "cat_model = CatBoostRegressor(iterations=1000, learning_rate=0.1, depth=6, loss_function='RMSE', verbose=100)\n",
    "\n",
    "cat_model.fit(train_pool, eval_set=valid_pool, early_stopping_rounds=50)"
   ]
  },
  {
   "cell_type": "code",
   "execution_count": 51,
   "id": "b0e22bdd-db6c-41dc-b6b0-14fe1292fefa",
   "metadata": {},
   "outputs": [
    {
     "name": "stdout",
     "output_type": "stream",
     "text": [
      "0:\tlearn: 64686.8400991\ttest: 64122.9678313\tbest: 64122.9678313 (0)\ttotal: 21.5ms\tremaining: 21.5s\n",
      "100:\tlearn: 23760.9438226\ttest: 22268.5805783\tbest: 22268.5805783 (100)\ttotal: 1.72s\tremaining: 15.3s\n",
      "200:\tlearn: 20158.9577821\ttest: 18804.8392046\tbest: 18804.8392046 (200)\ttotal: 3.43s\tremaining: 13.7s\n",
      "300:\tlearn: 18288.7264748\ttest: 17010.3726117\tbest: 17010.3726117 (300)\ttotal: 5.23s\tremaining: 12.1s\n",
      "400:\tlearn: 17082.5888240\ttest: 15906.5676174\tbest: 15906.5676174 (400)\ttotal: 7.01s\tremaining: 10.5s\n",
      "500:\tlearn: 16184.0206308\ttest: 15063.3126220\tbest: 15063.3126220 (500)\ttotal: 8.73s\tremaining: 8.7s\n",
      "600:\tlearn: 15547.4315248\ttest: 14494.5596061\tbest: 14494.5596061 (600)\ttotal: 10.4s\tremaining: 6.93s\n",
      "700:\tlearn: 14996.1726612\ttest: 13997.8494042\tbest: 13997.8494042 (700)\ttotal: 12.2s\tremaining: 5.21s\n",
      "800:\tlearn: 14553.6994481\ttest: 13599.9676731\tbest: 13599.9676731 (800)\ttotal: 14s\tremaining: 3.48s\n",
      "900:\tlearn: 14129.2990987\ttest: 13197.7766784\tbest: 13197.7766784 (900)\ttotal: 15.8s\tremaining: 1.74s\n",
      "999:\tlearn: 13804.9077493\ttest: 12919.5851305\tbest: 12919.5851305 (999)\ttotal: 17.6s\tremaining: 0us\n",
      "\n",
      "bestTest = 12919.58513\n",
      "bestIteration = 999\n",
      "\n",
      "Validation RMSE: 12919.585130508332\n"
     ]
    }
   ],
   "source": [
    "X_train_sub, X_valid, y_train_sub, y_valid = train_test_split(X_train, y_train, test_size=0.2, random_state=42)\n",
    "\n",
    "cat_features = ['아파트명', '구', '층']\n",
    "\n",
    "train_pool = Pool(X_train, y_train, cat_features=cat_features)\n",
    "valid_pool = Pool(X_valid, y_valid, cat_features=cat_features)\n",
    "\n",
    "model = CatBoostRegressor(iterations=1000, learning_rate=0.1, loss_function='RMSE', verbose=100)\n",
    "\n",
    "model.fit(train_pool, eval_set=valid_pool, early_stopping_rounds=50)\n",
    "\n",
    "preds = model.predict(valid_pool)\n",
    "rmse = np.sqrt(mean_squared_error(y_valid, preds))\n",
    "print(\"Validation RMSE:\", rmse)\n",
    "\n",
    "# 반올림하여 정수로 변환\n",
    "preds_int = np.round(preds).astype(int)\n",
    "\n",
    "# submission에 정수로 저장\n",
    "submission = pd.DataFrame({\n",
    "    'target': preds_int\n",
    "})\n",
    "\n",
    "submission.to_csv('submission_add_yongsan.csv', index=False)\n"
   ]
  }
 ],
 "metadata": {
  "kernelspec": {
   "display_name": "Python 3 (ipykernel)",
   "language": "python",
   "name": "python3"
  },
  "language_info": {
   "codemirror_mode": {
    "name": "ipython",
    "version": 3
   },
   "file_extension": ".py",
   "mimetype": "text/x-python",
   "name": "python",
   "nbconvert_exporter": "python",
   "pygments_lexer": "ipython3",
   "version": "3.8.10"
  }
 },
 "nbformat": 4,
 "nbformat_minor": 5
}
