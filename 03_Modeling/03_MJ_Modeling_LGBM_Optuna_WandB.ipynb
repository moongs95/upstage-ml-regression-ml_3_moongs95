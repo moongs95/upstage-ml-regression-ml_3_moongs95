{
 "cells": [
  {
   "cell_type": "code",
   "execution_count": null,
   "id": "d2d455a3-3dea-486d-97ed-6d0c47d1f294",
   "metadata": {},
   "outputs": [],
   "source": [
    "import pandas as pd\n",
    "import numpy as np\n",
    "import matplotlib.pyplot as plt\n",
    "import seaborn as sns\n",
    "from tqdm import tqdm\n",
    "import optuna\n",
    "import wandb\n",
    "from optuna.integration import LightGBMPruningCallback\n",
    "\n",
    "from sklearn.feature_selection import RFE\n",
    "from scipy.stats import chi2_contingency, spearmanr\n",
    "from sklearn.preprocessing import MinMaxScaler\n",
    "from sklearn.preprocessing import StandardScaler\n",
    "from sklearn.preprocessing import LabelEncoder\n",
    "\n",
    "from sklearn.model_selection import train_test_split\n",
    "from lightgbm import LGBMRegressor, early_stopping, log_evaluation\n",
    "import lightgbm\n",
    "from sklearn.metrics import mean_squared_error\n",
    "\n",
    "import time\n",
    "import warnings\n",
    "warnings.filterwarnings('ignore')"
   ]
  },
  {
   "cell_type": "code",
   "execution_count": null,
   "id": "d916acbe-881c-4f32-86cf-86cd7b8d5d24",
   "metadata": {},
   "outputs": [],
   "source": [
    "plt.rcParams['font.family'] ='NanumGothic'\n",
    "plt.rcParams['axes.unicode_minus'] =False"
   ]
  },
  {
   "cell_type": "code",
   "execution_count": null,
   "id": "1fc89ce3-23fd-4ed9-b2d8-e87dc497d922",
   "metadata": {},
   "outputs": [],
   "source": [
    "# 데이터 로드\n",
    "train = pd.read_csv('train_2020.csv', encoding='utf-8')\n",
    "test = pd.read_csv('test_2020.csv', encoding='utf-8')"
   ]
  },
  {
   "cell_type": "markdown",
   "id": "f7c0bf29-674e-450c-8b02-7ffb0b80d6dd",
   "metadata": {},
   "source": [
    "### 변수 선택 기법"
   ]
  },
  {
   "cell_type": "markdown",
   "id": "1f4ddbab-d51a-4692-a445-a485653bcc05",
   "metadata": {},
   "source": [
    "##### 1. 도메인 기반 필요없는 열 제거\n",
    "##### 2. 범주형: 카이제곱 기반/수치형: 스피어만 기반 p-value 0.05이하\n",
    "##### 3. 모델 학습 시 embedded 방식(RandomForest만)"
   ]
  },
  {
   "cell_type": "code",
   "execution_count": null,
   "id": "6f8ba727-1889-4853-a11c-814a4e2caa98",
   "metadata": {},
   "outputs": [],
   "source": [
    "# df: 데이터프레임, target: 종속변수\n",
    "target_col = 'target'\n",
    "\n",
    "# 변수 타입 구분\n",
    "categorical_cols = train.select_dtypes(include=['object', 'category']).columns.tolist()\n",
    "numeric_cols = train.select_dtypes(include=['int64', 'float64']).columns.tolist()\n",
    "numeric_cols = [col for col in numeric_cols if col != target_col]\n",
    "\n",
    "# 1. 범주형 변수: 카이제곱 검정\n",
    "selected_categorical = []\n",
    "for col in categorical_cols:\n",
    "    contingency_table = pd.crosstab(train[col], train[target_col])\n",
    "    chi2, p, dof, expected = chi2_contingency(contingency_table)\n",
    "    if p <= 0.05:\n",
    "        selected_categorical.append(col)\n",
    "\n",
    "# 2. 수치형 변수: 스피어만 상관 + p-value\n",
    "selected_numeric = []\n",
    "for col in numeric_cols:\n",
    "    corr, p = spearmanr(train[col], train[target_col])\n",
    "    if p <= 0.05:\n",
    "        selected_numeric.append(col)\n",
    "\n",
    "# 결과 출력\n",
    "print(\"p-value <= 0.05인 범주형 변수:\", selected_categorical)\n",
    "print(\"p-value <= 0.05인 수치형 변수:\", selected_numeric)"
   ]
  },
  {
   "cell_type": "code",
   "execution_count": null,
   "id": "04f0c967-bfbd-4357-9eac-17297408a3f1",
   "metadata": {},
   "outputs": [],
   "source": [
    "for col in train.columns:\n",
    "    if col not in selected_categorical + selected_numeric + ['target']:\n",
    "        print(col)"
   ]
  },
  {
   "cell_type": "code",
   "execution_count": null,
   "id": "bf3965e2-3c37-4afb-85fe-4687211f08d8",
   "metadata": {},
   "outputs": [],
   "source": [
    "# 변수 선택 1차\n",
    "def drop_dup_cols(df):\n",
    "    df = df.drop(['재건축 연한(30년 이상)', 'zone4_강남3', 'zone4_내부권', 'zone4_도심', 'zone4_외곽'], axis=1)\n",
    "    return df"
   ]
  },
  {
   "cell_type": "code",
   "execution_count": null,
   "id": "cb79f3cf-7589-4238-8f5c-fbc5a30bdb70",
   "metadata": {},
   "outputs": [],
   "source": [
    "train = drop_dup_cols(train)\n",
    "test = drop_dup_cols(test)"
   ]
  },
  {
   "cell_type": "code",
   "execution_count": null,
   "id": "3ca2f40f-7671-445e-8077-9d50aa5ee8d5",
   "metadata": {},
   "outputs": [],
   "source": [
    "# 데이터 확인하기"
   ]
  },
  {
   "cell_type": "code",
   "execution_count": null,
   "id": "388007a8-6140-454f-8d87-da323f5bb430",
   "metadata": {
    "scrolled": true
   },
   "outputs": [],
   "source": [
    "train.info()"
   ]
  },
  {
   "cell_type": "code",
   "execution_count": null,
   "id": "4b621492-43a1-4e8f-aaa1-312758b68f98",
   "metadata": {
    "scrolled": true
   },
   "outputs": [],
   "source": [
    "test.info()"
   ]
  },
  {
   "cell_type": "code",
   "execution_count": null,
   "id": "bf7d9f0c-2739-4fd0-8554-ca6efdd0f063",
   "metadata": {},
   "outputs": [],
   "source": [
    "# 기존 데이터 copy\n",
    "train_origin = train.copy()\n",
    "test_origin = test.copy()"
   ]
  },
  {
   "cell_type": "code",
   "execution_count": null,
   "id": "6fc79fe9-879f-4dfe-85c2-460f8e7ac9c5",
   "metadata": {},
   "outputs": [],
   "source": [
    "# 범주형 변수 인코딩\n",
    "# 1. 범주형 컬럼 선택\n",
    "cat_cols = train.select_dtypes(include=['object', 'category']).columns\n",
    "\n",
    "# 2. train 기준 LabelEncoder 학습\n",
    "le_dict = {}\n",
    "for col in cat_cols:\n",
    "    le = LabelEncoder()\n",
    "    train[col] = le.fit_transform(train[col].astype(str))  # train만 학습\n",
    "    le_dict[col] = le  # 나중에 val/test 변환용 저장\n",
    "\n",
    "# 3. val/test 변환\n",
    "for col in cat_cols:\n",
    "    le = le_dict[col]\n",
    "    test[col] = test[col].map(lambda x: le.transform([x])[0] if x in le.classes_ else -1)"
   ]
  },
  {
   "cell_type": "code",
   "execution_count": null,
   "id": "7337b984-dbbb-47d6-8564-7960792e1408",
   "metadata": {},
   "outputs": [],
   "source": [
    "# train target 분류\n",
    "train_x = train[train.columns[train.columns != 'target']]\n",
    "train_y = train['target']\n",
    "\n",
    "X_test = test.copy()\n",
    "\n",
    "# target 로그 변환\n",
    "train_y = np.log1p(train_y)"
   ]
  },
  {
   "cell_type": "code",
   "execution_count": null,
   "id": "0ef84379-8ae8-4460-9eed-8b286ba42681",
   "metadata": {},
   "outputs": [],
   "source": [
    "# train/validation 분할(RMSE 성능 보기 및 앙상블)\n",
    "X_train, X_val, y_train, y_val = train_test_split(train_x, train_y, test_size=0.2, random_state=42, shuffle=True)\n",
    "\n",
    "print(\"Train shape:\", X_train.shape, y_train.shape)\n",
    "print(\"Validation shape:\", X_val.shape, y_val.shape)\n",
    "print(\"test shape:\", X_test.shape)\n",
    "\n",
    "# validation y 로그 변환\n",
    "y_val = np.expm1(y_val)\n",
    "print(y_val.head())"
   ]
  },
  {
   "cell_type": "markdown",
   "id": "39f578c4-2cfd-4795-9885-43042a77e258",
   "metadata": {},
   "source": [
    "### LGBM"
   ]
  },
  {
   "cell_type": "code",
   "execution_count": null,
   "id": "f0b8adf4-2b95-45a4-8458-dda851bebe5c",
   "metadata": {},
   "outputs": [],
   "source": [
    "# featrue importance 기반 변수 선택\n",
    "# '아파트명_target_max', '계약년', '신축(10년 미만)', '전용면적구간_target_min', '전용면적구간_target_mean',(11731.6638),\n",
    "# '아파트명_target_sum'(12283.6815),\n",
    "# '아파트명_target_min'(11534.8368)\n",
    "# '대장아파트거리접근성'(11422.5563)\n",
    "#-------------------------------------------\n",
    "# '우수학군'(11522.7932)\n",
    "# '강남권여부'(11512.8323)\n",
    "# '프리미엄아파트' (11525.6730)\n",
    "# '지하철접근성'(11586.5634)\n",
    "use_cols_lgbm = ['구', '전용면적(㎡)', '계약년월', '층', '건축년도', '회사채금리', '매매가격지수', '건설공사비지수',\n",
    "       '버스정류장수', '지하철수', '연식', 'x좌표', 'y좌표', '아파트명', '계약월',\n",
    "       '전용면적(log)', '전용면적구간', '평수', 'zone4',\n",
    "       '대장아파트거리', '대장아파트거리(log)', '버스거리', '지하철거리', '1km이내지하철수',\n",
    "       '1km이내학교수', '초등학교거리', '초등학교거리구분', '고등학교진학률',\n",
    "       'elite_min_dist_km', 'elite_cnt_1.5k', 'elite_cnt_2.0k', '계약년월가중치',\n",
    "       '구_target_mean', '구_target_sum', '구_target_max', '구_target_min',\n",
    "       '구_target_count', '전용면적구간_target_sum', '지하철접근성',\n",
    "       '전용면적구간_target_max', '전용면적구간_target_count',\n",
    "       '아파트명_target_mean', '아파트명_target_count', '우수학군', '강남권여부', '프리미엄아파트']"
   ]
  },
  {
   "cell_type": "code",
   "execution_count": null,
   "id": "6b0a50d3-008c-4a49-ad1b-7b927ea3815a",
   "metadata": {
    "scrolled": true
   },
   "outputs": [],
   "source": [
    "# LGBM 모델 정의\n",
    "lgbm = LGBMRegressor(\n",
    "    n_estimators=15000,        # 충분히 크게 두고 early stopping으로 조기 중단\n",
    "    learning_rate=0.05,        # 너무 크지 않게\n",
    "    max_depth=10,              # 트리 깊이 제한\n",
    "    num_leaves=31,             # 기본값보다 크게 잡으면 과적합 ↑ → 적당히 제한\n",
    "    min_child_samples=50,      # 리프에 최소 샘플 수 → 크게 잡으면 과적합 ↓\n",
    "    feature_fraction=0.8,      # 피처 중 일부만 사용 → 랜덤성 ↑\n",
    "    bagging_fraction=0.8,      # 데이터 샘플링 → 랜덤성 ↑\n",
    "    bagging_freq=5,            # 5회마다 샘플링\n",
    "    lambda_l1=1.0,             # L1 정규화\n",
    "    lambda_l2=1.0,             # L2 정규화\n",
    "    random_state=42,\n",
    "    n_jobs=-1\n",
    ")\n",
    "\n",
    "# 학습 시작 시간 기록\n",
    "start_time = time.time()\n",
    "\n",
    "lgbm.fit(\n",
    "    X_train[use_cols_lgbm], y_train,\n",
    "    eval_set=[(X_val[use_cols_lgbm], y_val)],\n",
    "    # eval_set=[(X_train, y_train)],\n",
    "    eval_metric=\"rmse\",\n",
    "    callbacks=[early_stopping(stopping_rounds=50, verbose=True), log_evaluation(period=100)]\n",
    ")\n",
    "\n",
    "# 학습 종료 시간 기록\n",
    "end_time = time.time()\n",
    "training_time = end_time - start_time\n",
    "print(f\"LGBM 학습 시간: {training_time:.2f} 초\")\n",
    "\n",
    "# Validation RMSE(RMSE 성능보기)\n",
    "y_val_pred_log = lgbm.predict(X_val[use_cols_lgbm])\n",
    "y_val_pred = np.expm1(y_val_pred_log)\n",
    "\n",
    "val_rmse = np.sqrt(mean_squared_error(y_val, y_val_pred))\n",
    "print(f\"Validation RMSE: {val_rmse:.4f}\")\n",
    "\n",
    "# Test 예측(제출시)\n",
    "y_test_pred_lgbm = lgbm.predict(X_test[use_cols_lgbm])"
   ]
  },
  {
   "cell_type": "code",
   "execution_count": null,
   "id": "7bd62f72-c451-4a24-9ac3-6f188b15d17f",
   "metadata": {},
   "outputs": [],
   "source": [
    "# LGBM feature importance\n",
    "lgbm_importance = pd.DataFrame({\n",
    "    'feature': X_train[use_cols_lgbm].columns,\n",
    "    'importance': lgbm.feature_importances_\n",
    "}).sort_values(by='importance', ascending=False)"
   ]
  },
  {
   "cell_type": "code",
   "execution_count": null,
   "id": "5f48b2fa-7edd-4f7b-9da3-61869d475565",
   "metadata": {},
   "outputs": [],
   "source": [
    "plt.figure(figsize=(10,8))\n",
    "sns.barplot(x='importance', y='feature', data=lgbm_importance)\n",
    "plt.title(\"Top Feature Importance (LGBM)\")\n",
    "plt.show()"
   ]
  },
  {
   "cell_type": "markdown",
   "id": "2b2cad26-b4a4-444b-a22f-0ad119b20b2b",
   "metadata": {},
   "source": [
    "### LGBM + Optuna + WandB"
   ]
  },
  {
   "cell_type": "code",
   "execution_count": null,
   "id": "2ca5f1b4-8908-4dd7-b52d-4ab2ecdd1e4f",
   "metadata": {
    "scrolled": true
   },
   "outputs": [],
   "source": [
    "# W&B 초기화\n",
    "wandb.init(project=\"lgbm-optuna-project\", name=\"lgbm_optuna_run\")\n",
    "\n",
    "# Optuna 목적 함수\n",
    "def objective(trial):\n",
    "    params = {\n",
    "        \"n_estimators\": 10000,\n",
    "        \"learning_rate\": trial.suggest_float(\"learning_rate\", 0.01, 0.1, log=True),\n",
    "        \"max_depth\": trial.suggest_int(\"max_depth\", 5, 15),\n",
    "        \"num_leaves\": trial.suggest_int(\"num_leaves\", 20, 60),\n",
    "        \"min_child_samples\": trial.suggest_int(\"min_child_samples\", 20, 100),\n",
    "        \"feature_fraction\": trial.suggest_float(\"feature_fraction\", 0.6, 1.0),\n",
    "        \"bagging_fraction\": trial.suggest_float(\"bagging_fraction\", 0.6, 1.0),\n",
    "        \"bagging_freq\": trial.suggest_int(\"bagging_freq\", 1, 10),\n",
    "        \"lambda_l1\": trial.suggest_float(\"lambda_l1\", 0.0, 5.0),\n",
    "        \"lambda_l2\": trial.suggest_float(\"lambda_l2\", 0.0, 5.0),\n",
    "        \"random_state\": 42,\n",
    "        \"n_jobs\": -1,\n",
    "    }\n",
    "\n",
    "    # 모델 정의\n",
    "    model = LGBMRegressor(**params)\n",
    "\n",
    "    # 학습 시간 기록\n",
    "    start_time = time.time()\n",
    "    model.fit(\n",
    "        X_train[use_cols_lgbm], y_train,\n",
    "        eval_set=[(X_val[use_cols_lgbm], y_val)],\n",
    "        eval_metric=\"rmse\",\n",
    "        callbacks=[\n",
    "            early_stopping(stopping_rounds=50, verbose=False),\n",
    "            log_evaluation(period=100)\n",
    "        ]\n",
    "    )\n",
    "    training_time = time.time() - start_time\n",
    "\n",
    "    # Validation 성능\n",
    "    y_val_pred_log = model.predict(X_val[use_cols_lgbm])\n",
    "    y_val_pred = np.expm1(y_val_pred_log)  # log 변환 해제\n",
    "    val_rmse = np.sqrt(mean_squared_error(y_val, y_val_pred))\n",
    "\n",
    "    # W&B 로깅\n",
    "    wandb.log({\n",
    "        \"val_rmse\": val_rmse,\n",
    "        \"training_time\": training_time,\n",
    "        **params\n",
    "    })\n",
    "\n",
    "    return val_rmse\n",
    "\n",
    "# Optuna 실행 (tqdm 진행률)\n",
    "study = optuna.create_study(direction=\"minimize\")\n",
    "\n",
    "for _ in tqdm(range(30), desc=\"Optuna Trials\"):\n",
    "    study.optimize(objective, n_trials=1, catch=(Exception,))\n",
    "\n",
    "print(\"Best Trial:\")\n",
    "print(study.best_trial.params)\n",
    "\n",
    "wandb.finish()"
   ]
  },
  {
   "cell_type": "code",
   "execution_count": null,
   "id": "5cc2a039-d748-491b-808e-3092b321dfc6",
   "metadata": {},
   "outputs": [],
   "source": [
    "study.best_trial.params"
   ]
  },
  {
   "cell_type": "code",
   "execution_count": null,
   "id": "c4e6b083-dcb7-4179-ab06-f9b3cd7eb15d",
   "metadata": {},
   "outputs": [],
   "source": [
    "# 최적 파라미터 이용한 lgbm 학습\n",
    "params = {\n",
    "    'n_estimators' : 15000,\n",
    "    'learning_rate': 0.03,\n",
    "    'max_depth': 13,\n",
    "    'num_leaves': 57,\n",
    "    'min_child_samples': 96,\n",
    "    'feature_fraction': 0.8630312552909056,\n",
    "    'bagging_fraction': 0.8581096366183144,\n",
    "    'bagging_freq': 1,\n",
    "    'lambda_l1': 0.11103416306488273,\n",
    "    'lambda_l2': 3.129785458790951,\n",
    "    'random_state': 42,\n",
    "    'n_jobs': -1,\n",
    "    'verbosity': -1,\n",
    "    'force_col_wise': True\n",
    "}\n",
    "\n",
    "model = LGBMRegressor(**params)\n",
    "\n",
    "model.fit(\n",
    "    X_train[use_cols_lgbm], y_train,\n",
    "    eval_set=[(X_val[use_cols_lgbm], y_val)],\n",
    "    eval_metric='rmse',\n",
    "    callbacks=[early_stopping(100), log_evaluation(0)]\n",
    ")\n",
    "\n",
    "# Validation RMSE(RMSE 성능보기)\n",
    "y_pred = model.predict(X_val[use_cols_lgbm])\n",
    "val_rmse = np.sqrt(mean_squared_error(y_val, y_val_pred))\n",
    "print(f\"Validation RMSE: {val_rmse:.4f}\")\n",
    "\n",
    "# 필요시 post processing\n",
    "residual_mean = (y_val - y_val_pred).mean()\n",
    "print(\"val mean residual (y - pred):\", residual_mean)\n",
    "\n",
    "# Test 예측(제출시)\n",
    "y_test_pred_lgbm = lgbm.predict(X_test[use_cols_lgbm])"
   ]
  },
  {
   "cell_type": "markdown",
   "id": "507fd8e5-0f9a-4177-ac91-7ea4901ff115",
   "metadata": {},
   "source": [
    "### 단일 모델 제출"
   ]
  },
  {
   "cell_type": "code",
   "execution_count": null,
   "id": "9fd16f4b-b776-4cfc-bfa7-57cffd9d520c",
   "metadata": {},
   "outputs": [],
   "source": [
    "# 단일 모델 학습 결과\n",
    "y_test_pred_lgbm"
   ]
  },
  {
   "cell_type": "code",
   "execution_count": null,
   "id": "82b41f6c-5f32-477c-8df4-c2b3440f736c",
   "metadata": {},
   "outputs": [],
   "source": [
    "# submission에 맞춰서 타입 변경\n",
    "submission = pd.DataFrame(y_test_pred_lgbm, columns=['target'])\n",
    "submission['target'] = round(submission['target'])\n",
    "submission['target'] = submission['target'].astype('int')"
   ]
  },
  {
   "cell_type": "code",
   "execution_count": null,
   "id": "0b790f6b-fb0e-432e-b434-4132df0dfc50",
   "metadata": {},
   "outputs": [],
   "source": [
    "# 제출 csv 생성\n",
    "submission.to_csv('submission_lgbm_optuna_250911.csv', index=False)"
   ]
  }
 ],
 "metadata": {
  "kernelspec": {
   "display_name": "ML_project",
   "language": "python",
   "name": "ml_project"
  },
  "language_info": {
   "codemirror_mode": {
    "name": "ipython",
    "version": 3
   },
   "file_extension": ".py",
   "mimetype": "text/x-python",
   "name": "python",
   "nbconvert_exporter": "python",
   "pygments_lexer": "ipython3",
   "version": "3.11.9"
  }
 },
 "nbformat": 4,
 "nbformat_minor": 5
}
