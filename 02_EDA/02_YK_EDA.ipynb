{
 "cells": [
  {
   "cell_type": "code",
   "execution_count": 130,
   "id": "0960c85e-2476-4713-9079-cc80f950bcc0",
   "metadata": {},
   "outputs": [],
   "source": [
    "import pandas as pd\n",
    "import numpy as np\n",
    "\n",
    "import matplotlib.pyplot as plt\n",
    "import seaborn as sns\n",
    "\n",
    "# 한글 폰트 설정 (나눔고딕)\n",
    "plt.rcParams['font.family'] = 'NanumGothic'\n",
    "plt.rcParams['axes.unicode_minus'] = False"
   ]
  },
  {
   "cell_type": "code",
   "execution_count": 211,
   "id": "86465306-1f50-4f7a-9fcb-edd41d4729a6",
   "metadata": {},
   "outputs": [
    {
     "name": "stderr",
     "output_type": "stream",
     "text": [
      "/tmp/ipykernel_39433/1786353769.py:1: DtypeWarning: Columns (15,16,60,61,62,63) have mixed types. Specify dtype option on import or set low_memory=False.\n",
      "  train_origin = pd.read_csv('train.csv')\n"
     ]
    }
   ],
   "source": [
    "train_origin = pd.read_csv('train.csv')\n",
    "test_origin = pd.read_csv('test.csv')"
   ]
  },
  {
   "cell_type": "code",
   "execution_count": 212,
   "id": "1dba79fe-a38c-40a5-a8eb-bd33582b79b5",
   "metadata": {},
   "outputs": [],
   "source": [
    "# cols = [\n",
    "#     # 부동산 자체 특성 (건물·단지 속성)\n",
    "#     '전용면적(㎡)', '전용면적구간', '전용면적(log)', '건축년도', '연식',\n",
    "#     '계약년월', '주차대수', '브랜드명', '거래유형',\n",
    "\n",
    "#     # 입지/지역 특성\n",
    "#     '시군구', '구', 'x좌표', 'y좌표', '강남권여부', 'zone4_강남3',\n",
    "\n",
    "#     # 교통 접근성\n",
    "#     '버스거리', '지하철거리',\n",
    "\n",
    "#     # 학군/교육 환경\n",
    "#     '초등학교거리', '1km이내학교수', 'elite_min_dist_km',\n",
    "\n",
    "#     # 시장/시세 흐름 변수\n",
    "#     'target_prev6month', 'target_prev3month', '대장아파트거리'\n",
    "# ]\n",
    "\n",
    "# train = train_origin[cols + ['target']]\n",
    "# test = test_origin[cols]"
   ]
  },
  {
   "cell_type": "code",
   "execution_count": 299,
   "id": "105bdc38-57bc-415c-b59b-6a98ea9f7acb",
   "metadata": {},
   "outputs": [
    {
     "name": "stdout",
     "output_type": "stream",
     "text": [
      "train 변수 개수: 48\n",
      "test 변수 개수: 44\n",
      "===== train 변수 =====\n",
      "Index(['전용면적(㎡)', '전용면적구간', '전용면적(log)', '건축년도', '연식', '계약년월', '주차대수', '브랜드명',\n",
      "       '거래유형', '시군구', '구', 'x좌표', 'y좌표', '강남권여부', 'zone4_강남3', '버스거리', '지하철거리',\n",
      "       '초등학교거리', '1km이내학교수', 'elite_min_dist_km', 'target_prev6month',\n",
      "       'target_prev3month', '대장아파트거리', 'target', '전용면적구간_구간화', '주차대수_clipped',\n",
      "       '주차대수_log', '브랜드명_단순화', '버스거리_clipped', '버스거리_log', '계약연도', '계약월',\n",
      "       '계약월수', '계약월수_가중치', '지하철거리_clipped', '지하철거리_log', '초등학교거리_clipped',\n",
      "       '초등학교거리_log', 'elite_min_dist_km_clipped', 'elite_min_dist_km_log',\n",
      "       'target_clipped', 'target_log', 'target_prev6month_clipped',\n",
      "       'target_prev6month_log', 'target_prev3month_clipped',\n",
      "       'target_prev3month_log', '대장아파트거리_clipped', '대장아파트거리_log'],\n",
      "      dtype='object')\n",
      "===== test 변수 =====\n",
      "Index(['전용면적(㎡)', '전용면적구간', '전용면적(log)', '건축년도', '연식', '계약년월', '주차대수', '브랜드명',\n",
      "       '거래유형', '시군구', '구', 'x좌표', 'y좌표', '강남권여부', 'zone4_강남3', '버스거리', '지하철거리',\n",
      "       '초등학교거리', '1km이내학교수', 'elite_min_dist_km', 'target_prev6month',\n",
      "       'target_prev3month', '대장아파트거리', '전용면적구간_구간화', '주차대수_clipped',\n",
      "       '주차대수_log', '브랜드명_단순화', '버스거리_clipped', '버스거리_log', '계약연도', '계약월',\n",
      "       '계약월수', '지하철거리_clipped', '지하철거리_log', '초등학교거리_clipped', '초등학교거리_log',\n",
      "       'elite_min_dist_km_clipped', 'elite_min_dist_km_log',\n",
      "       'target_prev6month_clipped', 'target_prev6month_log',\n",
      "       'target_prev3month_clipped', 'target_prev3month_log', '대장아파트거리_clipped',\n",
      "       '대장아파트거리_log'],\n",
      "      dtype='object')\n"
     ]
    }
   ],
   "source": [
    "print(f'train 변수 개수: {train.columns.shape[0]}')\n",
    "print(f'test 변수 개수: {test.columns.shape[0]}')\n",
    "print('===== train 변수 =====')\n",
    "print(train.columns)\n",
    "print('===== test 변수 =====')\n",
    "print(test.columns)"
   ]
  },
  {
   "cell_type": "code",
   "execution_count": 289,
   "id": "7cd5f995-6ffd-4505-85e3-0b1ba6da2c4e",
   "metadata": {},
   "outputs": [
    {
     "name": "stdout",
     "output_type": "stream",
     "text": [
      "train 데이터 기간 : 201710 ~ 202306\n",
      "test 데이터 기간 : 202307 ~ 202309\n"
     ]
    }
   ],
   "source": [
    "print(f'train 데이터 기간 : {train[\"계약년월\"].min()} ~ {train[\"계약년월\"].max()}')\n",
    "print(f'test 데이터 기간 : {test[\"계약년월\"].min()} ~ {test[\"계약년월\"].max()}')"
   ]
  },
  {
   "cell_type": "code",
   "execution_count": 300,
   "id": "5e3c6274-352f-4814-bd9d-0be4ec748951",
   "metadata": {},
   "outputs": [
    {
     "name": "stdout",
     "output_type": "stream",
     "text": [
      "<대장아파트거리_log 정보>\n",
      "<class 'pandas.core.series.Series'>\n",
      "RangeIndex: 109938 entries, 0 to 109937\n",
      "Series name: 대장아파트거리_log\n",
      "Non-Null Count   Dtype  \n",
      "--------------   -----  \n",
      "109938 non-null  float64\n",
      "dtypes: float64(1)\n",
      "memory usage: 859.0 KB\n",
      "None\n",
      "==========================================================================================\n",
      "<대장아파트거리_log 결측치 개수>\n",
      "(109938, 48)\n",
      "0\n"
     ]
    }
   ],
   "source": [
    "col = '대장아파트거리_log'\n",
    "print(f'<{col} 정보>')\n",
    "print(train[col].info())\n",
    "print('==========================================================================================')\n",
    "print(f'<{col} 결측치 개수>')\n",
    "print(train.shape)\n",
    "print(train[col].isna().sum())"
   ]
  },
  {
   "cell_type": "code",
   "execution_count": 301,
   "id": "cdd0ca39-9855-4bc3-afaf-dd0ca0deda20",
   "metadata": {
    "scrolled": true
   },
   "outputs": [
    {
     "name": "stdout",
     "output_type": "stream",
     "text": [
      "<대장아파트거리_log 정보 요약>\n",
      "count    109938.000000\n",
      "mean          2.424618\n",
      "std           1.505494\n",
      "min           0.010927\n",
      "25%           1.286144\n",
      "50%           2.136712\n",
      "75%           3.335940\n",
      "max           7.436502\n",
      "Name: 대장아파트거리_log, dtype: float64\n",
      "==========================================================================================\n",
      "<대장아파트거리_log 결측치 개수>\n",
      "0\n"
     ]
    },
    {
     "data": {
      "text/plain": [
       "<Axes: ylabel='Frequency'>"
      ]
     },
     "execution_count": 301,
     "metadata": {},
     "output_type": "execute_result"
    },
    {
     "data": {
      "image/png": "[encoded data removed]",
      "text/plain": [
       "<Figure size 640x480 with 1 Axes>"
      ]
     },
     "metadata": {},
     "output_type": "display_data"
    }
   ],
   "source": [
    "# 수치형 변수 확인법\n",
    "print(f'<{col} 정보 요약>')\n",
    "print(train[col].describe())\n",
    "print('==========================================================================================')\n",
    "print(f'<{col} 결측치 개수>')\n",
    "print(train[col].isna().sum())\n",
    "train[col].plot(kind='hist', bins=50)"
   ]
  },
  {
   "cell_type": "code",
   "execution_count": 302,
   "id": "21f9caec-8b58-495f-aa20-11e18ebb014a",
   "metadata": {
    "scrolled": true
   },
   "outputs": [
    {
     "name": "stdout",
     "output_type": "stream",
     "text": [
      "<대장아파트거리_log 정보 요약>\n",
      "count    9272.000000\n",
      "mean        2.427880\n",
      "std         1.566256\n",
      "min         0.010927\n",
      "25%         1.251005\n",
      "50%         2.148277\n",
      "75%         3.341865\n",
      "max         7.436502\n",
      "Name: 대장아파트거리_log, dtype: float64\n",
      "==========================================================================================\n",
      "<대장아파트거리_log 결측치 개수>\n",
      "0\n"
     ]
    },
    {
     "data": {
      "text/plain": [
       "<Axes: ylabel='Frequency'>"
      ]
     },
     "execution_count": 302,
     "metadata": {},
     "output_type": "execute_result"
    },
    {
     "data": {
      "image/png": "[encoded data removed]",
      "text/plain": [
       "<Figure size 640x480 with 1 Axes>"
      ]
     },
     "metadata": {},
     "output_type": "display_data"
    }
   ],
   "source": [
    "# 수치형 변수 확인법\n",
    "print(f'<{col} 정보 요약>')\n",
    "print(test[col].describe())\n",
    "print('==========================================================================================')\n",
    "print(f'<{col} 결측치 개수>')\n",
    "print(test[col].isna().sum())\n",
    "test[col].plot(kind='hist', bins=50)"
   ]
  },
  {
   "cell_type": "code",
   "execution_count": 217,
   "id": "97f8737f-e93b-4340-ad65-fa5f16934c6f",
   "metadata": {},
   "outputs": [
    {
     "name": "stdout",
     "output_type": "stream",
     "text": [
      "<주차대수> 값의 개수\n",
      "586\n",
      "==========================================================================================\n",
      "950.0     4888\n",
      "1.0       4675\n",
      "460.0     3593\n",
      "819.0     3210\n",
      "0.0       2656\n",
      "          ... \n",
      "421.5        1\n",
      "867.5        1\n",
      "569.0        1\n",
      "657.0        1\n",
      "1170.5       1\n",
      "Name: 주차대수, Length: 586, dtype: int64\n"
     ]
    }
   ],
   "source": [
    "# 범주형 변수 확인법\n",
    "print(f'<{col}> 값의 개수')\n",
    "print(train[col].nunique())\n",
    "print('==========================================================================================')\n",
    "print(train[col].value_counts())"
   ]
  },
  {
   "cell_type": "code",
   "execution_count": 218,
   "id": "3640cf6f-40ba-40a1-b2f0-762ec3c442d3",
   "metadata": {},
   "outputs": [
    {
     "name": "stdout",
     "output_type": "stream",
     "text": [
      "<주차대수> 값의 개수\n",
      "501\n",
      "==========================================================================================\n",
      "459.0    506\n",
      "1.0      439\n",
      "819.0    369\n",
      "585.0    285\n",
      "950.0    266\n",
      "        ... \n",
      "385.0      1\n",
      "309.0      1\n",
      "472.0      1\n",
      "182.0      1\n",
      "262.0      1\n",
      "Name: 주차대수, Length: 501, dtype: int64\n"
     ]
    }
   ],
   "source": [
    "# 범주형 변수 확인법\n",
    "print(f'<{col}> 값의 개수')\n",
    "print(test[col].nunique())\n",
    "print('==========================================================================================')\n",
    "print(test[col].value_counts())"
   ]
  },
  {
   "cell_type": "code",
   "execution_count": 219,
   "id": "83ba266e-ac85-4bf3-a7d5-1163313b23e5",
   "metadata": {},
   "outputs": [
    {
     "name": "stderr",
     "output_type": "stream",
     "text": [
      "/tmp/ipykernel_39433/2087612911.py:12: SettingWithCopyWarning: \n",
      "A value is trying to be set on a copy of a slice from a DataFrame.\n",
      "Try using .loc[row_indexer,col_indexer] = value instead\n",
      "\n",
      "See the caveats in the documentation: https://pandas.pydata.org/pandas-docs/stable/user_guide/indexing.html#returning-a-view-versus-a-copy\n",
      "  test['전용면적(㎡)'] = test['전용면적(㎡)'].clip(upper=200)\n"
     ]
    }
   ],
   "source": [
    "# === 전용면적 ===\n",
    "\n",
    "# nan 값 drop\n",
    "train = train.dropna(subset=['전용면적(㎡)']).reset_index(drop=True)\n",
    "train[train['전용면적(㎡)'].isna()]\n",
    "\n",
    "# 이상치 처리 \n",
    "    # 전체 행 : 109,938개\n",
    "    # 전용면적이 250이상인 행 : 11개\n",
    "    # 250 이상 > 200으로 처리\n",
    "train['전용면적(㎡)'] = train['전용면적(㎡)'].clip(upper=200)\n",
    "test['전용면적(㎡)'] = test['전용면적(㎡)'].clip(upper=200)"
   ]
  },
  {
   "cell_type": "code",
   "execution_count": 220,
   "id": "e7143ab3-7396-48d7-9c96-ef1f26782293",
   "metadata": {},
   "outputs": [
    {
     "name": "stderr",
     "output_type": "stream",
     "text": [
      "/tmp/ipykernel_39433/1816047018.py:11: SettingWithCopyWarning: \n",
      "A value is trying to be set on a copy of a slice from a DataFrame.\n",
      "Try using .loc[row_indexer,col_indexer] = value instead\n",
      "\n",
      "See the caveats in the documentation: https://pandas.pydata.org/pandas-docs/stable/user_guide/indexing.html#returning-a-view-versus-a-copy\n",
      "  test['전용면적구간_구간화'] = test['전용면적구간'].map(order_map)\n"
     ]
    }
   ],
   "source": [
    "# === 전용면적구간 ===\n",
    "order_map = {\n",
    "    '59㎡미만': 0,\n",
    "    '약59㎡': 1,\n",
    "    '60㎡이상84㎡미만': 2,\n",
    "    '약84㎡': 3,\n",
    "    '85㎡이상': 4\n",
    "}\n",
    "\n",
    "train['전용면적구간_구간화'] = train['전용면적구간'].map(order_map)\n",
    "test['전용면적구간_구간화'] = test['전용면적구간'].map(order_map)"
   ]
  },
  {
   "cell_type": "code",
   "execution_count": 240,
   "id": "d57075b9-6407-4adb-8ea0-870388461598",
   "metadata": {},
   "outputs": [
    {
     "name": "stderr",
     "output_type": "stream",
     "text": [
      "/tmp/ipykernel_39433/1406592219.py:5: SettingWithCopyWarning: \n",
      "A value is trying to be set on a copy of a slice from a DataFrame.\n",
      "Try using .loc[row_indexer,col_indexer] = value instead\n",
      "\n",
      "See the caveats in the documentation: https://pandas.pydata.org/pandas-docs/stable/user_guide/indexing.html#returning-a-view-versus-a-copy\n",
      "  test['계약년월'] = test['계약년월'].astype(int)\n",
      "/tmp/ipykernel_39433/1406592219.py:10: SettingWithCopyWarning: \n",
      "A value is trying to be set on a copy of a slice from a DataFrame.\n",
      "Try using .loc[row_indexer,col_indexer] = value instead\n",
      "\n",
      "See the caveats in the documentation: https://pandas.pydata.org/pandas-docs/stable/user_guide/indexing.html#returning-a-view-versus-a-copy\n",
      "  test['계약연도'] = test['계약년월'] // 100\n",
      "/tmp/ipykernel_39433/1406592219.py:11: SettingWithCopyWarning: \n",
      "A value is trying to be set on a copy of a slice from a DataFrame.\n",
      "Try using .loc[row_indexer,col_indexer] = value instead\n",
      "\n",
      "See the caveats in the documentation: https://pandas.pydata.org/pandas-docs/stable/user_guide/indexing.html#returning-a-view-versus-a-copy\n",
      "  test['계약월'] = test['계약년월'] % 100\n",
      "/tmp/ipykernel_39433/1406592219.py:17: SettingWithCopyWarning: \n",
      "A value is trying to be set on a copy of a slice from a DataFrame.\n",
      "Try using .loc[row_indexer,col_indexer] = value instead\n",
      "\n",
      "See the caveats in the documentation: https://pandas.pydata.org/pandas-docs/stable/user_guide/indexing.html#returning-a-view-versus-a-copy\n",
      "  test['계약월수']  = (test['계약연도'] - base_year) * 12 + (test['계약월'] - base_month)\n"
     ]
    }
   ],
   "source": [
    "# === 계약년월 ===\n",
    "\n",
    "# float > int로 변환\n",
    "train['계약년월'] = train['계약년월'].astype(int)\n",
    "test['계약년월'] = test['계약년월'].astype(int)\n",
    "\n",
    "# 계약연도, 계약월로 나누기\n",
    "train['계약연도'] = train['계약년월'] // 100\n",
    "train['계약월'] = train['계약년월'] % 100\n",
    "test['계약연도'] = test['계약년월'] // 100\n",
    "test['계약월'] = test['계약년월'] % 100\n",
    "\n",
    "# 계약월수 파생변수 만들기\n",
    "base = train['계약년월'].min()\n",
    "base_year, base_month = base // 100, base % 100\n",
    "train['계약월수'] = (train['계약연도'] - base_year) * 12 + (train['계약월'] - base_month)\n",
    "test['계약월수']  = (test['계약연도'] - base_year) * 12 + (test['계약월'] - base_month)\n",
    "\n",
    "# 계약월수 가중치 두기 > 최근 데이터를 더 많이 참고하도록\n",
    "    # 계약월수 기준으로 1~2 사이 가중치 부여 (최근일수록 2에 가까움)\n",
    "max_month = train['계약월수'].max()\n",
    "train['계약월수_가중치'] = 1 + (train['계약월수'] / max_month)"
   ]
  },
  {
   "cell_type": "code",
   "execution_count": 221,
   "id": "232d8e00-7487-405b-9958-fd2bba567305",
   "metadata": {},
   "outputs": [
    {
     "name": "stderr",
     "output_type": "stream",
     "text": [
      "/tmp/ipykernel_39433/4005603399.py:5: SettingWithCopyWarning: \n",
      "A value is trying to be set on a copy of a slice from a DataFrame.\n",
      "Try using .loc[row_indexer,col_indexer] = value instead\n",
      "\n",
      "See the caveats in the documentation: https://pandas.pydata.org/pandas-docs/stable/user_guide/indexing.html#returning-a-view-versus-a-copy\n",
      "  test['주차대수_clipped']  = np.clip(test['주차대수'], None, cap)\n",
      "/tmp/ipykernel_39433/4005603399.py:8: SettingWithCopyWarning: \n",
      "A value is trying to be set on a copy of a slice from a DataFrame.\n",
      "Try using .loc[row_indexer,col_indexer] = value instead\n",
      "\n",
      "See the caveats in the documentation: https://pandas.pydata.org/pandas-docs/stable/user_guide/indexing.html#returning-a-view-versus-a-copy\n",
      "  test['주차대수_log']  = np.log1p(test['주차대수_clipped'])\n"
     ]
    }
   ],
   "source": [
    "# === 주차대수 ===\n",
    "\n",
    "cap = train['주차대수'].quantile(0.99)\n",
    "train['주차대수_clipped'] = np.clip(train['주차대수'], None, cap)\n",
    "test['주차대수_clipped']  = np.clip(test['주차대수'], None, cap)\n",
    "\n",
    "train['주차대수_log'] = np.log1p(train['주차대수_clipped'])\n",
    "test['주차대수_log']  = np.log1p(test['주차대수_clipped'])"
   ]
  },
  {
   "cell_type": "code",
   "execution_count": 225,
   "id": "49023ecb-ac19-4c31-a506-71d2c6f4b966",
   "metadata": {},
   "outputs": [
    {
     "name": "stdout",
     "output_type": "stream",
     "text": [
      "['일반' '자이' '주공' '래미안' '롯데캐슬' 'e편한세상' '센트레빌' '더샵' '아이파크' '푸르지오' '힐스테이트'\n",
      " '기타']\n",
      "['일반' '더샵' '주공' '래미안' '자이' '힐스테이트' '센트레빌' '푸르지오' '롯데캐슬' 'e편한세상' '아이파크'\n",
      " '기타']\n"
     ]
    },
    {
     "name": "stderr",
     "output_type": "stream",
     "text": [
      "/tmp/ipykernel_39433/2935008589.py:7: SettingWithCopyWarning: \n",
      "A value is trying to be set on a copy of a slice from a DataFrame.\n",
      "Try using .loc[row_indexer,col_indexer] = value instead\n",
      "\n",
      "See the caveats in the documentation: https://pandas.pydata.org/pandas-docs/stable/user_guide/indexing.html#returning-a-view-versus-a-copy\n",
      "  test['브랜드명_단순화']  = test['브랜드명'].replace(rare_brands, '기타')\n"
     ]
    }
   ],
   "source": [
    "# === 브랜드명 ===\n",
    "\n",
    "# 희소 브랜드 > '기타'로 처리\n",
    "rare_brands = ['유보라', '스위첸']\n",
    "\n",
    "train['브랜드명_단순화'] = train['브랜드명'].replace(rare_brands, '기타')\n",
    "test['브랜드명_단순화']  = test['브랜드명'].replace(rare_brands, '기타')\n",
    "\n",
    "# 결과 확인\n",
    "print(train['브랜드명_단순화'].unique())\n",
    "print(test['브랜드명_단순화'].unique())"
   ]
  },
  {
   "cell_type": "code",
   "execution_count": 232,
   "id": "c686bf2d-76de-47fd-aa4b-17d39b05bd37",
   "metadata": {},
   "outputs": [
    {
     "name": "stderr",
     "output_type": "stream",
     "text": [
      "/tmp/ipykernel_39433/1093546937.py:4: SettingWithCopyWarning: \n",
      "A value is trying to be set on a copy of a slice from a DataFrame.\n",
      "Try using .loc[row_indexer,col_indexer] = value instead\n",
      "\n",
      "See the caveats in the documentation: https://pandas.pydata.org/pandas-docs/stable/user_guide/indexing.html#returning-a-view-versus-a-copy\n",
      "  test['버스거리_clipped']  = np.clip(test['버스거리'], None, cap_bus)\n",
      "/tmp/ipykernel_39433/1093546937.py:7: SettingWithCopyWarning: \n",
      "A value is trying to be set on a copy of a slice from a DataFrame.\n",
      "Try using .loc[row_indexer,col_indexer] = value instead\n",
      "\n",
      "See the caveats in the documentation: https://pandas.pydata.org/pandas-docs/stable/user_guide/indexing.html#returning-a-view-versus-a-copy\n",
      "  test['버스거리_log']  = test['버스거리_clipped']\n"
     ]
    }
   ],
   "source": [
    "# === 버스거리 ===\n",
    "cap_bus = train['버스거리'].quantile(0.99)\n",
    "train['버스거리_clipped'] = np.clip(train['버스거리'], None, cap_bus)\n",
    "test['버스거리_clipped']  = np.clip(test['버스거리'], None, cap_bus)\n",
    "\n",
    "train['버스거리_log'] = train['버스거리_clipped']\n",
    "test['버스거리_log']  = test['버스거리_clipped']"
   ]
  },
  {
   "cell_type": "code",
   "execution_count": 247,
   "id": "c6389672-3f78-454c-b0ab-1c1a5dd4a3e2",
   "metadata": {},
   "outputs": [
    {
     "name": "stderr",
     "output_type": "stream",
     "text": [
      "/tmp/ipykernel_39433/753838733.py:4: SettingWithCopyWarning: \n",
      "A value is trying to be set on a copy of a slice from a DataFrame.\n",
      "Try using .loc[row_indexer,col_indexer] = value instead\n",
      "\n",
      "See the caveats in the documentation: https://pandas.pydata.org/pandas-docs/stable/user_guide/indexing.html#returning-a-view-versus-a-copy\n",
      "  test['지하철거리_clipped']  = np.clip(test['지하철거리'], None, cap_sub)\n",
      "/tmp/ipykernel_39433/753838733.py:7: SettingWithCopyWarning: \n",
      "A value is trying to be set on a copy of a slice from a DataFrame.\n",
      "Try using .loc[row_indexer,col_indexer] = value instead\n",
      "\n",
      "See the caveats in the documentation: https://pandas.pydata.org/pandas-docs/stable/user_guide/indexing.html#returning-a-view-versus-a-copy\n",
      "  test['지하철거리_log']  = test['지하철거리_clipped']\n"
     ]
    }
   ],
   "source": [
    "# === 지하철거리 ===\n",
    "cap_sub = train['지하철거리'].quantile(0.99)\n",
    "train['지하철거리_clipped'] = np.clip(train['지하철거리'], None, cap_sub)\n",
    "test['지하철거리_clipped']  = np.clip(test['지하철거리'], None, cap_sub)\n",
    "\n",
    "train['지하철거리_log'] = train['지하철거리_clipped']\n",
    "test['지하철거리_log']  = test['지하철거리_clipped']"
   ]
  },
  {
   "cell_type": "code",
   "execution_count": 258,
   "id": "58b9e7ca-4c1f-4623-bbe6-385dbb3c3dc7",
   "metadata": {},
   "outputs": [
    {
     "name": "stderr",
     "output_type": "stream",
     "text": [
      "/tmp/ipykernel_39433/4228524035.py:4: SettingWithCopyWarning: \n",
      "A value is trying to be set on a copy of a slice from a DataFrame.\n",
      "Try using .loc[row_indexer,col_indexer] = value instead\n",
      "\n",
      "See the caveats in the documentation: https://pandas.pydata.org/pandas-docs/stable/user_guide/indexing.html#returning-a-view-versus-a-copy\n",
      "  test['초등학교거리_clipped']  = np.clip(test['초등학교거리'], None, cap_elm)\n",
      "/tmp/ipykernel_39433/4228524035.py:7: SettingWithCopyWarning: \n",
      "A value is trying to be set on a copy of a slice from a DataFrame.\n",
      "Try using .loc[row_indexer,col_indexer] = value instead\n",
      "\n",
      "See the caveats in the documentation: https://pandas.pydata.org/pandas-docs/stable/user_guide/indexing.html#returning-a-view-versus-a-copy\n",
      "  test['초등학교거리_log']  = test['초등학교거리_clipped']\n"
     ]
    }
   ],
   "source": [
    "# === 초등학교거리 ===\n",
    "cap_elm = train['초등학교거리'].quantile(0.99)\n",
    "train['초등학교거리_clipped'] = np.clip(train['초등학교거리'], None, cap_elm)\n",
    "test['초등학교거리_clipped']  = np.clip(test['초등학교거리'], None, cap_elm)\n",
    "\n",
    "train['초등학교거리_log'] = train['초등학교거리_clipped']\n",
    "test['초등학교거리_log']  = test['초등학교거리_clipped']"
   ]
  },
  {
   "cell_type": "code",
   "execution_count": 263,
   "id": "cb26489a-c320-47c0-a287-ab017d84d8e2",
   "metadata": {},
   "outputs": [
    {
     "name": "stderr",
     "output_type": "stream",
     "text": [
      "/tmp/ipykernel_39433/2265114474.py:4: SettingWithCopyWarning: \n",
      "A value is trying to be set on a copy of a slice from a DataFrame.\n",
      "Try using .loc[row_indexer,col_indexer] = value instead\n",
      "\n",
      "See the caveats in the documentation: https://pandas.pydata.org/pandas-docs/stable/user_guide/indexing.html#returning-a-view-versus-a-copy\n",
      "  test['elite_min_dist_km_clipped']  = np.clip(test['elite_min_dist_km'], None, cap_elt)\n",
      "/tmp/ipykernel_39433/2265114474.py:7: SettingWithCopyWarning: \n",
      "A value is trying to be set on a copy of a slice from a DataFrame.\n",
      "Try using .loc[row_indexer,col_indexer] = value instead\n",
      "\n",
      "See the caveats in the documentation: https://pandas.pydata.org/pandas-docs/stable/user_guide/indexing.html#returning-a-view-versus-a-copy\n",
      "  test['elite_min_dist_km_log']  = test['elite_min_dist_km_clipped']\n"
     ]
    }
   ],
   "source": [
    "# === elite_min_dist_km ===\n",
    "cap_elt = train['elite_min_dist_km'].quantile(0.99)\n",
    "train['elite_min_dist_km_clipped'] = np.clip(train['elite_min_dist_km'], None, cap_elt)\n",
    "test['elite_min_dist_km_clipped']  = np.clip(test['elite_min_dist_km'], None, cap_elt)\n",
    "\n",
    "train['elite_min_dist_km_log'] = train['elite_min_dist_km_clipped']\n",
    "test['elite_min_dist_km_log']  = test['elite_min_dist_km_clipped']"
   ]
  },
  {
   "cell_type": "code",
   "execution_count": 316,
   "id": "2dfe033f-83e6-4dd6-96e5-2e238a0a8820",
   "metadata": {},
   "outputs": [
    {
     "name": "stderr",
     "output_type": "stream",
     "text": [
      "/tmp/ipykernel_39433/3304460989.py:11: SettingWithCopyWarning: \n",
      "A value is trying to be set on a copy of a slice from a DataFrame.\n",
      "Try using .loc[row_indexer,col_indexer] = value instead\n",
      "\n",
      "See the caveats in the documentation: https://pandas.pydata.org/pandas-docs/stable/user_guide/indexing.html#returning-a-view-versus-a-copy\n",
      "  test['target_prev6month_clipped']  = np.clip(test['target_prev6month'], None, cap_prev6)\n",
      "/tmp/ipykernel_39433/3304460989.py:13: SettingWithCopyWarning: \n",
      "A value is trying to be set on a copy of a slice from a DataFrame.\n",
      "Try using .loc[row_indexer,col_indexer] = value instead\n",
      "\n",
      "See the caveats in the documentation: https://pandas.pydata.org/pandas-docs/stable/user_guide/indexing.html#returning-a-view-versus-a-copy\n",
      "  test['target_prev6month_log'] = np.log1p(test['target_prev6month_clipped'])\n",
      "/tmp/ipykernel_39433/3304460989.py:18: SettingWithCopyWarning: \n",
      "A value is trying to be set on a copy of a slice from a DataFrame.\n",
      "Try using .loc[row_indexer,col_indexer] = value instead\n",
      "\n",
      "See the caveats in the documentation: https://pandas.pydata.org/pandas-docs/stable/user_guide/indexing.html#returning-a-view-versus-a-copy\n",
      "  test['target_prev3month_clipped']  = np.clip(test['target_prev3month'],  None, cap_prev3)\n",
      "/tmp/ipykernel_39433/3304460989.py:20: SettingWithCopyWarning: \n",
      "A value is trying to be set on a copy of a slice from a DataFrame.\n",
      "Try using .loc[row_indexer,col_indexer] = value instead\n",
      "\n",
      "See the caveats in the documentation: https://pandas.pydata.org/pandas-docs/stable/user_guide/indexing.html#returning-a-view-versus-a-copy\n",
      "  test['target_prev3month_log']  = np.log1p(test['target_prev3month_clipped'])\n"
     ]
    }
   ],
   "source": [
    "# === target 관련 변수===\n",
    "\n",
    "# target\n",
    "cap_tar = train['target'].quantile(0.99)\n",
    "train['target_clipped'] = np.clip(train['target'], None, cap_tar)\n",
    "#train['target_log'] = np.log1p(train['target_clipped'])\n",
    "\n",
    "# target_prev6month\n",
    "cap_prev6 = train['target_prev6month'].quantile(0.99)\n",
    "train['target_prev6month_clipped'] = np.clip(train['target_prev6month'], None, cap_prev6)\n",
    "test['target_prev6month_clipped']  = np.clip(test['target_prev6month'], None, cap_prev6)\n",
    "train['target_prev6month_log'] = np.log1p(train['target_prev6month_clipped'])\n",
    "test['target_prev6month_log'] = np.log1p(test['target_prev6month_clipped'])\n",
    "\n",
    "# target_prev3month\n",
    "cap_prev3 = train['target_prev3month'].quantile(0.99)\n",
    "train['target_prev3month_clipped'] = np.clip(train['target_prev3month'], None, cap_prev3)\n",
    "test['target_prev3month_clipped']  = np.clip(test['target_prev3month'],  None, cap_prev3)\n",
    "train['target_prev3month_log'] = np.log1p(train['target_prev3month_clipped'])\n",
    "test['target_prev3month_log']  = np.log1p(test['target_prev3month_clipped'])"
   ]
  },
  {
   "cell_type": "code",
   "execution_count": 303,
   "id": "e7ff7904-9285-472a-a3c9-84e2945ab5f5",
   "metadata": {},
   "outputs": [
    {
     "name": "stderr",
     "output_type": "stream",
     "text": [
      "/tmp/ipykernel_39433/1312526860.py:4: SettingWithCopyWarning: \n",
      "A value is trying to be set on a copy of a slice from a DataFrame.\n",
      "Try using .loc[row_indexer,col_indexer] = value instead\n",
      "\n",
      "See the caveats in the documentation: https://pandas.pydata.org/pandas-docs/stable/user_guide/indexing.html#returning-a-view-versus-a-copy\n",
      "  test['대장아파트거리_clipped']  = np.clip(test['대장아파트거리'], None, cap_apt)\n"
     ]
    }
   ],
   "source": [
    "# === 대장아파트거리 ===\n",
    "cap_apt = train['대장아파트거리'].quantile(0.99)\n",
    "train['대장아파트거리_clipped'] = np.clip(train['대장아파트거리'], None, cap_apt)\n",
    "test['대장아파트거리_clipped']  = np.clip(test['대장아파트거리'], None, cap_apt)"
   ]
  },
  {
   "cell_type": "code",
   "execution_count": 293,
   "id": "423ba2c4-c466-4f0a-8081-5026f63a5974",
   "metadata": {},
   "outputs": [
    {
     "name": "stdout",
     "output_type": "stream",
     "text": [
      "Index(['전용면적(㎡)', '전용면적구간', '전용면적(log)', '건축년도', '연식', '계약년월', '주차대수', '브랜드명',\n",
      "       '거래유형', '시군구', '구', 'x좌표', 'y좌표', '강남권여부', 'zone4_강남3', '버스거리', '지하철거리',\n",
      "       '초등학교거리', '1km이내학교수', 'elite_min_dist_km', 'target_prev6month',\n",
      "       'target_prev3month', '대장아파트거리', 'target', '전용면적구간_구간화', '주차대수_clipped',\n",
      "       '주차대수_log', '브랜드명_단순화', '버스거리_clipped', '버스거리_log', '계약연도', '계약월',\n",
      "       '계약월수', '계약월수_가중치', '지하철거리_clipped', '지하철거리_log', '초등학교거리_clipped',\n",
      "       '초등학교거리_log', 'elite_min_dist_km_clipped', 'elite_min_dist_km_log',\n",
      "       'target_clipped', 'target_log', 'target_prev6month_clipped',\n",
      "       'target_prev6month_log', 'target_prev3month_clipped',\n",
      "       'target_prev3month_log'],\n",
      "      dtype='object')\n"
     ]
    }
   ],
   "source": [
    "print(train.columns)"
   ]
  },
  {
   "cell_type": "code",
   "execution_count": 323,
   "id": "05754422-2d38-4227-9237-d81b54851598",
   "metadata": {},
   "outputs": [],
   "source": [
    "new_col = [\n",
    "    # 부동산 자체 특성 (건물·단지 속성)\n",
    "    '전용면적(㎡)', '전용면적구간_구간화', '전용면적(log)', \n",
    "    '연식', '계약월수',\n",
    "    '주차대수_log', '브랜드명_단순화', '거래유형',\n",
    "    # 입지/지역 특성\n",
    "    '구', 'x좌표', 'y좌표', '강남권여부',\n",
    "    # 교통 접근성\n",
    "    '버스거리_log', '지하철거리_log',\n",
    "    # 학군/교육 환경\n",
    "    '초등학교거리_log', '1km이내학교수', 'elite_min_dist_km_log',\n",
    "    # 시장/시세 흐름 변수\n",
    "    'target_prev6month_log', 'target_prev3month_log', '대장아파트거리_clipped'\n",
    "]"
   ]
  },
  {
   "cell_type": "code",
   "execution_count": 324,
   "id": "1e72fc93-1f94-4378-a7e7-21d80be3115f",
   "metadata": {},
   "outputs": [],
   "source": [
    "train_new = train[new_col + ['target_clipped']]\n",
    "test_new = test[new_col]"
   ]
  },
  {
   "cell_type": "code",
   "execution_count": 325,
   "id": "f460fbba-ef9d-4c15-9b15-08aec1131395",
   "metadata": {},
   "outputs": [
    {
     "name": "stdout",
     "output_type": "stream",
     "text": [
      "Index(['전용면적(㎡)', '전용면적구간_구간화', '전용면적(log)', '연식', '계약월수', '주차대수_log',\n",
      "       '브랜드명_단순화', '거래유형', '구', 'x좌표', 'y좌표', '강남권여부', '버스거리_log', '지하철거리_log',\n",
      "       '초등학교거리_log', '1km이내학교수', 'elite_min_dist_km_log',\n",
      "       'target_prev6month_log', 'target_prev3month_log', '대장아파트거리_clipped',\n",
      "       'target_clipped'],\n",
      "      dtype='object')\n",
      "==========================================================================================\n",
      "Index(['전용면적(㎡)', '전용면적구간_구간화', '전용면적(log)', '연식', '계약월수', '주차대수_log',\n",
      "       '브랜드명_단순화', '거래유형', '구', 'x좌표', 'y좌표', '강남권여부', '버스거리_log', '지하철거리_log',\n",
      "       '초등학교거리_log', '1km이내학교수', 'elite_min_dist_km_log',\n",
      "       'target_prev6month_log', 'target_prev3month_log', '대장아파트거리_clipped'],\n",
      "      dtype='object')\n"
     ]
    }
   ],
   "source": [
    "print(train_new.columns)\n",
    "print('==========================================================================================')\n",
    "print(test_new.columns)"
   ]
  },
  {
   "cell_type": "code",
   "execution_count": 326,
   "id": "57449633-a8ea-4130-b773-e939c672204f",
   "metadata": {},
   "outputs": [
    {
     "name": "stdout",
     "output_type": "stream",
     "text": [
      "(109938, 21)\n",
      "(9272, 20)\n",
      "==========================================================================================\n",
      "전용면적(㎡)                  0\n",
      "전용면적구간_구간화               0\n",
      "전용면적(log)                0\n",
      "연식                       0\n",
      "계약월수                     0\n",
      "주차대수_log                 0\n",
      "브랜드명_단순화                 0\n",
      "거래유형                     0\n",
      "구                        0\n",
      "x좌표                      0\n",
      "y좌표                      0\n",
      "강남권여부                    0\n",
      "버스거리_log                 0\n",
      "지하철거리_log                0\n",
      "초등학교거리_log               0\n",
      "1km이내학교수                 0\n",
      "elite_min_dist_km_log    0\n",
      "target_prev6month_log    0\n",
      "target_prev3month_log    0\n",
      "대장아파트거리_clipped          0\n",
      "target_clipped           0\n",
      "dtype: int64\n",
      "==========================================================================================\n",
      "전용면적(㎡)                  0\n",
      "전용면적구간_구간화               0\n",
      "전용면적(log)                0\n",
      "연식                       0\n",
      "계약월수                     0\n",
      "주차대수_log                 0\n",
      "브랜드명_단순화                 0\n",
      "거래유형                     0\n",
      "구                        0\n",
      "x좌표                      0\n",
      "y좌표                      0\n",
      "강남권여부                    0\n",
      "버스거리_log                 0\n",
      "지하철거리_log                0\n",
      "초등학교거리_log               0\n",
      "1km이내학교수                 0\n",
      "elite_min_dist_km_log    0\n",
      "target_prev6month_log    0\n",
      "target_prev3month_log    0\n",
      "대장아파트거리_clipped          0\n",
      "dtype: int64\n"
     ]
    }
   ],
   "source": [
    "print(train_new.shape)\n",
    "print(test_new.shape)\n",
    "print('==========================================================================================')\n",
    "print(train_new.isna().sum())\n",
    "print('==========================================================================================')\n",
    "print(test_new.isna().sum())"
   ]
  },
  {
   "cell_type": "code",
   "execution_count": 327,
   "id": "b079b1a2-d552-43f9-a31d-7f8313b0854d",
   "metadata": {},
   "outputs": [],
   "source": [
    "train_new.to_csv('train_new.csv', index=False, encoding='utf-8-sig')\n",
    "test_new.to_csv('test_new.csv', index=False, encoding='utf-8-sig')"
   ]
  }
 ],
 "metadata": {
  "kernelspec": {
   "display_name": "Python 3 (ipykernel)",
   "language": "python",
   "name": "python3"
  },
  "language_info": {
   "codemirror_mode": {
    "name": "ipython",
    "version": 3
   },
   "file_extension": ".py",
   "mimetype": "text/x-python",
   "name": "python",
   "nbconvert_exporter": "python",
   "pygments_lexer": "ipython3",
   "version": "3.10.13"
  }
 },
 "nbformat": 4,
 "nbformat_minor": 5
}
